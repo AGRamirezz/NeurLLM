{
  "nbformat": 4,
  "nbformat_minor": 0,
  "metadata": {
    "colab": {
      "provenance": []
    },
    "kernelspec": {
      "name": "python3",
      "display_name": "Python 3"
    },
    "language_info": {
      "name": "python"
    }
  },
  "cells": [
    {
      "cell_type": "code",
      "execution_count": null,
      "metadata": {
        "id": "O1CcZ2poAHQu"
      },
      "outputs": [],
      "source": [
        "\"\"\"\n",
        "Hybrid EEG Foundation Model - Data Exploration Script for Google Colab\n",
        "====================================================================\n",
        "\n",
        "This script combines the power of standard libraries (eegdash, braindecode) with\n",
        "custom analysis capabilities for comprehensive EEG data exploration.\n",
        "\n",
        "Libraries Used:\n",
        "- eegdash: Competition data loading and caching\n",
        "- braindecode: EEG-specific preprocessing and model utilities\n",
        "- MNE: Advanced signal processing and visualization\n",
        "- Custom: Our specialized analysis and gentle preprocessing\n",
        "\n",
        "Usage in Google Colab:\n",
        "1. Mount Google Drive\n",
        "2. Install required packages\n",
        "3. Run sections sequentially for comprehensive EDA\n",
        "\n",
        "Author: Adolfo Ramirez-Aristizabal\n",
        "\"\"\""
      ]
    },
    {
      "cell_type": "markdown",
      "source": [
        "# SECTION 1: SETUP AND INSTALLATION (Google Colab)"
      ],
      "metadata": {
        "id": "oQ4ndUEuA7zR"
      }
    },
    {
      "cell_type": "code",
      "source": [
        "# Install competition-specific packages for Google Colab\n",
        "\n",
        "!pip install eegdash braindecode mne>=1.6.0 plotly>=5.17.0 einops>=0.7.0\n",
        "\n",
        "\n",
        "# Mount Google Drive (uncomment for Colab)\n",
        "\"\"\"\n",
        "from google.colab import drive\n",
        "drive.mount('/content/drive')\n",
        "\n",
        "# Navigate to project directory (adjust path as needed)\n",
        "import os\n",
        "project_path = '/content/drive/My Drive/My_Path/'\n",
        "os.chdir(project_path)\n",
        "print(f\"Current directory: {os.getcwd()}\")\n",
        "\"\"\""
      ],
      "metadata": {
        "colab": {
          "base_uri": "https://localhost:8080/",
          "height": 177
        },
        "id": "rR5CTdyIAsi1",
        "outputId": "72373593-f4b7-44ef-a4c2-08c820635d2a"
      },
      "execution_count": 1,
      "outputs": [
        {
          "output_type": "stream",
          "name": "stdout",
          "text": [
            "\u001b[31mERROR: pip's dependency resolver does not currently take into account all the packages that are installed. This behaviour is the source of the following dependency conflicts.\n",
            "google-colab 1.0.0 requires pandas==2.2.2, but you have pandas 2.3.2 which is incompatible.\n",
            "datasets 4.0.0 requires fsspec[http]<=2025.3.0,>=2023.1.0, but you have fsspec 2025.9.0 which is incompatible.\n",
            "dask-cudf-cu12 25.6.0 requires pandas<2.2.4dev0,>=2.0, but you have pandas 2.3.2 which is incompatible.\n",
            "cudf-cu12 25.6.0 requires pandas<2.2.4dev0,>=2.0, but you have pandas 2.3.2 which is incompatible.\n",
            "gcsfs 2025.3.0 requires fsspec==2025.3.0, but you have fsspec 2025.9.0 which is incompatible.\u001b[0m\u001b[31m\n",
            "\u001b[0m"
          ]
        },
        {
          "output_type": "execute_result",
          "data": {
            "text/plain": [
              "'\\nfrom google.colab import drive\\ndrive.mount(\\'/content/drive\\')\\n\\n# Navigate to project directory (adjust path as needed)\\nimport os\\nproject_path = \\'/content/drive/My Drive/Neuro_Foundation_Model/Neurips_25_EEG_Foundation_Challenge\\'\\nos.chdir(project_path)\\nprint(f\"Current directory: {os.getcwd()}\")\\n'"
            ],
            "application/vnd.google.colaboratory.intrinsic+json": {
              "type": "string"
            }
          },
          "metadata": {},
          "execution_count": 1
        }
      ]
    },
    {
      "cell_type": "markdown",
      "source": [
        "# SECTION 2: IMPORT LIBRARIES"
      ],
      "metadata": {
        "id": "vXlh3BDoDOXQ"
      }
    },
    {
      "cell_type": "code",
      "source": [
        "# Standard libraries\n",
        "import numpy as np\n",
        "import pandas as pd\n",
        "import matplotlib.pyplot as plt\n",
        "import seaborn as sns\n",
        "import plotly.graph_objects as go\n",
        "import plotly.express as px\n",
        "from plotly.subplots import make_subplots\n",
        "import warnings\n",
        "warnings.filterwarnings('ignore')\n",
        "\n",
        "# Competition libraries\n",
        "from eegdash.dataset import EEGChallengeDataset\n",
        "from braindecode.preprocessing import preprocess, Preprocessor, create_windows_from_events\n",
        "from braindecode.datasets import BaseConcatDataset\n",
        "from braindecode.models import EEGNeX\n",
        "\n",
        "# EEG processing\n",
        "import mne\n",
        "from scipy import signal\n",
        "from scipy.stats import pearsonr, entropy\n",
        "\n",
        "# Deep learning utilities\n",
        "import torch\n",
        "from torch.utils.data import DataLoader\n",
        "from einops import rearrange, reduce\n",
        "\n",
        "# Configure plotting and MNE\n",
        "plt.style.use('default')\n",
        "sns.set_palette(\"husl\")\n",
        "mne.set_log_level('WARNING')\n",
        "\n",
        "print(\"All libraries imported successfully!\")\n",
        "print(\"Ready for hybrid EEG analysis with standard + custom capabilities\")"
      ],
      "metadata": {
        "colab": {
          "base_uri": "https://localhost:8080/"
        },
        "id": "gMynWcSaAsgK",
        "outputId": "71e2faaa-f1e5-42d6-8b9e-024f5b97c99e"
      },
      "execution_count": 2,
      "outputs": [
        {
          "output_type": "stream",
          "name": "stdout",
          "text": [
            "All libraries imported successfully!\n",
            "Ready for hybrid EEG analysis with standard + custom capabilities\n"
          ]
        }
      ]
    },
    {
      "cell_type": "markdown",
      "source": [
        "# SECTION 3: DATA LOADING WITH EEGDASH"
      ],
      "metadata": {
        "id": "G9koHkroDikH"
      }
    },
    {
      "cell_type": "code",
      "source": [
        "def load_competition_data(task=\"contrastChangeDetection\", release=\"R5\", mini=True, cache_dir=\"./data\"):\n",
        "    \"\"\"\n",
        "    Load competition data using eegdash library\n",
        "\n",
        "    Parameters:\n",
        "    - task: Competition task name\n",
        "    - release: Data release (R5 for validation, others for training)\n",
        "    - mini: True for small subset, False for full dataset\n",
        "    - cache_dir: Local caching directory\n",
        "    \"\"\"\n",
        "    print(\"Loading Competition Data with EEGDash\")\n",
        "    print(\"=\" * 60)\n",
        "\n",
        "    try:\n",
        "        # Load dataset\n",
        "        print(f\"Loading task: {task}, release: {release}, mini: {mini}\")\n",
        "        dataset = EEGChallengeDataset(\n",
        "            task=task,\n",
        "            release=release,\n",
        "            cache_dir=cache_dir,\n",
        "            mini=mini\n",
        "        )\n",
        "\n",
        "        print(f\"Dataset loaded successfully!\")\n",
        "        print(f\"Total recordings: {len(dataset.datasets)}\")\n",
        "        print(f\"Cache directory: {cache_dir}\")\n",
        "\n",
        "        # Inspect first recording\n",
        "        first_recording = dataset.datasets[0]\n",
        "        raw = first_recording.raw\n",
        "\n",
        "        print(f\"\\nFirst Recording Summary:\")\n",
        "        print(f\"  Channels: {raw.info['nchan']}\")\n",
        "        print(f\"  Sampling rate: {raw.info['sfreq']} Hz\")\n",
        "        print(f\"  Duration: {raw.times[-1]:.1f} seconds\")\n",
        "        print(f\"  Data shape: {raw.get_data().shape}\")\n",
        "\n",
        "        return dataset, raw\n",
        "\n",
        "    except Exception as e:\n",
        "        print(f\"Error loading data: {e}\")\n",
        "        print(\"Tip: Ensure internet connection for initial download\")\n",
        "        return None, None\n",
        "\n",
        "def inspect_dataset_structure(dataset):\n",
        "    \"\"\"Inspect the structure of loaded dataset\"\"\"\n",
        "    print(\"\\nDATASET STRUCTURE INSPECTION\")\n",
        "    print(\"-\" * 40)\n",
        "\n",
        "    for i, ds in enumerate(dataset.datasets[:3]):  # First 3 recordings\n",
        "        raw = ds.raw\n",
        "        print(f\"\\nRecording {i+1}:\")\n",
        "        print(f\"  Subject: {getattr(ds, 'subject', 'Unknown')}\")\n",
        "        print(f\"  Session: {getattr(ds, 'session', 'Unknown')}\")\n",
        "        print(f\"  Channels: {raw.info['nchan']}\")\n",
        "        print(f\"  Duration: {raw.times[-1]:.1f}s\")\n",
        "        print(f\"  Sampling rate: {raw.info['sfreq']} Hz\")\n",
        "        print(f\"  Channel names (first 10): {raw.ch_names[:10]}\")\n",
        "\n",
        "        # Check for events/annotations\n",
        "        if hasattr(raw, 'annotations') and len(raw.annotations) > 0:\n",
        "            print(f\"  Annotations: {len(raw.annotations)} events\")\n",
        "            unique_descriptions = list(set(raw.annotations.description))\n",
        "            print(f\"  Event types: {unique_descriptions[:5]}\")  # First 5 types"
      ],
      "metadata": {
        "id": "a7FxPacjAsdz"
      },
      "execution_count": 3,
      "outputs": []
    },
    {
      "cell_type": "markdown",
      "source": [
        "# SECTION 4: BRAINDECODE PREPROCESSING PIPELINE"
      ],
      "metadata": {
        "id": "vQb_tWbXDqon"
      }
    },
    {
      "cell_type": "code",
      "source": [
        "def create_braindecode_preprocessing_pipeline(target_sfreq=100, l_freq=0.1, h_freq=50.0):\n",
        "    \"\"\"\n",
        "    Create standardized preprocessing pipeline using braindecode\n",
        "\n",
        "    Returns list of Preprocessor objects for braindecode.preprocess()\n",
        "    \"\"\"\n",
        "    print(\"\\nCreating Braindecode Preprocessing Pipeline\")\n",
        "    print(\"-\" * 50)\n",
        "\n",
        "    preprocessors = [\n",
        "        # 1. Bandpass filter (standard EEG range)\n",
        "        Preprocessor('filter', l_freq=l_freq, h_freq=h_freq, verbose=False),\n",
        "\n",
        "        # 2. Notch filter for line noise (60Hz in US)\n",
        "        Preprocessor('notch_filter', freqs=[60], verbose=False),\n",
        "\n",
        "        # 3. Resample to target frequency\n",
        "        Preprocessor('resample', sfreq=target_sfreq, verbose=False),\n",
        "\n",
        "        # 4. Set average reference (excluding bad channels)\n",
        "        Preprocessor('set_eeg_reference', ref_channels='average', verbose=False),\n",
        "    ]\n",
        "\n",
        "    print(\"Preprocessing pipeline created:\")\n",
        "    for i, prep in enumerate(preprocessors):\n",
        "        fn_name = prep.fn if isinstance(prep.fn, str) else prep.fn.__name__\n",
        "        print(f\"  {i+1}. {fn_name}: {prep.kwargs}\")\n",
        "\n",
        "    return preprocessors\n",
        "\n",
        "def apply_braindecode_preprocessing(dataset, preprocessors):\n",
        "    \"\"\"Apply braindecode preprocessing to dataset\"\"\"\n",
        "    print(\"\\nApplying Braindecode Preprocessing...\")\n",
        "\n",
        "    try:\n",
        "        # Apply preprocessing\n",
        "        preprocess(dataset, preprocessors, n_jobs=1)\n",
        "        print(\"Preprocessing completed successfully!\")\n",
        "\n",
        "        # Inspect results\n",
        "        first_raw = dataset.datasets[0].raw\n",
        "        print(f\"\\nPost-preprocessing Summary:\")\n",
        "        print(f\"  Channels: {first_raw.info['nchan']}\")\n",
        "        print(f\"  Sampling rate: {first_raw.info['sfreq']} Hz\")\n",
        "        print(f\"  Duration: {first_raw.times[-1]:.1f} seconds\")\n",
        "        print(f\"  Data shape: {first_raw.get_data().shape}\")\n",
        "\n",
        "        return True\n",
        "\n",
        "    except Exception as e:\n",
        "        print(f\"Preprocessing failed: {e}\")\n",
        "        return False"
      ],
      "metadata": {
        "id": "31wXtQLxDVyQ"
      },
      "execution_count": 12,
      "outputs": []
    },
    {
      "cell_type": "markdown",
      "source": [
        "# SECTION 5: ENHANCED SIGNAL ANALYSIS (HYBRID APPROACH)"
      ],
      "metadata": {
        "id": "6LR2MlEaD3Bv"
      }
    },
    {
      "cell_type": "code",
      "source": [
        "def analyze_signal_quality_hybrid(dataset, channel_analysis=True):\n",
        "    \"\"\"\n",
        "    Hybrid signal quality analysis combining braindecode data with custom analysis\n",
        "    \"\"\"\n",
        "    print(\"\\nHYBRID SIGNAL QUALITY ANALYSIS\")\n",
        "    print(\"=\" * 50)\n",
        "\n",
        "    all_recordings_stats = []\n",
        "\n",
        "    for i, ds in enumerate(dataset.datasets):\n",
        "        raw = ds.raw\n",
        "        eeg_data = raw.get_data()  # Shape: (n_channels, n_samples)\n",
        "        ch_names = raw.ch_names\n",
        "\n",
        "        print(f\"\\nRecording {i+1} Analysis:\")\n",
        "        print(f\"  Shape: {eeg_data.shape}\")\n",
        "        print(f\"  Sampling rate: {raw.info['sfreq']} Hz\")\n",
        "\n",
        "        # Basic statistics\n",
        "        stats = {\n",
        "            'recording': i+1,\n",
        "            'n_channels': eeg_data.shape[0],\n",
        "            'n_samples': eeg_data.shape[1],\n",
        "            'duration': eeg_data.shape[1] / raw.info['sfreq'],\n",
        "            'sfreq': raw.info['sfreq'],\n",
        "            'data_range_min': np.min(eeg_data),\n",
        "            'data_range_max': np.max(eeg_data),\n",
        "            'overall_std': np.std(eeg_data),\n",
        "            'nan_count': np.sum(np.isnan(eeg_data)),\n",
        "            'inf_count': np.sum(np.isinf(eeg_data))\n",
        "        }\n",
        "\n",
        "        print(f\"  Data range: {stats['data_range_min']:.3f} to {stats['data_range_max']:.3f}\")\n",
        "        print(f\"  Overall std: {stats['overall_std']:.3f}\")\n",
        "        print(f\"  Quality: NaN={stats['nan_count']}, Inf={stats['inf_count']}\")\n",
        "\n",
        "        # Channel-wise analysis (if requested)\n",
        "        if channel_analysis and i == 0:  # Only for first recording to save time\n",
        "            channel_stats = analyze_channel_quality(eeg_data, ch_names)\n",
        "            stats['channel_stats'] = channel_stats\n",
        "\n",
        "        all_recordings_stats.append(stats)\n",
        "\n",
        "    return all_recordings_stats\n",
        "\n",
        "def analyze_channel_quality(eeg_data, ch_names):\n",
        "    \"\"\"Analyze quality of individual channels\"\"\"\n",
        "    print(\"\\n  Channel Quality Analysis:\")\n",
        "\n",
        "    # Channel statistics\n",
        "    channel_stats = []\n",
        "    for i, ch_name in enumerate(ch_names):\n",
        "        ch_data = eeg_data[i, :]\n",
        "        stats = {\n",
        "            'channel': ch_name,\n",
        "            'mean': np.mean(ch_data),\n",
        "            'std': np.std(ch_data),\n",
        "            'var': np.var(ch_data),\n",
        "            'min': np.min(ch_data),\n",
        "            'max': np.max(ch_data),\n",
        "            'range': np.max(ch_data) - np.min(ch_data),\n",
        "            'zero_var': np.var(ch_data) == 0,\n",
        "            'has_nan': np.any(np.isnan(ch_data)),\n",
        "            'has_inf': np.any(np.isinf(ch_data))\n",
        "        }\n",
        "        channel_stats.append(stats)\n",
        "\n",
        "    # Identify problem channels\n",
        "    zero_var_channels = [s['channel'] for s in channel_stats if s['zero_var']]\n",
        "    nan_channels = [s['channel'] for s in channel_stats if s['has_nan']]\n",
        "    inf_channels = [s['channel'] for s in channel_stats if s['has_inf']]\n",
        "\n",
        "    print(f\"    Zero variance: {zero_var_channels if zero_var_channels else 'None'}\")\n",
        "    print(f\"    NaN channels: {nan_channels if nan_channels else 'None'}\")\n",
        "    print(f\"    Inf channels: {inf_channels if inf_channels else 'None'}\")\n",
        "\n",
        "    # High/low variance channels\n",
        "    variances = [s['var'] for s in channel_stats]\n",
        "    high_var_threshold = np.percentile(variances, 95)\n",
        "    low_var_threshold = np.percentile(variances, 5)\n",
        "\n",
        "    high_var_channels = [s['channel'] for s in channel_stats if s['var'] > high_var_threshold]\n",
        "    low_var_channels = [s['channel'] for s in channel_stats if s['var'] < low_var_threshold and not s['zero_var']]\n",
        "\n",
        "    print(f\"    High variance (top 5%): {high_var_channels[:5]}\")\n",
        "    print(f\"    Low variance (bottom 5%): {low_var_channels[:5]}\")\n",
        "\n",
        "    return pd.DataFrame(channel_stats)"
      ],
      "metadata": {
        "id": "WA0OU8gjDVve"
      },
      "execution_count": 5,
      "outputs": []
    },
    {
      "cell_type": "markdown",
      "source": [
        "# SECTION 6: FREQUENCY DOMAIN ANALYSIS WITH CUSTOM ENHANCEMENTS"
      ],
      "metadata": {
        "id": "6cMoRMT3EFby"
      }
    },
    {
      "cell_type": "code",
      "source": [
        "def analyze_frequency_domain_hybrid(dataset, freq_bands=None):\n",
        "    \"\"\"\n",
        "    Hybrid frequency analysis using braindecode data with custom frequency insights\n",
        "    \"\"\"\n",
        "    if freq_bands is None:\n",
        "        freq_bands = {\n",
        "            'delta': (0.5, 4),\n",
        "            'theta': (4, 8),\n",
        "            'alpha': (8, 13),\n",
        "            'beta': (13, 30),\n",
        "            'gamma': (30, 50)\n",
        "        }\n",
        "\n",
        "    print(\"\\nHYBRID FREQUENCY DOMAIN ANALYSIS\")\n",
        "    print(\"=\" * 50)\n",
        "\n",
        "    frequency_results = []\n",
        "\n",
        "    for i, ds in enumerate(dataset.datasets[:2]):  # Analyze first 2 recordings\n",
        "        raw = ds.raw\n",
        "        eeg_data = raw.get_data()\n",
        "        sfreq = raw.info['sfreq']\n",
        "\n",
        "        print(f\"\\nRecording {i+1} Frequency Analysis:\")\n",
        "\n",
        "        # Compute PSD using Welch's method\n",
        "        freqs, psd = signal.welch(eeg_data, fs=sfreq, nperseg=int(2*sfreq), axis=1)\n",
        "\n",
        "        # Band power analysis\n",
        "        band_powers = {}\n",
        "        for band_name, (low_freq, high_freq) in freq_bands.items():\n",
        "            freq_mask = (freqs >= low_freq) & (freqs <= high_freq)\n",
        "            band_power = np.mean(psd[:, freq_mask], axis=1)  # Average across frequencies\n",
        "            band_powers[band_name] = band_power\n",
        "\n",
        "            print(f\"  {band_name.capitalize()} ({low_freq}-{high_freq} Hz): \"\n",
        "                  f\"mean={np.mean(band_power):.2e}, std={np.std(band_power):.2e}\")\n",
        "\n",
        "        # Custom frequency insights (from our original approach)\n",
        "        freq_insights = analyze_frequency_band_information_custom(\n",
        "            eeg_data, sfreq, raw.ch_names\n",
        "        )\n",
        "\n",
        "        frequency_results.append({\n",
        "            'recording': i+1,\n",
        "            'freqs': freqs,\n",
        "            'psd': psd,\n",
        "            'band_powers': band_powers,\n",
        "            'custom_insights': freq_insights\n",
        "        })\n",
        "\n",
        "    return frequency_results\n",
        "\n",
        "def analyze_frequency_band_information_custom(eeg_data, fs, channels):\n",
        "    \"\"\"\n",
        "    Custom frequency band analysis (adapted from our original EDA)\n",
        "    Analyzes information content and amplitude dominance\n",
        "    \"\"\"\n",
        "    frequency_categories = {\n",
        "        'Neural_EEG': (0.75, 45),\n",
        "        'Gamma_Mixed': (30, 90),\n",
        "        'EMG': (80, min(190, fs//2 - 1)),  # Ensure below Nyquist\n",
        "        'High_Noise': (180, min(250, fs//2 - 1))\n",
        "    }\n",
        "\n",
        "    results = {}\n",
        "\n",
        "    # Calculate PSD for full spectrum\n",
        "    freqs, psd = signal.welch(eeg_data, fs=fs, nperseg=1024, axis=1)\n",
        "\n",
        "    for category_name, (low_freq, high_freq) in frequency_categories.items():\n",
        "        # Skip if frequency range exceeds Nyquist\n",
        "        if low_freq >= fs//2:\n",
        "            continue\n",
        "\n",
        "        freq_mask = (freqs >= low_freq) & (freqs <= high_freq)\n",
        "        if not np.any(freq_mask):\n",
        "            continue\n",
        "\n",
        "        band_psd = psd[:, freq_mask]\n",
        "\n",
        "        # Amplitude dominance\n",
        "        total_power = np.sum(band_psd, axis=1)\n",
        "\n",
        "        # Information content (Shannon entropy)\n",
        "        shannon_entropy = []\n",
        "        for ch_idx in range(band_psd.shape[0]):\n",
        "            psd_norm = band_psd[ch_idx] / (np.sum(band_psd[ch_idx]) + 1e-12)\n",
        "            entropy_val = -np.sum(psd_norm * np.log2(psd_norm + 1e-12))\n",
        "            shannon_entropy.append(entropy_val)\n",
        "\n",
        "        results[category_name] = {\n",
        "            'total_power': total_power,\n",
        "            'mean_power': np.mean(total_power),\n",
        "            'shannon_entropy': np.array(shannon_entropy),\n",
        "            'mean_entropy': np.mean(shannon_entropy),\n",
        "            'freq_range': (low_freq, high_freq)\n",
        "        }\n",
        "\n",
        "    return results"
      ],
      "metadata": {
        "id": "vSbdsFCnDVsb"
      },
      "execution_count": 6,
      "outputs": []
    },
    {
      "cell_type": "markdown",
      "source": [
        "# SECTION 7: BRAINDECODE WINDOWING AND PYTORCH INTEGRATION"
      ],
      "metadata": {
        "id": "caE41UzhEVdY"
      }
    },
    {
      "cell_type": "code",
      "source": [
        "def create_competition_windows(dataset, window_length=2.0, shift_after_stim=0.5):\n",
        "    \"\"\"\n",
        "    Create windowed data following competition tutorial approach\n",
        "    \"\"\"\n",
        "    print(\"\\nCREATING COMPETITION-STYLE WINDOWS\")\n",
        "    print(\"=\" * 45)\n",
        "\n",
        "    try:\n",
        "        # Following the tutorial's approach for stimulus-locked windows\n",
        "        SFREQ = 100  # Target sampling rate after preprocessing\n",
        "        EPOCH_LEN_S = window_length\n",
        "        SHIFT_AFTER_STIM = shift_after_stim\n",
        "        WINDOW_LEN = window_length\n",
        "\n",
        "        # Create windows from events (this would need actual event processing)\n",
        "        # For now, we'll create simple fixed windows as a demonstration\n",
        "\n",
        "        windowed_datasets = []\n",
        "        total_windows = 0\n",
        "\n",
        "        for i, ds in enumerate(dataset.datasets):\n",
        "            raw = ds.raw\n",
        "            eeg_data = raw.get_data()\n",
        "            sfreq = raw.info['sfreq']\n",
        "\n",
        "            # Create non-overlapping windows\n",
        "            window_samples = int(window_length * sfreq)\n",
        "            step_samples = window_samples  # No overlap\n",
        "\n",
        "            n_windows = (eeg_data.shape[1] - window_samples) // step_samples + 1\n",
        "\n",
        "            windows = []\n",
        "            for w in range(n_windows):\n",
        "                start_idx = w * step_samples\n",
        "                end_idx = start_idx + window_samples\n",
        "                window_data = eeg_data[:, start_idx:end_idx]\n",
        "                windows.append(window_data)\n",
        "\n",
        "            windowed_datasets.append(np.stack(windows))\n",
        "            total_windows += n_windows\n",
        "\n",
        "            print(f\"  Recording {i+1}: {n_windows} windows of shape {windows[0].shape}\")\n",
        "\n",
        "        print(f\"\\nTotal windows created: {total_windows}\")\n",
        "        print(f\"Window shape: (n_channels={eeg_data.shape[0]}, n_times={window_samples})\")\n",
        "\n",
        "        return windowed_datasets\n",
        "\n",
        "    except Exception as e:\n",
        "        print(f\"Window creation failed: {e}\")\n",
        "        return None\n",
        "\n",
        "def create_pytorch_dataloader(windowed_data, batch_size=32, shuffle=True):\n",
        "    \"\"\"Create PyTorch DataLoader from windowed data\"\"\"\n",
        "    print(f\"\\nCreating PyTorch DataLoader (batch_size={batch_size})\")\n",
        "\n",
        "    # Combine all windows from all recordings\n",
        "    all_windows = np.concatenate(windowed_data, axis=0)\n",
        "\n",
        "    # Create dummy labels for demonstration (in real case, extract from events)\n",
        "    n_windows = all_windows.shape[0]\n",
        "    dummy_labels = np.random.randn(n_windows, 1)  # Regression targets\n",
        "\n",
        "    # Convert to PyTorch tensors\n",
        "    X = torch.tensor(all_windows, dtype=torch.float32)\n",
        "    y = torch.tensor(dummy_labels, dtype=torch.float32)\n",
        "\n",
        "    # Create dataset and dataloader\n",
        "    dataset = torch.utils.data.TensorDataset(X, y)\n",
        "    dataloader = DataLoader(dataset, batch_size=batch_size, shuffle=shuffle)\n",
        "\n",
        "    print(f\"DataLoader created:\")\n",
        "    print(f\"  Total samples: {len(dataset)}\")\n",
        "    print(f\"  Batch size: {batch_size}\")\n",
        "    print(f\"  Input shape: {X.shape}\")\n",
        "    print(f\"  Label shape: {y.shape}\")\n",
        "\n",
        "    return dataloader"
      ],
      "metadata": {
        "id": "fe5Car54EU4q"
      },
      "execution_count": 7,
      "outputs": []
    },
    {
      "cell_type": "markdown",
      "source": [
        "# SECTION 8: BASELINE MODEL COMPARISON"
      ],
      "metadata": {
        "id": "G9sqbJnuEqiv"
      }
    },
    {
      "cell_type": "code",
      "source": [
        "def create_eegneX_baseline(n_chans=129, n_times=200, sfreq=100):\n",
        "    \"\"\"Create EEGNeX baseline model for comparison\"\"\"\n",
        "    print(\"\\nCREATING EEGNEX BASELINE MODEL\")\n",
        "    print(\"=\" * 40)\n",
        "\n",
        "    try:\n",
        "        model = EEGNeX(\n",
        "            n_chans=n_chans,\n",
        "            n_outputs=1,  # Regression\n",
        "            n_times=n_times,\n",
        "            sfreq=sfreq\n",
        "        )\n",
        "\n",
        "        # Count parameters\n",
        "        total_params = sum(p.numel() for p in model.parameters())\n",
        "        trainable_params = sum(p.numel() for p in model.parameters() if p.requires_grad)\n",
        "\n",
        "        print(f\"EEGNeX Model Created:\")\n",
        "        print(f\"  Input shape: (batch, {n_chans}, {n_times})\")\n",
        "        print(f\"  Output: 1 (regression)\")\n",
        "        print(f\"  Total parameters: {total_params:,}\")\n",
        "        print(f\"  Trainable parameters: {trainable_params:,}\")\n",
        "\n",
        "        # Test forward pass\n",
        "        dummy_input = torch.randn(1, n_chans, n_times)\n",
        "        with torch.no_grad():\n",
        "            output = model(dummy_input)\n",
        "        print(f\"  Forward pass test: {dummy_input.shape} → {output.shape}\")\n",
        "\n",
        "        return model\n",
        "\n",
        "    except Exception as e:\n",
        "        print(f\"Model creation failed: {e}\")\n",
        "        return None\n",
        "\n",
        "def test_model_with_data(model, dataloader, device='cpu'):\n",
        "    \"\"\"Test model with actual data\"\"\"\n",
        "    print(f\"\\nTesting Model with Data (device={device})\")\n",
        "\n",
        "    model.to(device)\n",
        "    model.eval()\n",
        "\n",
        "    try:\n",
        "        # Get one batch\n",
        "        batch_X, batch_y = next(iter(dataloader))\n",
        "        batch_X, batch_y = batch_X.to(device), batch_y.to(device)\n",
        "\n",
        "        print(f\"  Batch input shape: {batch_X.shape}\")\n",
        "        print(f\"  Batch target shape: {batch_y.shape}\")\n",
        "\n",
        "        # Forward pass\n",
        "        with torch.no_grad():\n",
        "            predictions = model(batch_X)\n",
        "\n",
        "        print(f\"  Predictions shape: {predictions.shape}\")\n",
        "        print(f\"  Sample predictions: {predictions[:3].flatten().cpu().numpy()}\")\n",
        "        print(f\"  Sample targets: {batch_y[:3].flatten().cpu().numpy()}\")\n",
        "\n",
        "        # Compute loss\n",
        "        criterion = torch.nn.MSELoss()\n",
        "        loss = criterion(predictions, batch_y)\n",
        "        print(f\"  MSE Loss: {loss.item():.4f}\")\n",
        "\n",
        "        print(\"Model test successful!\")\n",
        "        return True\n",
        "\n",
        "    except Exception as e:\n",
        "        print(f\"Model test failed: {e}\")\n",
        "        return False"
      ],
      "metadata": {
        "id": "qpmiDCzIEUvd"
      },
      "execution_count": 8,
      "outputs": []
    },
    {
      "cell_type": "markdown",
      "source": [
        "# SECTION 9: COMPREHENSIVE VISUALIZATION SUITE"
      ],
      "metadata": {
        "id": "i5XpSxzVFIdk"
      }
    },
    {
      "cell_type": "code",
      "source": [
        "def create_comprehensive_visualizations(frequency_results, signal_stats):\n",
        "    \"\"\"Create comprehensive visualizations of the analysis results\"\"\"\n",
        "    print(\"\\nCREATING COMPREHENSIVE VISUALIZATIONS\")\n",
        "    print(\"=\" * 50)\n",
        "\n",
        "    # 1. Signal Quality Overview\n",
        "    create_signal_quality_plots(signal_stats)\n",
        "\n",
        "    # 2. Frequency Analysis Plots\n",
        "    create_frequency_analysis_plots(frequency_results)\n",
        "\n",
        "    # 3. Interactive Plotly Visualizations\n",
        "    create_interactive_frequency_plots(frequency_results)\n",
        "\n",
        "def create_signal_quality_plots(signal_stats):\n",
        "    \"\"\"Create signal quality visualization plots\"\"\"\n",
        "    fig, axes = plt.subplots(2, 2, figsize=(15, 10))\n",
        "\n",
        "    # Extract data for plotting\n",
        "    recordings = [s['recording'] for s in signal_stats]\n",
        "    durations = [s['duration'] for s in signal_stats]\n",
        "    data_ranges = [s['data_range_max'] - s['data_range_min'] for s in signal_stats]\n",
        "    overall_stds = [s['overall_std'] for s in signal_stats]\n",
        "    n_channels = [s['n_channels'] for s in signal_stats]\n",
        "\n",
        "    # Plot 1: Duration vs Recording\n",
        "    axes[0,0].bar(recordings, durations)\n",
        "    axes[0,0].set_title('Recording Durations')\n",
        "    axes[0,0].set_xlabel('Recording')\n",
        "    axes[0,0].set_ylabel('Duration (s)')\n",
        "\n",
        "    # Plot 2: Data Range vs Recording\n",
        "    axes[0,1].bar(recordings, data_ranges)\n",
        "    axes[0,1].set_title('Signal Amplitude Ranges')\n",
        "    axes[0,1].set_xlabel('Recording')\n",
        "    axes[0,1].set_ylabel('Amplitude Range')\n",
        "\n",
        "    # Plot 3: Standard Deviation\n",
        "    axes[1,0].bar(recordings, overall_stds)\n",
        "    axes[1,0].set_title('Overall Signal Variability')\n",
        "    axes[1,0].set_xlabel('Recording')\n",
        "    axes[1,0].set_ylabel('Standard Deviation')\n",
        "\n",
        "    # Plot 4: Channel Count\n",
        "    axes[1,1].bar(recordings, n_channels)\n",
        "    axes[1,1].set_title('Number of Channels')\n",
        "    axes[1,1].set_xlabel('Recording')\n",
        "    axes[1,1].set_ylabel('Channel Count')\n",
        "\n",
        "    plt.tight_layout()\n",
        "    plt.show()\n",
        "\n",
        "def create_frequency_analysis_plots(frequency_results):\n",
        "    \"\"\"Create frequency domain analysis plots\"\"\"\n",
        "    if not frequency_results:\n",
        "        print(\"No frequency results to plot\")\n",
        "        return\n",
        "\n",
        "    fig, axes = plt.subplots(2, 2, figsize=(15, 10))\n",
        "\n",
        "    for i, result in enumerate(frequency_results[:2]):\n",
        "        # PSD plot\n",
        "        freqs = result['freqs']\n",
        "        psd = result['psd']\n",
        "\n",
        "        # Average PSD across channels\n",
        "        mean_psd = np.mean(psd, axis=0)\n",
        "\n",
        "        axes[i, 0].semilogy(freqs, mean_psd)\n",
        "        axes[i, 0].set_title(f'Recording {i+1}: Average PSD')\n",
        "        axes[i, 0].set_xlabel('Frequency (Hz)')\n",
        "        axes[i, 0].set_ylabel('Power (µV²/Hz)')\n",
        "        axes[i, 0].grid(True, alpha=0.3)\n",
        "\n",
        "        # Band power comparison\n",
        "        band_powers = result['band_powers']\n",
        "        bands = list(band_powers.keys())\n",
        "        mean_powers = [np.mean(band_powers[band]) for band in bands]\n",
        "\n",
        "        axes[i, 1].bar(bands, mean_powers)\n",
        "        axes[i, 1].set_title(f'Recording {i+1}: Band Powers')\n",
        "        axes[i, 1].set_xlabel('Frequency Band')\n",
        "        axes[i, 1].set_ylabel('Mean Power')\n",
        "        axes[i, 1].tick_params(axis='x', rotation=45)\n",
        "\n",
        "    plt.tight_layout()\n",
        "    plt.show()\n",
        "\n",
        "def create_interactive_frequency_plots(frequency_results):\n",
        "    \"\"\"Create interactive Plotly visualizations\"\"\"\n",
        "    if not frequency_results:\n",
        "        print(\"No frequency results for interactive plots\")\n",
        "        return\n",
        "\n",
        "    # Create interactive PSD comparison\n",
        "    fig = make_subplots(\n",
        "        rows=1, cols=2,\n",
        "        subplot_titles=('Power Spectral Density', 'Band Power Comparison')\n",
        "    )\n",
        "\n",
        "    colors = ['blue', 'red', 'green', 'orange']\n",
        "\n",
        "    for i, result in enumerate(frequency_results):\n",
        "        freqs = result['freqs']\n",
        "        psd = result['psd']\n",
        "        mean_psd = np.mean(psd, axis=0)\n",
        "\n",
        "        # PSD plot\n",
        "        fig.add_trace(\n",
        "            go.Scatter(\n",
        "                x=freqs, y=mean_psd,\n",
        "                mode='lines',\n",
        "                name=f'Recording {i+1}',\n",
        "                line=dict(color=colors[i % len(colors)])\n",
        "            ),\n",
        "            row=1, col=1\n",
        "        )\n",
        "\n",
        "        # Band power plot\n",
        "        band_powers = result['band_powers']\n",
        "        bands = list(band_powers.keys())\n",
        "        mean_powers = [np.mean(band_powers[band]) for band in bands]\n",
        "\n",
        "        fig.add_trace(\n",
        "            go.Bar(\n",
        "                x=bands, y=mean_powers,\n",
        "                name=f'Recording {i+1}',\n",
        "                marker_color=colors[i % len(colors)],\n",
        "                opacity=0.7\n",
        "            ),\n",
        "            row=1, col=2\n",
        "        )\n",
        "\n",
        "    fig.update_xaxes(title_text=\"Frequency (Hz)\", row=1, col=1)\n",
        "    fig.update_yaxes(title_text=\"Power (µV²/Hz)\", type=\"log\", row=1, col=1)\n",
        "    fig.update_xaxes(title_text=\"Frequency Band\", row=1, col=2)\n",
        "    fig.update_yaxes(title_text=\"Mean Power\", row=1, col=2)\n",
        "\n",
        "    fig.update_layout(height=500, title_text=\"Interactive Frequency Analysis\")\n",
        "    fig.show()"
      ],
      "metadata": {
        "id": "geyFQ6FZDVjR"
      },
      "execution_count": 9,
      "outputs": []
    },
    {
      "cell_type": "markdown",
      "source": [
        "# SECTION 10: MAIN EXECUTION FUNCTION"
      ],
      "metadata": {
        "id": "OkO0o-TLFa61"
      }
    },
    {
      "cell_type": "code",
      "source": [
        "def run_hybrid_eda(task=\"contrastChangeDetection\", release=\"R5\", mini=True):\n",
        "    \"\"\"\n",
        "    Run comprehensive hybrid EDA combining standard libraries with custom analysis\n",
        "    \"\"\"\n",
        "    print(\"STARTING HYBRID EEG DATA EXPLORATION\")\n",
        "    print(\"=\" * 70)\n",
        "    print(f\"Task: {task}\")\n",
        "    print(f\"Release: {release}\")\n",
        "    print(f\"Mini dataset: {mini}\")\n",
        "\n",
        "    results = {}\n",
        "\n",
        "    # Step 1: Load data with eegdash\n",
        "    print(\"\\n\" + \"=\"*70)\n",
        "    print(\"STEP 1: DATA LOADING\")\n",
        "    dataset, first_raw = load_competition_data(task=task, release=release, mini=mini)\n",
        "    if dataset is None:\n",
        "        print(\"Failed to load data. Stopping analysis.\")\n",
        "        return None\n",
        "\n",
        "    results['dataset'] = dataset\n",
        "    results['first_raw'] = first_raw\n",
        "\n",
        "    # Step 2: Inspect dataset structure\n",
        "    inspect_dataset_structure(dataset)\n",
        "\n",
        "    # Step 3: Apply braindecode preprocessing\n",
        "    print(\"\\n\" + \"=\"*70)\n",
        "    print(\"STEP 2: BRAINDECODE PREPROCESSING\")\n",
        "    preprocessors = create_braindecode_preprocessing_pipeline()\n",
        "    preprocessing_success = apply_braindecode_preprocessing(dataset, preprocessors)\n",
        "\n",
        "    if not preprocessing_success:\n",
        "        print(\"Warning: Preprocessing failed, continuing with raw data\")\n",
        "\n",
        "    results['preprocessors'] = preprocessors\n",
        "    results['preprocessing_success'] = preprocessing_success\n",
        "\n",
        "    # Step 4: Signal quality analysis\n",
        "    print(\"\\n\" + \"=\"*70)\n",
        "    print(\"STEP 3: SIGNAL QUALITY ANALYSIS\")\n",
        "    signal_stats = analyze_signal_quality_hybrid(dataset, channel_analysis=True)\n",
        "    results['signal_stats'] = signal_stats\n",
        "\n",
        "    # Step 5: Frequency domain analysis\n",
        "    print(\"\\n\" + \"=\"*70)\n",
        "    print(\"STEP 4: FREQUENCY DOMAIN ANALYSIS\")\n",
        "    frequency_results = analyze_frequency_domain_hybrid(dataset)\n",
        "    results['frequency_results'] = frequency_results\n",
        "\n",
        "    # Step 6: Create windows for deep learning\n",
        "    print(\"\\n\" + \"=\"*70)\n",
        "    print(\"STEP 5: WINDOWING FOR DEEP LEARNING\")\n",
        "    windowed_data = create_competition_windows(dataset)\n",
        "    if windowed_data:\n",
        "        dataloader = create_pytorch_dataloader(windowed_data, batch_size=32)\n",
        "        results['windowed_data'] = windowed_data\n",
        "        results['dataloader'] = dataloader\n",
        "\n",
        "    # Step 7: Create baseline model\n",
        "    print(\"\\n\" + \"=\"*70)\n",
        "    print(\"STEP 6: BASELINE MODEL CREATION\")\n",
        "\n",
        "    # Get actual data dimensions from preprocessed data\n",
        "    sample_raw = dataset.datasets[0].raw\n",
        "    n_chans = sample_raw.info['nchan']\n",
        "    sfreq = sample_raw.info['sfreq']\n",
        "    n_times = int(2.0 * sfreq)  # 2 seconds\n",
        "\n",
        "    baseline_model = create_eegneX_baseline(n_chans=n_chans, n_times=n_times, sfreq=int(sfreq))\n",
        "    if baseline_model and windowed_data:\n",
        "        test_success = test_model_with_data(baseline_model, dataloader)\n",
        "        results['baseline_model'] = baseline_model\n",
        "        results['model_test_success'] = test_success\n",
        "\n",
        "    # Step 8: Create visualizations\n",
        "    print(\"\\n\" + \"=\"*70)\n",
        "    print(\"STEP 7: COMPREHENSIVE VISUALIZATIONS\")\n",
        "    create_comprehensive_visualizations(frequency_results, signal_stats)\n",
        "\n",
        "    # Step 9: Summary\n",
        "    print(\"\\n\" + \"=\"*70)\n",
        "    print(\"HYBRID EDA COMPLETE!\")\n",
        "    print(\"=\" * 70)\n",
        "\n",
        "    print(f\"\\nSUMMARY:\")\n",
        "    print(f\"  Recordings analyzed: {len(dataset.datasets)}\")\n",
        "    print(f\"  Preprocessing: {'Success' if preprocessing_success else 'Partial'}\")\n",
        "    print(f\"  Signal quality: {len(signal_stats)} recordings\")\n",
        "    print(f\"  Frequency analysis: {len(frequency_results)} recordings\")\n",
        "    if windowed_data:\n",
        "        total_windows = sum(len(wd) for wd in windowed_data)\n",
        "        print(f\"  Windows created: {total_windows}\")\n",
        "    if baseline_model:\n",
        "        print(f\"  Baseline model: EEGNeX ready\")\n",
        "\n",
        "    print(f\"\\nNEXT STEPS:\")\n",
        "    print(f\"  1. Experiment with different preprocessing parameters\")\n",
        "    print(f\"  2. Implement custom EEG-GPT architecture\")\n",
        "    print(f\"  3. Compare performance against EEGNeX baseline\")\n",
        "    print(f\"  4. Scale to full dataset (mini=False)\")\n",
        "\n",
        "    return results"
      ],
      "metadata": {
        "id": "N3cblqlYFD8Y"
      },
      "execution_count": 10,
      "outputs": []
    },
    {
      "cell_type": "markdown",
      "source": [
        "# EXAMPLE USAGE"
      ],
      "metadata": {
        "id": "CkbJ6YK7Fv0d"
      }
    },
    {
      "cell_type": "code",
      "source": [
        "if __name__ == \"__main__\":\n",
        "    # Run the comprehensive hybrid EDA\n",
        "    print(\"Starting Hybrid EEG Foundation Model EDA\")\n",
        "\n",
        "    # Load and analyze data\n",
        "    results = run_hybrid_eda(\n",
        "        task=\"contrastChangeDetection\",\n",
        "        release=\"R5\",\n",
        "        mini=True  # Start with mini dataset\n",
        "    )\n",
        "\n",
        "    if results:\n",
        "        print(\"\\nAnalysis complete! Results stored in 'results' dictionary.\")\n",
        "        print(\"Available keys:\", list(results.keys()))\n",
        "\n",
        "        print(\"\\nUSAGE EXAMPLES:\")\n",
        "        print(\"# Access loaded dataset\")\n",
        "        print(\"dataset = results['dataset']\")\n",
        "        print()\n",
        "        print(\"# Access PyTorch dataloader\")\n",
        "        print(\"dataloader = results['dataloader']\")\n",
        "        print()\n",
        "        print(\"# Access baseline model\")\n",
        "        print(\"model = results['baseline_model']\")\n",
        "        print()\n",
        "        print(\"# Start training loop\")\n",
        "        print(\"for batch_X, batch_y in dataloader:\")\n",
        "        print(\"    predictions = model(batch_X)\")\n",
        "        print(\"    # ... training code ...\")\n",
        "\n",
        "    else:\n",
        "        print(\"Analysis failed. Check internet connection and try again.\")"
      ],
      "metadata": {
        "colab": {
          "base_uri": "https://localhost:8080/",
          "height": 1000
        },
        "id": "NuLv-XWpFDqT",
        "outputId": "a70d3530-44ff-4a98-bd8a-c0d886554ce7"
      },
      "execution_count": 13,
      "outputs": [
        {
          "output_type": "stream",
          "name": "stdout",
          "text": [
            "Starting Hybrid EEG Foundation Model EDA\n",
            "STARTING HYBRID EEG DATA EXPLORATION\n",
            "======================================================================\n",
            "Task: contrastChangeDetection\n",
            "Release: R5\n",
            "Mini dataset: True\n",
            "\n",
            "======================================================================\n",
            "STEP 1: DATA LOADING\n",
            "Loading Competition Data with EEGDash\n",
            "============================================================\n",
            "Loading task: contrastChangeDetection, release: R5, mini: True\n",
            "Dataset loaded successfully!\n",
            "Total recordings: 60\n",
            "Cache directory: ./data\n",
            "\n",
            "First Recording Summary:\n",
            "  Channels: 129\n",
            "  Sampling rate: 100.0 Hz\n",
            "  Duration: 349.0 seconds\n",
            "  Data shape: (129, 34900)\n",
            "\n",
            "DATASET STRUCTURE INSPECTION\n",
            "----------------------------------------\n",
            "\n",
            "Recording 1:\n",
            "  Subject: Unknown\n",
            "  Session: Unknown\n",
            "  Channels: 129\n",
            "  Duration: 349.0s\n",
            "  Sampling rate: 100.0 Hz\n",
            "  Channel names (first 10): ['E1', 'E2', 'E3', 'E4', 'E5', 'E6', 'E7', 'E8', 'E9', 'E10']\n",
            "  Annotations: 75 events\n",
            "  Event types: [np.str_('left_target'), np.str_('right_buttonPress'), np.str_('contrastTrial_start'), np.str_('left_buttonPress'), np.str_('contrastChangeB1_start')]\n",
            "\n",
            "Recording 2:\n",
            "  Subject: Unknown\n",
            "  Session: Unknown\n",
            "  Channels: 129\n",
            "  Duration: 401.0s\n",
            "  Sampling rate: 100.0 Hz\n",
            "  Channel names (first 10): ['E1', 'E2', 'E3', 'E4', 'E5', 'E6', 'E7', 'E8', 'E9', 'E10']\n",
            "  Annotations: 74 events\n",
            "  Event types: [np.str_('left_target'), np.str_('right_buttonPress'), np.str_('contrastTrial_start'), np.str_('left_buttonPress'), np.str_('break cnt')]\n",
            "\n",
            "Recording 3:\n",
            "  Subject: Unknown\n",
            "  Session: Unknown\n",
            "  Channels: 129\n",
            "  Duration: 382.0s\n",
            "  Sampling rate: 100.0 Hz\n",
            "  Channel names (first 10): ['E1', 'E2', 'E3', 'E4', 'E5', 'E6', 'E7', 'E8', 'E9', 'E10']\n",
            "  Annotations: 77 events\n",
            "  Event types: [np.str_('left_target'), np.str_('right_buttonPress'), np.str_('contrastTrial_start'), np.str_('contrastChangeB3_start'), np.str_('left_buttonPress')]\n",
            "\n",
            "======================================================================\n",
            "STEP 2: BRAINDECODE PREPROCESSING\n",
            "\n",
            "Creating Braindecode Preprocessing Pipeline\n",
            "--------------------------------------------------\n",
            "Preprocessing pipeline created:\n",
            "  1. filter: {'l_freq': 0.1, 'h_freq': 50.0, 'verbose': False}\n",
            "  2. notch_filter: {'freqs': [60], 'verbose': False}\n",
            "  3. resample: {'sfreq': 100, 'verbose': False}\n",
            "  4. set_eeg_reference: {'ref_channels': 'average', 'verbose': False}\n",
            "\n",
            "Applying Braindecode Preprocessing...\n",
            "Preprocessing failed: lowpass frequency 50.0 must be less than Nyquist (50.0)\n",
            "Warning: Preprocessing failed, continuing with raw data\n",
            "\n",
            "======================================================================\n",
            "STEP 3: SIGNAL QUALITY ANALYSIS\n",
            "\n",
            "HYBRID SIGNAL QUALITY ANALYSIS\n",
            "==================================================\n",
            "\n",
            "Recording 1 Analysis:\n",
            "  Shape: (129, 34900)\n",
            "  Sampling rate: 100.0 Hz\n",
            "  Data range: -0.042 to 0.225\n",
            "  Overall std: 0.001\n",
            "  Quality: NaN=0, Inf=0\n",
            "\n",
            "  Channel Quality Analysis:\n",
            "    Zero variance: None\n",
            "    NaN channels: None\n",
            "    Inf channels: None\n",
            "    High variance (top 5%): ['E2', 'E48', 'E68', 'E73', 'E81']\n",
            "    Low variance (bottom 5%): ['E7', 'E13', 'E31', 'E80', 'E87']\n",
            "\n",
            "Recording 2 Analysis:\n",
            "  Shape: (129, 40100)\n",
            "  Sampling rate: 100.0 Hz\n",
            "  Data range: -0.013 to 0.020\n",
            "  Overall std: 0.000\n",
            "  Quality: NaN=0, Inf=0\n",
            "\n",
            "Recording 3 Analysis:\n",
            "  Shape: (129, 38200)\n",
            "  Sampling rate: 100.0 Hz\n",
            "  Data range: -0.015 to 0.014\n",
            "  Overall std: 0.000\n",
            "  Quality: NaN=0, Inf=0\n"
          ]
        },
        {
          "output_type": "stream",
          "name": "stderr",
          "text": [
            "Downloading sub-NDARAJ689BVN_task-surroundSupp_run-1_events.tsv: 100%|██████████| 1.00/1.00 [00:00<00:00, 4.15B/s]\n",
            "Downloading sub-NDARAJ689BVN_task-symbolSearch_events.tsv: 100%|██████████| 1.00/1.00 [00:00<00:00, 4.19B/s]\n",
            "Downloading sub-NDARAJ689BVN_task-contrastChangeDetection_run-2_events.tsv: 100%|██████████| 1.00/1.00 [00:00<00:00, 4.17B/s]\n",
            "Downloading sub-NDARAJ689BVN_task-FunwithFractals_events.tsv: 100%|██████████| 1.00/1.00 [00:00<00:00, 4.18B/s]\n",
            "Downloading sub-NDARAJ689BVN_task-seqLearning6target_events.tsv: 100%|██████████| 1.00/1.00 [00:00<00:00, 4.20B/s]\n",
            "Downloading sub-NDARAJ689BVN_task-contrastChangeDetection_run-1_events.tsv: 100%|██████████| 1.00/1.00 [00:00<00:00, 4.19B/s]\n",
            "Downloading sub-NDARAJ689BVN_task-surroundSupp_run-2_events.tsv: 100%|██████████| 1.00/1.00 [00:00<00:00, 4.18B/s]\n",
            "Downloading sub-NDARAJ689BVN_task-DiaryOfAWimpyKid_events.tsv: 100%|██████████| 1.00/1.00 [00:00<00:00, 4.15B/s]\n",
            "Downloading sub-NDARAJ689BVN_task-contrastChangeDetection_run-3_events.tsv: 100%|██████████| 1.00/1.00 [00:00<00:00, 4.15B/s]\n",
            "Downloading sub-NDARAJ689BVN_task-ThePresent_events.tsv: 100%|██████████| 1.00/1.00 [00:00<00:00, 4.30B/s]\n",
            "Downloading sub-NDARAJ689BVN_task-RestingState_events.tsv: 100%|██████████| 1.00/1.00 [00:00<00:00, 4.12B/s]\n",
            "Downloading sub-NDARAJ689BVN_task-DespicableMe_events.tsv: 100%|██████████| 1.00/1.00 [00:00<00:00, 4.11B/s]\n",
            "Downloading sub-NDARAJ689BVN_task-contrastChangeDetection_run-3_eeg.json: 100%|██████████| 1.00/1.00 [00:00<00:00, 4.14B/s]\n",
            "Downloading sub-NDARAJ689BVN_task-surroundSupp_run-1_eeg.json: 100%|██████████| 1.00/1.00 [00:00<00:00, 4.19B/s]\n",
            "Downloading sub-NDARAJ689BVN_task-contrastChangeDetection_run-2_eeg.json: 100%|██████████| 1.00/1.00 [00:00<00:00, 4.17B/s]\n",
            "Downloading sub-NDARAJ689BVN_task-surroundSupp_run-2_eeg.json: 100%|██████████| 1.00/1.00 [00:00<00:00, 4.18B/s]\n",
            "Downloading sub-NDARAJ689BVN_task-seqLearning6target_eeg.json: 100%|██████████| 1.00/1.00 [00:00<00:00, 4.10B/s]\n",
            "Downloading sub-NDARAJ689BVN_task-ThePresent_eeg.json: 100%|██████████| 1.00/1.00 [00:00<00:00, 4.14B/s]\n",
            "Downloading sub-NDARAJ689BVN_task-DiaryOfAWimpyKid_eeg.json: 100%|██████████| 1.00/1.00 [00:00<00:00, 4.18B/s]\n",
            "Downloading sub-NDARAJ689BVN_task-RestingState_eeg.json: 100%|██████████| 1.00/1.00 [00:00<00:00, 4.20B/s]\n",
            "Downloading sub-NDARAJ689BVN_task-FunwithFractals_eeg.json: 100%|██████████| 1.00/1.00 [00:00<00:00, 4.22B/s]\n",
            "Downloading sub-NDARAJ689BVN_task-contrastChangeDetection_run-1_eeg.json: 100%|██████████| 1.00/1.00 [00:00<00:00, 4.21B/s]\n",
            "Downloading sub-NDARAJ689BVN_task-symbolSearch_eeg.json: 100%|██████████| 1.00/1.00 [00:00<00:00, 3.98B/s]\n",
            "Downloading sub-NDARAJ689BVN_task-DespicableMe_eeg.json: 100%|██████████| 1.00/1.00 [00:00<00:00, 4.17B/s]\n",
            "Downloading sub-NDARAJ689BVN_task-RestingState_channels.tsv: 100%|██████████| 1.00/1.00 [00:00<00:00, 4.20B/s]\n",
            "Downloading sub-NDARAJ689BVN_task-surroundSupp_run-2_channels.tsv: 100%|██████████| 1.00/1.00 [00:00<00:00, 4.10B/s]\n",
            "Downloading sub-NDARAJ689BVN_task-seqLearning6target_channels.tsv: 100%|██████████| 1.00/1.00 [00:00<00:00, 4.17B/s]\n",
            "Downloading sub-NDARAJ689BVN_task-FunwithFractals_channels.tsv: 100%|██████████| 1.00/1.00 [00:00<00:00, 4.13B/s]\n",
            "Downloading sub-NDARAJ689BVN_task-contrastChangeDetection_run-2_channels.tsv: 100%|██████████| 1.00/1.00 [00:00<00:00, 4.21B/s]\n",
            "Downloading sub-NDARAJ689BVN_task-surroundSupp_run-1_channels.tsv: 100%|██████████| 1.00/1.00 [00:00<00:00, 4.23B/s]\n",
            "Downloading sub-NDARAJ689BVN_task-contrastChangeDetection_run-3_channels.tsv: 100%|██████████| 1.00/1.00 [00:00<00:00, 4.22B/s]\n",
            "Downloading sub-NDARAJ689BVN_task-symbolSearch_channels.tsv: 100%|██████████| 1.00/1.00 [00:00<00:00, 4.21B/s]\n",
            "Downloading sub-NDARAJ689BVN_task-ThePresent_channels.tsv: 100%|██████████| 1.00/1.00 [00:00<00:00, 4.20B/s]\n",
            "Downloading sub-NDARAJ689BVN_task-contrastChangeDetection_run-1_channels.tsv: 100%|██████████| 1.00/1.00 [00:00<00:00, 3.86B/s]\n",
            "Downloading sub-NDARAJ689BVN_task-DiaryOfAWimpyKid_channels.tsv: 100%|██████████| 1.00/1.00 [00:00<00:00, 4.14B/s]\n",
            "Downloading sub-NDARAJ689BVN_task-DespicableMe_channels.tsv: 100%|██████████| 1.00/1.00 [00:00<00:00, 4.00B/s]\n",
            "Downloading sub-NDARAJ689BVN_task-contrastChangeDetection_run-2_eeg.bdf: 100%|██████████| 1.00/1.00 [00:01<00:00, 1.09s/B]\n",
            "Downloading sub-NDARAJ689BVN_task-contrastChangeDetection_run-2_eeg.bdf: 100%|██████████| 1.00/1.00 [00:00<00:00, 2.92B/s]\n"
          ]
        },
        {
          "output_type": "stream",
          "name": "stdout",
          "text": [
            "\n",
            "Recording 4 Analysis:\n",
            "  Shape: (129, 26400)\n",
            "  Sampling rate: 100.0 Hz\n",
            "  Data range: -0.330 to 0.086\n",
            "  Overall std: 0.001\n",
            "  Quality: NaN=0, Inf=0\n"
          ]
        },
        {
          "output_type": "stream",
          "name": "stderr",
          "text": [
            "Downloading sub-NDARAJ689BVN_task-contrastChangeDetection_run-3_eeg.bdf: 100%|██████████| 1.00/1.00 [00:00<00:00, 2.61B/s]\n",
            "Downloading sub-NDARAJ689BVN_task-contrastChangeDetection_run-3_eeg.bdf: 100%|██████████| 1.00/1.00 [00:00<00:00, 2.89B/s]\n"
          ]
        },
        {
          "output_type": "stream",
          "name": "stdout",
          "text": [
            "\n",
            "Recording 5 Analysis:\n",
            "  Shape: (129, 23800)\n",
            "  Sampling rate: 100.0 Hz\n",
            "  Data range: -0.008 to 0.003\n",
            "  Overall std: 0.000\n",
            "  Quality: NaN=0, Inf=0\n"
          ]
        },
        {
          "output_type": "stream",
          "name": "stderr",
          "text": [
            "Downloading sub-NDARAJ689BVN_task-contrastChangeDetection_run-1_eeg.bdf: 100%|██████████| 1.00/1.00 [00:00<00:00, 2.48B/s]\n",
            "Downloading sub-NDARAJ689BVN_task-contrastChangeDetection_run-1_eeg.bdf: 100%|██████████| 1.00/1.00 [00:00<00:00, 2.51B/s]\n"
          ]
        },
        {
          "output_type": "stream",
          "name": "stdout",
          "text": [
            "\n",
            "Recording 6 Analysis:\n",
            "  Shape: (129, 25300)\n",
            "  Sampling rate: 100.0 Hz\n",
            "  Data range: -0.329 to 0.329\n",
            "  Overall std: 0.004\n",
            "  Quality: NaN=0, Inf=0\n"
          ]
        },
        {
          "output_type": "stream",
          "name": "stderr",
          "text": [
            "Downloading sub-NDARAP785CTE_task-surroundSupp_run-2_events.tsv: 100%|██████████| 1.00/1.00 [00:00<00:00, 4.09B/s]\n",
            "Downloading sub-NDARAP785CTE_task-contrastChangeDetection_run-3_events.tsv: 100%|██████████| 1.00/1.00 [00:00<00:00, 3.56B/s]\n",
            "Downloading sub-NDARAP785CTE_task-contrastChangeDetection_run-2_events.tsv: 100%|██████████| 1.00/1.00 [00:00<00:00, 3.94B/s]\n",
            "Downloading sub-NDARAP785CTE_task-symbolSearch_events.tsv: 100%|██████████| 1.00/1.00 [00:00<00:00, 4.25B/s]\n",
            "Downloading sub-NDARAP785CTE_task-RestingState_events.tsv: 100%|██████████| 1.00/1.00 [00:00<00:00, 4.22B/s]\n",
            "Downloading sub-NDARAP785CTE_task-DiaryOfAWimpyKid_events.tsv: 100%|██████████| 1.00/1.00 [00:00<00:00, 4.25B/s]\n",
            "Downloading sub-NDARAP785CTE_task-DespicableMe_events.tsv: 100%|██████████| 1.00/1.00 [00:00<00:00, 4.25B/s]\n",
            "Downloading sub-NDARAP785CTE_task-FunwithFractals_events.tsv: 100%|██████████| 1.00/1.00 [00:00<00:00, 4.34B/s]\n",
            "Downloading sub-NDARAP785CTE_task-contrastChangeDetection_run-1_events.tsv: 100%|██████████| 1.00/1.00 [00:00<00:00, 4.26B/s]\n",
            "Downloading sub-NDARAP785CTE_task-seqLearning8target_events.tsv: 100%|██████████| 1.00/1.00 [00:00<00:00, 4.28B/s]\n",
            "Downloading sub-NDARAP785CTE_task-ThePresent_events.tsv: 100%|██████████| 1.00/1.00 [00:00<00:00, 4.32B/s]\n",
            "Downloading sub-NDARAP785CTE_task-surroundSupp_run-1_events.tsv: 100%|██████████| 1.00/1.00 [00:00<00:00, 4.09B/s]\n",
            "Downloading sub-NDARAP785CTE_task-surroundSupp_run-2_eeg.json: 100%|██████████| 1.00/1.00 [00:00<00:00, 4.24B/s]\n",
            "Downloading sub-NDARAP785CTE_task-FunwithFractals_eeg.json: 100%|██████████| 1.00/1.00 [00:00<00:00, 4.24B/s]\n",
            "Downloading sub-NDARAP785CTE_task-DespicableMe_eeg.json: 100%|██████████| 1.00/1.00 [00:00<00:00, 4.10B/s]\n",
            "Downloading sub-NDARAP785CTE_task-contrastChangeDetection_run-2_eeg.json: 100%|██████████| 1.00/1.00 [00:00<00:00, 4.18B/s]\n",
            "Downloading sub-NDARAP785CTE_task-DiaryOfAWimpyKid_eeg.json: 100%|██████████| 1.00/1.00 [00:00<00:00, 3.88B/s]\n",
            "Downloading sub-NDARAP785CTE_task-ThePresent_eeg.json: 100%|██████████| 1.00/1.00 [00:00<00:00, 4.19B/s]\n",
            "Downloading sub-NDARAP785CTE_task-surroundSupp_run-1_eeg.json: 100%|██████████| 1.00/1.00 [00:00<00:00, 3.88B/s]\n",
            "Downloading sub-NDARAP785CTE_task-symbolSearch_eeg.json: 100%|██████████| 1.00/1.00 [00:00<00:00, 4.22B/s]\n",
            "Downloading sub-NDARAP785CTE_task-seqLearning8target_eeg.json: 100%|██████████| 1.00/1.00 [00:00<00:00, 4.24B/s]\n",
            "Downloading sub-NDARAP785CTE_task-RestingState_eeg.json: 100%|██████████| 1.00/1.00 [00:00<00:00, 4.16B/s]\n",
            "Downloading sub-NDARAP785CTE_task-contrastChangeDetection_run-1_eeg.json: 100%|██████████| 1.00/1.00 [00:00<00:00, 3.99B/s]\n",
            "Downloading sub-NDARAP785CTE_task-contrastChangeDetection_run-3_eeg.json: 100%|██████████| 1.00/1.00 [00:00<00:00, 4.25B/s]\n",
            "Downloading sub-NDARAP785CTE_task-contrastChangeDetection_run-1_channels.tsv: 100%|██████████| 1.00/1.00 [00:00<00:00, 2.09B/s]\n",
            "Downloading sub-NDARAP785CTE_task-RestingState_channels.tsv: 100%|██████████| 1.00/1.00 [00:00<00:00, 4.17B/s]\n",
            "Downloading sub-NDARAP785CTE_task-seqLearning8target_channels.tsv: 100%|██████████| 1.00/1.00 [00:00<00:00, 4.09B/s]\n",
            "Downloading sub-NDARAP785CTE_task-surroundSupp_run-2_channels.tsv: 100%|██████████| 1.00/1.00 [00:00<00:00, 4.16B/s]\n",
            "Downloading sub-NDARAP785CTE_task-DiaryOfAWimpyKid_channels.tsv: 100%|██████████| 1.00/1.00 [00:00<00:00, 4.07B/s]\n",
            "Downloading sub-NDARAP785CTE_task-ThePresent_channels.tsv: 100%|██████████| 1.00/1.00 [00:00<00:00, 4.03B/s]\n",
            "Downloading sub-NDARAP785CTE_task-contrastChangeDetection_run-3_channels.tsv: 100%|██████████| 1.00/1.00 [00:00<00:00, 4.16B/s]\n",
            "Downloading sub-NDARAP785CTE_task-surroundSupp_run-1_channels.tsv: 100%|██████████| 1.00/1.00 [00:00<00:00, 4.15B/s]\n",
            "Downloading sub-NDARAP785CTE_task-symbolSearch_channels.tsv: 100%|██████████| 1.00/1.00 [00:00<00:00, 4.05B/s]\n",
            "Downloading sub-NDARAP785CTE_task-DespicableMe_channels.tsv: 100%|██████████| 1.00/1.00 [00:00<00:00, 4.19B/s]\n",
            "Downloading sub-NDARAP785CTE_task-FunwithFractals_channels.tsv: 100%|██████████| 1.00/1.00 [00:00<00:00, 4.20B/s]\n",
            "Downloading sub-NDARAP785CTE_task-contrastChangeDetection_run-2_channels.tsv: 100%|██████████| 1.00/1.00 [00:00<00:00, 4.11B/s]\n",
            "Downloading sub-NDARAP785CTE_task-contrastChangeDetection_run-3_eeg.bdf: 100%|██████████| 1.00/1.00 [00:01<00:00, 1.23s/B]\n",
            "Downloading sub-NDARAP785CTE_task-contrastChangeDetection_run-3_eeg.bdf: 100%|██████████| 1.00/1.00 [00:00<00:00, 2.14B/s]\n"
          ]
        },
        {
          "output_type": "stream",
          "name": "stdout",
          "text": [
            "\n",
            "Recording 7 Analysis:\n",
            "  Shape: (129, 32400)\n",
            "  Sampling rate: 100.0 Hz\n",
            "  Data range: -0.285 to 0.278\n",
            "  Overall std: 0.004\n",
            "  Quality: NaN=0, Inf=0\n"
          ]
        },
        {
          "output_type": "stream",
          "name": "stderr",
          "text": [
            "Downloading sub-NDARAP785CTE_task-contrastChangeDetection_run-1_eeg.bdf: 100%|██████████| 1.00/1.00 [00:00<00:00, 1.75B/s]\n",
            "Downloading sub-NDARAP785CTE_task-contrastChangeDetection_run-1_eeg.bdf: 100%|██████████| 1.00/1.00 [00:00<00:00, 2.23B/s]\n"
          ]
        },
        {
          "output_type": "stream",
          "name": "stdout",
          "text": [
            "\n",
            "Recording 8 Analysis:\n",
            "  Shape: (129, 30400)\n",
            "  Sampling rate: 100.0 Hz\n",
            "  Data range: -0.388 to 0.201\n",
            "  Overall std: 0.008\n",
            "  Quality: NaN=0, Inf=0\n"
          ]
        },
        {
          "output_type": "stream",
          "name": "stderr",
          "text": [
            "Downloading sub-NDARAP785CTE_task-contrastChangeDetection_run-2_eeg.bdf: 100%|██████████| 1.00/1.00 [00:00<00:00, 1.87B/s]\n",
            "Downloading sub-NDARAP785CTE_task-contrastChangeDetection_run-2_eeg.bdf: 100%|██████████| 1.00/1.00 [00:00<00:00, 2.19B/s]\n"
          ]
        },
        {
          "output_type": "stream",
          "name": "stdout",
          "text": [
            "\n",
            "Recording 9 Analysis:\n",
            "  Shape: (129, 28700)\n",
            "  Sampling rate: 100.0 Hz\n",
            "  Data range: -0.368 to 0.241\n",
            "  Overall std: 0.004\n",
            "  Quality: NaN=0, Inf=0\n"
          ]
        },
        {
          "output_type": "stream",
          "name": "stderr",
          "text": [
            "Downloading sub-NDARAU708TL8_task-ThePresent_events.tsv: 100%|██████████| 1.00/1.00 [00:00<00:00, 4.28B/s]\n",
            "Downloading sub-NDARAU708TL8_task-symbolSearch_events.tsv: 100%|██████████| 1.00/1.00 [00:00<00:00, 4.18B/s]\n",
            "Downloading sub-NDARAU708TL8_task-contrastChangeDetection_run-2_events.tsv: 100%|██████████| 1.00/1.00 [00:00<00:00, 4.13B/s]\n",
            "Downloading sub-NDARAU708TL8_task-surroundSupp_run-1_events.tsv: 100%|██████████| 1.00/1.00 [00:00<00:00, 4.12B/s]\n",
            "Downloading sub-NDARAU708TL8_task-DiaryOfAWimpyKid_events.tsv: 100%|██████████| 1.00/1.00 [00:00<00:00, 4.13B/s]\n",
            "Downloading sub-NDARAU708TL8_task-contrastChangeDetection_run-3_events.tsv: 100%|██████████| 1.00/1.00 [00:00<00:00, 3.96B/s]\n",
            "Downloading sub-NDARAU708TL8_task-DespicableMe_events.tsv: 100%|██████████| 1.00/1.00 [00:00<00:00, 4.18B/s]\n",
            "Downloading sub-NDARAU708TL8_task-surroundSupp_run-2_events.tsv: 100%|██████████| 1.00/1.00 [00:00<00:00, 4.12B/s]\n",
            "Downloading sub-NDARAU708TL8_task-contrastChangeDetection_run-1_events.tsv: 100%|██████████| 1.00/1.00 [00:00<00:00, 4.14B/s]\n",
            "Downloading sub-NDARAU708TL8_task-RestingState_events.tsv: 100%|██████████| 1.00/1.00 [00:00<00:00, 3.71B/s]\n",
            "Downloading sub-NDARAU708TL8_task-FunwithFractals_events.tsv: 100%|██████████| 1.00/1.00 [00:00<00:00, 4.20B/s]\n",
            "Downloading sub-NDARAU708TL8_task-seqLearning8target_events.tsv: 100%|██████████| 1.00/1.00 [00:00<00:00, 4.20B/s]\n",
            "Downloading sub-NDARAU708TL8_task-ThePresent_eeg.json: 100%|██████████| 1.00/1.00 [00:00<00:00, 4.13B/s]\n",
            "Downloading sub-NDARAU708TL8_task-contrastChangeDetection_run-1_eeg.json: 100%|██████████| 1.00/1.00 [00:00<00:00, 4.16B/s]\n",
            "Downloading sub-NDARAU708TL8_task-contrastChangeDetection_run-2_eeg.json: 100%|██████████| 1.00/1.00 [00:00<00:00, 4.11B/s]\n",
            "Downloading sub-NDARAU708TL8_task-DespicableMe_eeg.json: 100%|██████████| 1.00/1.00 [00:00<00:00, 2.08B/s]\n",
            "Downloading sub-NDARAU708TL8_task-surroundSupp_run-2_eeg.json: 100%|██████████| 1.00/1.00 [00:00<00:00, 4.01B/s]\n",
            "Downloading sub-NDARAU708TL8_task-seqLearning8target_eeg.json: 100%|██████████| 1.00/1.00 [00:00<00:00, 4.00B/s]\n",
            "Downloading sub-NDARAU708TL8_task-surroundSupp_run-1_eeg.json: 100%|██████████| 1.00/1.00 [00:00<00:00, 4.28B/s]\n",
            "Downloading sub-NDARAU708TL8_task-contrastChangeDetection_run-3_eeg.json: 100%|██████████| 1.00/1.00 [00:00<00:00, 4.24B/s]\n",
            "Downloading sub-NDARAU708TL8_task-DiaryOfAWimpyKid_eeg.json: 100%|██████████| 1.00/1.00 [00:00<00:00, 4.21B/s]\n",
            "Downloading sub-NDARAU708TL8_task-FunwithFractals_eeg.json: 100%|██████████| 1.00/1.00 [00:00<00:00, 4.25B/s]\n",
            "Downloading sub-NDARAU708TL8_task-symbolSearch_eeg.json: 100%|██████████| 1.00/1.00 [00:00<00:00, 4.27B/s]\n",
            "Downloading sub-NDARAU708TL8_task-RestingState_eeg.json: 100%|██████████| 1.00/1.00 [00:00<00:00, 4.22B/s]\n",
            "Downloading sub-NDARAU708TL8_task-contrastChangeDetection_run-2_channels.tsv: 100%|██████████| 1.00/1.00 [00:00<00:00, 4.18B/s]\n",
            "Downloading sub-NDARAU708TL8_task-DiaryOfAWimpyKid_channels.tsv: 100%|██████████| 1.00/1.00 [00:00<00:00, 4.19B/s]\n",
            "Downloading sub-NDARAU708TL8_task-contrastChangeDetection_run-3_channels.tsv: 100%|██████████| 1.00/1.00 [00:00<00:00, 4.22B/s]\n",
            "Downloading sub-NDARAU708TL8_task-FunwithFractals_channels.tsv: 100%|██████████| 1.00/1.00 [00:00<00:00, 4.14B/s]\n",
            "Downloading sub-NDARAU708TL8_task-surroundSupp_run-1_channels.tsv: 100%|██████████| 1.00/1.00 [00:00<00:00, 4.26B/s]\n",
            "Downloading sub-NDARAU708TL8_task-symbolSearch_channels.tsv: 100%|██████████| 1.00/1.00 [00:00<00:00, 4.16B/s]\n",
            "Downloading sub-NDARAU708TL8_task-seqLearning8target_channels.tsv: 100%|██████████| 1.00/1.00 [00:00<00:00, 4.19B/s]\n",
            "Downloading sub-NDARAU708TL8_task-contrastChangeDetection_run-1_channels.tsv: 100%|██████████| 1.00/1.00 [00:00<00:00, 4.25B/s]\n",
            "Downloading sub-NDARAU708TL8_task-surroundSupp_run-2_channels.tsv: 100%|██████████| 1.00/1.00 [00:00<00:00, 4.21B/s]\n",
            "Downloading sub-NDARAU708TL8_task-ThePresent_channels.tsv: 100%|██████████| 1.00/1.00 [00:00<00:00, 3.78B/s]\n",
            "Downloading sub-NDARAU708TL8_task-DespicableMe_channels.tsv: 100%|██████████| 1.00/1.00 [00:00<00:00, 4.18B/s]\n",
            "Downloading sub-NDARAU708TL8_task-RestingState_channels.tsv: 100%|██████████| 1.00/1.00 [00:00<00:00, 4.22B/s]\n",
            "Downloading sub-NDARAU708TL8_task-contrastChangeDetection_run-1_eeg.bdf: 100%|██████████| 1.00/1.00 [00:01<00:00, 1.02s/B]\n",
            "Downloading sub-NDARAU708TL8_task-contrastChangeDetection_run-1_eeg.bdf: 100%|██████████| 1.00/1.00 [00:00<00:00, 2.67B/s]\n"
          ]
        },
        {
          "output_type": "stream",
          "name": "stdout",
          "text": [
            "\n",
            "Recording 10 Analysis:\n",
            "  Shape: (129, 24000)\n",
            "  Sampling rate: 100.0 Hz\n",
            "  Data range: -0.140 to 0.346\n",
            "  Overall std: 0.003\n",
            "  Quality: NaN=0, Inf=0\n"
          ]
        },
        {
          "output_type": "stream",
          "name": "stderr",
          "text": [
            "Downloading sub-NDARAU708TL8_task-contrastChangeDetection_run-2_eeg.bdf: 100%|██████████| 1.00/1.00 [00:00<00:00, 2.55B/s]\n",
            "Downloading sub-NDARAU708TL8_task-contrastChangeDetection_run-2_eeg.bdf: 100%|██████████| 1.00/1.00 [00:00<00:00, 2.87B/s]\n"
          ]
        },
        {
          "output_type": "stream",
          "name": "stdout",
          "text": [
            "\n",
            "Recording 11 Analysis:\n",
            "  Shape: (129, 23600)\n",
            "  Sampling rate: 100.0 Hz\n",
            "  Data range: -0.212 to 0.361\n",
            "  Overall std: 0.002\n",
            "  Quality: NaN=0, Inf=0\n"
          ]
        },
        {
          "output_type": "stream",
          "name": "stderr",
          "text": [
            "Downloading sub-NDARAU708TL8_task-contrastChangeDetection_run-3_eeg.bdf: 100%|██████████| 1.00/1.00 [00:00<00:00, 1.09B/s]\n",
            "Downloading sub-NDARAU708TL8_task-contrastChangeDetection_run-3_eeg.bdf: 100%|██████████| 1.00/1.00 [00:00<00:00, 2.88B/s]\n"
          ]
        },
        {
          "output_type": "stream",
          "name": "stdout",
          "text": [
            "\n",
            "Recording 12 Analysis:\n",
            "  Shape: (129, 23400)\n",
            "  Sampling rate: 100.0 Hz\n",
            "  Data range: -0.025 to 0.027\n",
            "  Overall std: 0.001\n",
            "  Quality: NaN=0, Inf=0\n"
          ]
        },
        {
          "output_type": "stream",
          "name": "stderr",
          "text": [
            "Downloading sub-NDARBE091BGD_task-ThePresent_events.tsv: 100%|██████████| 1.00/1.00 [00:00<00:00, 4.29B/s]\n",
            "Downloading sub-NDARBE091BGD_task-contrastChangeDetection_run-1_events.tsv: 100%|██████████| 1.00/1.00 [00:00<00:00, 4.31B/s]\n",
            "Downloading sub-NDARBE091BGD_task-symbolSearch_events.tsv: 100%|██████████| 1.00/1.00 [00:00<00:00, 4.23B/s]\n",
            "Downloading sub-NDARBE091BGD_task-contrastChangeDetection_run-3_events.tsv: 100%|██████████| 1.00/1.00 [00:00<00:00, 4.16B/s]\n",
            "Downloading sub-NDARBE091BGD_task-seqLearning6target_events.tsv: 100%|██████████| 1.00/1.00 [00:00<00:00, 4.19B/s]\n",
            "Downloading sub-NDARBE091BGD_task-contrastChangeDetection_run-2_events.tsv: 100%|██████████| 1.00/1.00 [00:00<00:00, 4.29B/s]\n",
            "Downloading sub-NDARBE091BGD_task-DespicableMe_events.tsv: 100%|██████████| 1.00/1.00 [00:00<00:00, 4.17B/s]\n",
            "Downloading sub-NDARBE091BGD_task-DiaryOfAWimpyKid_events.tsv: 100%|██████████| 1.00/1.00 [00:00<00:00, 4.21B/s]\n",
            "Downloading sub-NDARBE091BGD_task-surroundSupp_run-1_events.tsv: 100%|██████████| 1.00/1.00 [00:00<00:00, 3.68B/s]\n",
            "Downloading sub-NDARBE091BGD_task-RestingState_events.tsv: 100%|██████████| 1.00/1.00 [00:00<00:00, 4.21B/s]\n",
            "Downloading sub-NDARBE091BGD_task-surroundSupp_run-2_events.tsv: 100%|██████████| 1.00/1.00 [00:00<00:00, 4.11B/s]\n",
            "Downloading sub-NDARBE091BGD_task-FunwithFractals_events.tsv: 100%|██████████| 1.00/1.00 [00:00<00:00, 4.21B/s]\n",
            "Downloading sub-NDARBE091BGD_task-DespicableMe_eeg.json: 100%|██████████| 1.00/1.00 [00:00<00:00, 4.12B/s]\n",
            "Downloading sub-NDARBE091BGD_task-FunwithFractals_eeg.json: 100%|██████████| 1.00/1.00 [00:00<00:00, 4.17B/s]\n",
            "Downloading sub-NDARBE091BGD_task-contrastChangeDetection_run-2_eeg.json: 100%|██████████| 1.00/1.00 [00:00<00:00, 4.07B/s]\n",
            "Downloading sub-NDARBE091BGD_task-seqLearning6target_eeg.json: 100%|██████████| 1.00/1.00 [00:00<00:00, 4.17B/s]\n",
            "Downloading sub-NDARBE091BGD_task-contrastChangeDetection_run-3_eeg.json: 100%|██████████| 1.00/1.00 [00:00<00:00, 4.08B/s]\n",
            "Downloading sub-NDARBE091BGD_task-surroundSupp_run-2_eeg.json: 100%|██████████| 1.00/1.00 [00:00<00:00, 4.17B/s]\n",
            "Downloading sub-NDARBE091BGD_task-contrastChangeDetection_run-1_eeg.json: 100%|██████████| 1.00/1.00 [00:00<00:00, 4.15B/s]\n",
            "Downloading sub-NDARBE091BGD_task-surroundSupp_run-1_eeg.json: 100%|██████████| 1.00/1.00 [00:00<00:00, 4.11B/s]\n",
            "Downloading sub-NDARBE091BGD_task-symbolSearch_eeg.json: 100%|██████████| 1.00/1.00 [00:00<00:00, 4.13B/s]\n",
            "Downloading sub-NDARBE091BGD_task-ThePresent_eeg.json: 100%|██████████| 1.00/1.00 [00:00<00:00, 4.18B/s]\n",
            "Downloading sub-NDARBE091BGD_task-RestingState_eeg.json: 100%|██████████| 1.00/1.00 [00:00<00:00, 4.18B/s]\n",
            "Downloading sub-NDARBE091BGD_task-DiaryOfAWimpyKid_eeg.json: 100%|██████████| 1.00/1.00 [00:00<00:00, 4.18B/s]\n",
            "Downloading sub-NDARBE091BGD_task-symbolSearch_channels.tsv: 100%|██████████| 1.00/1.00 [00:00<00:00, 3.99B/s]\n",
            "Downloading sub-NDARBE091BGD_task-DiaryOfAWimpyKid_channels.tsv: 100%|██████████| 1.00/1.00 [00:00<00:00, 4.12B/s]\n",
            "Downloading sub-NDARBE091BGD_task-contrastChangeDetection_run-1_channels.tsv: 100%|██████████| 1.00/1.00 [00:00<00:00, 4.12B/s]\n",
            "Downloading sub-NDARBE091BGD_task-RestingState_channels.tsv: 100%|██████████| 1.00/1.00 [00:00<00:00, 4.15B/s]\n",
            "Downloading sub-NDARBE091BGD_task-ThePresent_channels.tsv: 100%|██████████| 1.00/1.00 [00:00<00:00, 4.16B/s]\n",
            "Downloading sub-NDARBE091BGD_task-contrastChangeDetection_run-3_channels.tsv: 100%|██████████| 1.00/1.00 [00:00<00:00, 4.18B/s]\n",
            "Downloading sub-NDARBE091BGD_task-surroundSupp_run-1_channels.tsv: 100%|██████████| 1.00/1.00 [00:00<00:00, 4.17B/s]\n",
            "Downloading sub-NDARBE091BGD_task-FunwithFractals_channels.tsv: 100%|██████████| 1.00/1.00 [00:00<00:00, 4.10B/s]\n",
            "Downloading sub-NDARBE091BGD_task-surroundSupp_run-2_channels.tsv: 100%|██████████| 1.00/1.00 [00:00<00:00, 4.10B/s]\n",
            "Downloading sub-NDARBE091BGD_task-seqLearning6target_channels.tsv: 100%|██████████| 1.00/1.00 [00:00<00:00, 3.97B/s]\n",
            "Downloading sub-NDARBE091BGD_task-contrastChangeDetection_run-2_channels.tsv: 100%|██████████| 1.00/1.00 [00:00<00:00, 4.11B/s]\n",
            "Downloading sub-NDARBE091BGD_task-DespicableMe_channels.tsv: 100%|██████████| 1.00/1.00 [00:00<00:00, 4.20B/s]\n",
            "Downloading sub-NDARBE091BGD_task-contrastChangeDetection_run-2_eeg.bdf: 100%|██████████| 1.00/1.00 [00:01<00:00, 1.23s/B]\n",
            "Downloading sub-NDARBE091BGD_task-contrastChangeDetection_run-2_eeg.bdf: 100%|██████████| 1.00/1.00 [00:00<00:00, 1.84B/s]\n"
          ]
        },
        {
          "output_type": "stream",
          "name": "stdout",
          "text": [
            "\n",
            "Recording 13 Analysis:\n",
            "  Shape: (129, 31800)\n",
            "  Sampling rate: 100.0 Hz\n",
            "  Data range: -0.368 to 0.292\n",
            "  Overall std: 0.003\n",
            "  Quality: NaN=0, Inf=0\n"
          ]
        },
        {
          "output_type": "stream",
          "name": "stderr",
          "text": [
            "Downloading sub-NDARBE091BGD_task-contrastChangeDetection_run-3_eeg.bdf: 100%|██████████| 1.00/1.00 [00:00<00:00, 1.96B/s]\n",
            "Downloading sub-NDARBE091BGD_task-contrastChangeDetection_run-3_eeg.bdf: 100%|██████████| 1.00/1.00 [00:00<00:00, 2.09B/s]\n"
          ]
        },
        {
          "output_type": "stream",
          "name": "stdout",
          "text": [
            "\n",
            "Recording 14 Analysis:\n",
            "  Shape: (129, 25500)\n",
            "  Sampling rate: 100.0 Hz\n",
            "  Data range: -0.378 to 0.295\n",
            "  Overall std: 0.006\n",
            "  Quality: NaN=0, Inf=0\n"
          ]
        },
        {
          "output_type": "stream",
          "name": "stderr",
          "text": [
            "Downloading sub-NDARBE091BGD_task-contrastChangeDetection_run-1_eeg.bdf: 100%|██████████| 1.00/1.00 [00:01<00:00, 1.39s/B]\n",
            "Downloading sub-NDARBE091BGD_task-contrastChangeDetection_run-1_eeg.bdf: 100%|██████████| 1.00/1.00 [00:00<00:00, 2.19B/s]\n"
          ]
        },
        {
          "output_type": "stream",
          "name": "stdout",
          "text": [
            "\n",
            "Recording 15 Analysis:\n",
            "  Shape: (129, 26100)\n",
            "  Sampling rate: 100.0 Hz\n",
            "  Data range: -0.063 to 0.092\n",
            "  Overall std: 0.001\n",
            "  Quality: NaN=0, Inf=0\n"
          ]
        },
        {
          "output_type": "stream",
          "name": "stderr",
          "text": [
            "Downloading sub-NDARBE103DHM_task-contrastChangeDetection_run-2_events.tsv: 100%|██████████| 1.00/1.00 [00:00<00:00, 4.15B/s]\n",
            "Downloading sub-NDARBE103DHM_task-surroundSupp_run-1_events.tsv: 100%|██████████| 1.00/1.00 [00:00<00:00, 4.21B/s]\n",
            "Downloading sub-NDARBE103DHM_task-FunwithFractals_events.tsv: 100%|██████████| 1.00/1.00 [00:00<00:00, 4.15B/s]\n",
            "Downloading sub-NDARBE103DHM_task-DespicableMe_events.tsv: 100%|██████████| 1.00/1.00 [00:00<00:00, 4.13B/s]\n",
            "Downloading sub-NDARBE103DHM_task-surroundSupp_run-2_events.tsv: 100%|██████████| 1.00/1.00 [00:00<00:00, 3.94B/s]\n",
            "Downloading sub-NDARBE103DHM_task-contrastChangeDetection_run-1_events.tsv: 100%|██████████| 1.00/1.00 [00:00<00:00, 4.20B/s]\n",
            "Downloading sub-NDARBE103DHM_task-symbolSearch_events.tsv: 100%|██████████| 1.00/1.00 [00:00<00:00, 4.13B/s]\n",
            "Downloading sub-NDARBE103DHM_task-RestingState_events.tsv: 100%|██████████| 1.00/1.00 [00:00<00:00, 4.26B/s]\n",
            "Downloading sub-NDARBE103DHM_task-DiaryOfAWimpyKid_events.tsv: 100%|██████████| 1.00/1.00 [00:00<00:00, 4.14B/s]\n",
            "Downloading sub-NDARBE103DHM_task-ThePresent_events.tsv: 100%|██████████| 1.00/1.00 [00:00<00:00, 4.32B/s]\n",
            "Downloading sub-NDARBE103DHM_task-seqLearning8target_events.tsv: 100%|██████████| 1.00/1.00 [00:00<00:00, 4.17B/s]\n",
            "Downloading sub-NDARBE103DHM_task-contrastChangeDetection_run-3_events.tsv: 100%|██████████| 1.00/1.00 [00:00<00:00, 3.36B/s]\n",
            "Downloading sub-NDARBE103DHM_task-symbolSearch_eeg.json: 100%|██████████| 1.00/1.00 [00:00<00:00, 4.18B/s]\n",
            "Downloading sub-NDARBE103DHM_task-surroundSupp_run-1_eeg.json: 100%|██████████| 1.00/1.00 [00:00<00:00, 4.23B/s]\n",
            "Downloading sub-NDARBE103DHM_task-DespicableMe_eeg.json: 100%|██████████| 1.00/1.00 [00:00<00:00, 4.13B/s]\n",
            "Downloading sub-NDARBE103DHM_task-contrastChangeDetection_run-1_eeg.json: 100%|██████████| 1.00/1.00 [00:00<00:00, 4.20B/s]\n",
            "Downloading sub-NDARBE103DHM_task-contrastChangeDetection_run-2_eeg.json: 100%|██████████| 1.00/1.00 [00:00<00:00, 4.17B/s]\n",
            "Downloading sub-NDARBE103DHM_task-DiaryOfAWimpyKid_eeg.json: 100%|██████████| 1.00/1.00 [00:00<00:00, 4.16B/s]\n",
            "Downloading sub-NDARBE103DHM_task-surroundSupp_run-2_eeg.json: 100%|██████████| 1.00/1.00 [00:00<00:00, 4.20B/s]\n",
            "Downloading sub-NDARBE103DHM_task-RestingState_eeg.json: 100%|██████████| 1.00/1.00 [00:00<00:00, 4.15B/s]\n",
            "Downloading sub-NDARBE103DHM_task-contrastChangeDetection_run-3_eeg.json: 100%|██████████| 1.00/1.00 [00:00<00:00, 4.14B/s]\n",
            "Downloading sub-NDARBE103DHM_task-FunwithFractals_eeg.json: 100%|██████████| 1.00/1.00 [00:00<00:00, 4.12B/s]\n",
            "Downloading sub-NDARBE103DHM_task-seqLearning8target_eeg.json: 100%|██████████| 1.00/1.00 [00:00<00:00, 4.17B/s]\n",
            "Downloading sub-NDARBE103DHM_task-ThePresent_eeg.json: 100%|██████████| 1.00/1.00 [00:00<00:00, 4.12B/s]\n",
            "Downloading sub-NDARBE103DHM_task-DespicableMe_channels.tsv: 100%|██████████| 1.00/1.00 [00:00<00:00, 4.13B/s]\n",
            "Downloading sub-NDARBE103DHM_task-ThePresent_channels.tsv: 100%|██████████| 1.00/1.00 [00:00<00:00, 4.03B/s]\n",
            "Downloading sub-NDARBE103DHM_task-DiaryOfAWimpyKid_channels.tsv: 100%|██████████| 1.00/1.00 [00:00<00:00, 4.18B/s]\n",
            "Downloading sub-NDARBE103DHM_task-FunwithFractals_channels.tsv: 100%|██████████| 1.00/1.00 [00:00<00:00, 4.20B/s]\n",
            "Downloading sub-NDARBE103DHM_task-contrastChangeDetection_run-3_channels.tsv: 100%|██████████| 1.00/1.00 [00:00<00:00, 4.16B/s]\n",
            "Downloading sub-NDARBE103DHM_task-RestingState_channels.tsv: 100%|██████████| 1.00/1.00 [00:00<00:00, 4.12B/s]\n",
            "Downloading sub-NDARBE103DHM_task-surroundSupp_run-1_channels.tsv: 100%|██████████| 1.00/1.00 [00:00<00:00, 4.22B/s]\n",
            "Downloading sub-NDARBE103DHM_task-contrastChangeDetection_run-1_channels.tsv: 100%|██████████| 1.00/1.00 [00:00<00:00, 2.09B/s]\n",
            "Downloading sub-NDARBE103DHM_task-symbolSearch_channels.tsv: 100%|██████████| 1.00/1.00 [00:00<00:00, 4.21B/s]\n",
            "Downloading sub-NDARBE103DHM_task-contrastChangeDetection_run-2_channels.tsv: 100%|██████████| 1.00/1.00 [00:00<00:00, 4.25B/s]\n",
            "Downloading sub-NDARBE103DHM_task-seqLearning8target_channels.tsv: 100%|██████████| 1.00/1.00 [00:00<00:00, 4.21B/s]\n",
            "Downloading sub-NDARBE103DHM_task-surroundSupp_run-2_channels.tsv: 100%|██████████| 1.00/1.00 [00:00<00:00, 4.07B/s]\n",
            "Downloading sub-NDARBE103DHM_task-contrastChangeDetection_run-2_eeg.bdf: 100%|██████████| 1.00/1.00 [00:01<00:00, 1.12s/B]\n",
            "Downloading sub-NDARBE103DHM_task-contrastChangeDetection_run-2_eeg.bdf: 100%|██████████| 1.00/1.00 [00:00<00:00, 2.90B/s]\n"
          ]
        },
        {
          "output_type": "stream",
          "name": "stdout",
          "text": [
            "\n",
            "Recording 16 Analysis:\n",
            "  Shape: (129, 23100)\n",
            "  Sampling rate: 100.0 Hz\n",
            "  Data range: -0.082 to 0.021\n",
            "  Overall std: 0.000\n",
            "  Quality: NaN=0, Inf=0\n"
          ]
        },
        {
          "output_type": "stream",
          "name": "stderr",
          "text": [
            "Downloading sub-NDARBE103DHM_task-contrastChangeDetection_run-3_eeg.bdf: 100%|██████████| 1.00/1.00 [00:00<00:00, 2.47B/s]\n",
            "Downloading sub-NDARBE103DHM_task-contrastChangeDetection_run-3_eeg.bdf: 100%|██████████| 1.00/1.00 [00:00<00:00, 2.83B/s]\n"
          ]
        },
        {
          "output_type": "stream",
          "name": "stdout",
          "text": [
            "\n",
            "Recording 17 Analysis:\n",
            "  Shape: (129, 23700)\n",
            "  Sampling rate: 100.0 Hz\n",
            "  Data range: -0.010 to 0.010\n",
            "  Overall std: 0.000\n",
            "  Quality: NaN=0, Inf=0\n"
          ]
        },
        {
          "output_type": "stream",
          "name": "stderr",
          "text": [
            "Downloading sub-NDARBE103DHM_task-contrastChangeDetection_run-1_eeg.bdf: 100%|██████████| 1.00/1.00 [00:00<00:00, 2.48B/s]\n",
            "Downloading sub-NDARBE103DHM_task-contrastChangeDetection_run-1_eeg.bdf: 100%|██████████| 1.00/1.00 [00:00<00:00, 1.51B/s]\n"
          ]
        },
        {
          "output_type": "stream",
          "name": "stdout",
          "text": [
            "\n",
            "Recording 18 Analysis:\n",
            "  Shape: (129, 23700)\n",
            "  Sampling rate: 100.0 Hz\n",
            "  Data range: -0.335 to 0.295\n",
            "  Overall std: 0.003\n",
            "  Quality: NaN=0, Inf=0\n"
          ]
        },
        {
          "output_type": "stream",
          "name": "stderr",
          "text": [
            "Downloading sub-NDARBF851NH6_task-contrastChangeDetection_run-2_events.tsv: 100%|██████████| 1.00/1.00 [00:00<00:00, 4.15B/s]\n",
            "Downloading sub-NDARBF851NH6_task-seqLearning8target_events.tsv: 100%|██████████| 1.00/1.00 [00:00<00:00, 3.98B/s]\n",
            "Downloading sub-NDARBF851NH6_task-FunwithFractals_events.tsv: 100%|██████████| 1.00/1.00 [00:00<00:00, 4.12B/s]\n",
            "Downloading sub-NDARBF851NH6_task-RestingState_events.tsv: 100%|██████████| 1.00/1.00 [00:00<00:00, 4.20B/s]\n",
            "Downloading sub-NDARBF851NH6_task-DespicableMe_events.tsv: 100%|██████████| 1.00/1.00 [00:00<00:00, 4.15B/s]\n",
            "Downloading sub-NDARBF851NH6_task-contrastChangeDetection_run-3_events.tsv: 100%|██████████| 1.00/1.00 [00:00<00:00, 4.14B/s]\n",
            "Downloading sub-NDARBF851NH6_task-surroundSupp_run-2_events.tsv: 100%|██████████| 1.00/1.00 [00:00<00:00, 4.09B/s]\n",
            "Downloading sub-NDARBF851NH6_task-ThePresent_events.tsv: 100%|██████████| 1.00/1.00 [00:00<00:00, 4.18B/s]\n",
            "Downloading sub-NDARBF851NH6_task-contrastChangeDetection_run-1_events.tsv: 100%|██████████| 1.00/1.00 [00:00<00:00, 4.21B/s]\n",
            "Downloading sub-NDARBF851NH6_task-surroundSupp_run-1_events.tsv: 100%|██████████| 1.00/1.00 [00:00<00:00, 4.20B/s]\n",
            "Downloading sub-NDARBF851NH6_task-DiaryOfAWimpyKid_events.tsv: 100%|██████████| 1.00/1.00 [00:00<00:00, 4.22B/s]\n",
            "Downloading sub-NDARBF851NH6_task-symbolSearch_events.tsv: 100%|██████████| 1.00/1.00 [00:00<00:00, 4.17B/s]\n",
            "Downloading sub-NDARBF851NH6_task-FunwithFractals_eeg.json: 100%|██████████| 1.00/1.00 [00:00<00:00, 4.11B/s]\n",
            "Downloading sub-NDARBF851NH6_task-RestingState_eeg.json: 100%|██████████| 1.00/1.00 [00:00<00:00, 4.20B/s]\n",
            "Downloading sub-NDARBF851NH6_task-DiaryOfAWimpyKid_eeg.json: 100%|██████████| 1.00/1.00 [00:00<00:00, 4.21B/s]\n",
            "Downloading sub-NDARBF851NH6_task-surroundSupp_run-1_eeg.json: 100%|██████████| 1.00/1.00 [00:00<00:00, 4.19B/s]\n",
            "Downloading sub-NDARBF851NH6_task-contrastChangeDetection_run-2_eeg.json: 100%|██████████| 1.00/1.00 [00:00<00:00, 4.15B/s]\n",
            "Downloading sub-NDARBF851NH6_task-ThePresent_eeg.json: 100%|██████████| 1.00/1.00 [00:00<00:00, 4.16B/s]\n",
            "Downloading sub-NDARBF851NH6_task-seqLearning8target_eeg.json: 100%|██████████| 1.00/1.00 [00:00<00:00, 4.18B/s]\n",
            "Downloading sub-NDARBF851NH6_task-contrastChangeDetection_run-1_eeg.json: 100%|██████████| 1.00/1.00 [00:00<00:00, 4.21B/s]\n",
            "Downloading sub-NDARBF851NH6_task-contrastChangeDetection_run-3_eeg.json: 100%|██████████| 1.00/1.00 [00:00<00:00, 4.17B/s]\n",
            "Downloading sub-NDARBF851NH6_task-symbolSearch_eeg.json: 100%|██████████| 1.00/1.00 [00:00<00:00, 4.26B/s]\n",
            "Downloading sub-NDARBF851NH6_task-surroundSupp_run-2_eeg.json: 100%|██████████| 1.00/1.00 [00:00<00:00, 4.20B/s]\n",
            "Downloading sub-NDARBF851NH6_task-DespicableMe_eeg.json: 100%|██████████| 1.00/1.00 [00:00<00:00, 4.15B/s]\n",
            "Downloading sub-NDARBF851NH6_task-ThePresent_channels.tsv: 100%|██████████| 1.00/1.00 [00:00<00:00, 4.15B/s]\n",
            "Downloading sub-NDARBF851NH6_task-DiaryOfAWimpyKid_channels.tsv: 100%|██████████| 1.00/1.00 [00:00<00:00, 4.22B/s]\n",
            "Downloading sub-NDARBF851NH6_task-contrastChangeDetection_run-2_channels.tsv: 100%|██████████| 1.00/1.00 [00:00<00:00, 4.18B/s]\n",
            "Downloading sub-NDARBF851NH6_task-surroundSupp_run-1_channels.tsv: 100%|██████████| 1.00/1.00 [00:00<00:00, 4.17B/s]\n",
            "Downloading sub-NDARBF851NH6_task-DespicableMe_channels.tsv: 100%|██████████| 1.00/1.00 [00:00<00:00, 4.17B/s]\n",
            "Downloading sub-NDARBF851NH6_task-seqLearning8target_channels.tsv: 100%|██████████| 1.00/1.00 [00:00<00:00, 4.15B/s]\n",
            "Downloading sub-NDARBF851NH6_task-FunwithFractals_channels.tsv: 100%|██████████| 1.00/1.00 [00:00<00:00, 4.18B/s]\n",
            "Downloading sub-NDARBF851NH6_task-contrastChangeDetection_run-3_channels.tsv: 100%|██████████| 1.00/1.00 [00:00<00:00, 4.10B/s]\n",
            "Downloading sub-NDARBF851NH6_task-contrastChangeDetection_run-1_channels.tsv: 100%|██████████| 1.00/1.00 [00:00<00:00, 4.21B/s]\n",
            "Downloading sub-NDARBF851NH6_task-surroundSupp_run-2_channels.tsv: 100%|██████████| 1.00/1.00 [00:00<00:00, 4.21B/s]\n",
            "Downloading sub-NDARBF851NH6_task-RestingState_channels.tsv: 100%|██████████| 1.00/1.00 [00:00<00:00, 4.16B/s]\n",
            "Downloading sub-NDARBF851NH6_task-symbolSearch_channels.tsv: 100%|██████████| 1.00/1.00 [00:00<00:00, 4.00B/s]\n",
            "Downloading sub-NDARBF851NH6_task-contrastChangeDetection_run-2_eeg.bdf: 100%|██████████| 1.00/1.00 [00:01<00:00, 1.35s/B]\n",
            "Downloading sub-NDARBF851NH6_task-contrastChangeDetection_run-2_eeg.bdf: 100%|██████████| 1.00/1.00 [00:00<00:00, 1.84B/s]\n"
          ]
        },
        {
          "output_type": "stream",
          "name": "stdout",
          "text": [
            "\n",
            "Recording 19 Analysis:\n",
            "  Shape: (129, 32400)\n",
            "  Sampling rate: 100.0 Hz\n",
            "  Data range: -0.009 to 0.007\n",
            "  Overall std: 0.002\n",
            "  Quality: NaN=0, Inf=0\n"
          ]
        },
        {
          "output_type": "stream",
          "name": "stderr",
          "text": [
            "Downloading sub-NDARBF851NH6_task-contrastChangeDetection_run-3_eeg.bdf: 100%|██████████| 1.00/1.00 [00:00<00:00, 1.62B/s]\n",
            "Downloading sub-NDARBF851NH6_task-contrastChangeDetection_run-3_eeg.bdf: 100%|██████████| 1.00/1.00 [00:00<00:00, 2.24B/s]\n"
          ]
        },
        {
          "output_type": "stream",
          "name": "stdout",
          "text": [
            "\n",
            "Recording 20 Analysis:\n",
            "  Shape: (129, 22100)\n",
            "  Sampling rate: 100.0 Hz\n",
            "  Data range: -0.007 to 0.031\n",
            "  Overall std: 0.000\n",
            "  Quality: NaN=0, Inf=0\n"
          ]
        },
        {
          "output_type": "stream",
          "name": "stderr",
          "text": [
            "Downloading sub-NDARBF851NH6_task-contrastChangeDetection_run-1_eeg.bdf: 100%|██████████| 1.00/1.00 [00:00<00:00, 1.43B/s]\n",
            "Downloading sub-NDARBF851NH6_task-contrastChangeDetection_run-1_eeg.bdf: 100%|██████████| 1.00/1.00 [00:00<00:00, 1.54B/s]\n"
          ]
        },
        {
          "output_type": "stream",
          "name": "stdout",
          "text": [
            "\n",
            "Recording 21 Analysis:\n",
            "  Shape: (129, 33400)\n",
            "  Sampling rate: 100.0 Hz\n",
            "  Data range: -0.003 to 0.009\n",
            "  Overall std: 0.000\n",
            "  Quality: NaN=0, Inf=0\n"
          ]
        },
        {
          "output_type": "stream",
          "name": "stderr",
          "text": [
            "Downloading sub-NDARBH228RDW_task-FunwithFractals_events.tsv: 100%|██████████| 1.00/1.00 [00:00<00:00, 4.21B/s]\n",
            "Downloading sub-NDARBH228RDW_task-contrastChangeDetection_run-2_events.tsv: 100%|██████████| 1.00/1.00 [00:00<00:00, 4.16B/s]\n",
            "Downloading sub-NDARBH228RDW_task-DiaryOfAWimpyKid_events.tsv: 100%|██████████| 1.00/1.00 [00:00<00:00, 4.20B/s]\n",
            "Downloading sub-NDARBH228RDW_task-contrastChangeDetection_run-3_events.tsv: 100%|██████████| 1.00/1.00 [00:00<00:00, 4.20B/s]\n",
            "Downloading sub-NDARBH228RDW_task-symbolSearch_events.tsv: 100%|██████████| 1.00/1.00 [00:00<00:00, 4.19B/s]\n",
            "Downloading sub-NDARBH228RDW_task-RestingState_events.tsv: 100%|██████████| 1.00/1.00 [00:00<00:00, 4.23B/s]\n",
            "Downloading sub-NDARBH228RDW_task-seqLearning8target_events.tsv: 100%|██████████| 1.00/1.00 [00:00<00:00, 4.19B/s]\n",
            "Downloading sub-NDARBH228RDW_task-surroundSupp_run-2_events.tsv: 100%|██████████| 1.00/1.00 [00:00<00:00, 4.25B/s]\n",
            "Downloading sub-NDARBH228RDW_task-ThePresent_events.tsv: 100%|██████████| 1.00/1.00 [00:00<00:00, 4.35B/s]\n",
            "Downloading sub-NDARBH228RDW_task-surroundSupp_run-1_events.tsv: 100%|██████████| 1.00/1.00 [00:00<00:00, 4.22B/s]\n",
            "Downloading sub-NDARBH228RDW_task-contrastChangeDetection_run-1_events.tsv: 100%|██████████| 1.00/1.00 [00:00<00:00, 4.21B/s]\n",
            "Downloading sub-NDARBH228RDW_task-DespicableMe_events.tsv: 100%|██████████| 1.00/1.00 [00:00<00:00, 4.14B/s]\n",
            "Downloading sub-NDARBH228RDW_task-FunwithFractals_eeg.json: 100%|██████████| 1.00/1.00 [00:00<00:00, 4.20B/s]\n",
            "Downloading sub-NDARBH228RDW_task-DiaryOfAWimpyKid_eeg.json: 100%|██████████| 1.00/1.00 [00:00<00:00, 4.24B/s]\n",
            "Downloading sub-NDARBH228RDW_task-seqLearning8target_eeg.json: 100%|██████████| 1.00/1.00 [00:00<00:00, 2.14B/s]\n",
            "Downloading sub-NDARBH228RDW_task-symbolSearch_eeg.json: 100%|██████████| 1.00/1.00 [00:00<00:00, 4.22B/s]\n",
            "Downloading sub-NDARBH228RDW_task-DespicableMe_eeg.json: 100%|██████████| 1.00/1.00 [00:00<00:00, 4.16B/s]\n",
            "Downloading sub-NDARBH228RDW_task-ThePresent_eeg.json: 100%|██████████| 1.00/1.00 [00:00<00:00, 4.20B/s]\n",
            "Downloading sub-NDARBH228RDW_task-surroundSupp_run-2_eeg.json: 100%|██████████| 1.00/1.00 [00:00<00:00, 4.20B/s]\n",
            "Downloading sub-NDARBH228RDW_task-contrastChangeDetection_run-1_eeg.json: 100%|██████████| 1.00/1.00 [00:00<00:00, 4.18B/s]\n",
            "Downloading sub-NDARBH228RDW_task-RestingState_eeg.json: 100%|██████████| 1.00/1.00 [00:00<00:00, 4.24B/s]\n",
            "Downloading sub-NDARBH228RDW_task-contrastChangeDetection_run-3_eeg.json: 100%|██████████| 1.00/1.00 [00:00<00:00, 4.22B/s]\n",
            "Downloading sub-NDARBH228RDW_task-surroundSupp_run-1_eeg.json: 100%|██████████| 1.00/1.00 [00:00<00:00, 4.23B/s]\n",
            "Downloading sub-NDARBH228RDW_task-contrastChangeDetection_run-2_eeg.json: 100%|██████████| 1.00/1.00 [00:00<00:00, 4.19B/s]\n",
            "Downloading sub-NDARBH228RDW_task-ThePresent_channels.tsv: 100%|██████████| 1.00/1.00 [00:00<00:00, 4.16B/s]\n",
            "Downloading sub-NDARBH228RDW_task-FunwithFractals_channels.tsv: 100%|██████████| 1.00/1.00 [00:00<00:00, 4.13B/s]\n",
            "Downloading sub-NDARBH228RDW_task-surroundSupp_run-2_channels.tsv: 100%|██████████| 1.00/1.00 [00:00<00:00, 4.10B/s]\n",
            "Downloading sub-NDARBH228RDW_task-contrastChangeDetection_run-1_channels.tsv: 100%|██████████| 1.00/1.00 [00:00<00:00, 4.07B/s]\n",
            "Downloading sub-NDARBH228RDW_task-symbolSearch_channels.tsv: 100%|██████████| 1.00/1.00 [00:00<00:00, 4.19B/s]\n",
            "Downloading sub-NDARBH228RDW_task-RestingState_channels.tsv: 100%|██████████| 1.00/1.00 [00:00<00:00, 4.21B/s]\n",
            "Downloading sub-NDARBH228RDW_task-surroundSupp_run-1_channels.tsv: 100%|██████████| 1.00/1.00 [00:00<00:00, 4.24B/s]\n",
            "Downloading sub-NDARBH228RDW_task-seqLearning8target_channels.tsv: 100%|██████████| 1.00/1.00 [00:00<00:00, 3.87B/s]\n",
            "Downloading sub-NDARBH228RDW_task-contrastChangeDetection_run-3_channels.tsv: 100%|██████████| 1.00/1.00 [00:00<00:00, 4.18B/s]\n",
            "Downloading sub-NDARBH228RDW_task-DespicableMe_channels.tsv: 100%|██████████| 1.00/1.00 [00:00<00:00, 4.21B/s]\n",
            "Downloading sub-NDARBH228RDW_task-DiaryOfAWimpyKid_channels.tsv: 100%|██████████| 1.00/1.00 [00:00<00:00, 4.22B/s]\n",
            "Downloading sub-NDARBH228RDW_task-contrastChangeDetection_run-2_channels.tsv: 100%|██████████| 1.00/1.00 [00:00<00:00, 4.19B/s]\n",
            "Downloading sub-NDARBH228RDW_task-contrastChangeDetection_run-1_eeg.bdf: 100%|██████████| 1.00/1.00 [00:01<00:00, 1.55s/B]\n",
            "Downloading sub-NDARBH228RDW_task-contrastChangeDetection_run-1_eeg.bdf: 100%|██████████| 1.00/1.00 [00:00<00:00, 1.18B/s]\n"
          ]
        },
        {
          "output_type": "stream",
          "name": "stdout",
          "text": [
            "\n",
            "Recording 22 Analysis:\n",
            "  Shape: (129, 52300)\n",
            "  Sampling rate: 100.0 Hz\n",
            "  Data range: -0.268 to 0.284\n",
            "  Overall std: 0.002\n",
            "  Quality: NaN=0, Inf=0\n"
          ]
        },
        {
          "output_type": "stream",
          "name": "stderr",
          "text": [
            "Downloading sub-NDARBH228RDW_task-contrastChangeDetection_run-3_eeg.bdf: 100%|██████████| 1.00/1.00 [00:00<00:00, 2.56B/s]\n",
            "Downloading sub-NDARBH228RDW_task-contrastChangeDetection_run-3_eeg.bdf: 100%|██████████| 1.00/1.00 [00:00<00:00, 2.95B/s]\n"
          ]
        },
        {
          "output_type": "stream",
          "name": "stdout",
          "text": [
            "\n",
            "Recording 23 Analysis:\n",
            "  Shape: (129, 18200)\n",
            "  Sampling rate: 100.0 Hz\n",
            "  Data range: -0.076 to 0.036\n",
            "  Overall std: 0.000\n",
            "  Quality: NaN=0, Inf=0\n"
          ]
        },
        {
          "output_type": "stream",
          "name": "stderr",
          "text": [
            "Downloading sub-NDARBH228RDW_task-contrastChangeDetection_run-2_eeg.bdf: 100%|██████████| 1.00/1.00 [00:00<00:00, 1.36B/s]\n",
            "Downloading sub-NDARBH228RDW_task-contrastChangeDetection_run-2_eeg.bdf: 100%|██████████| 1.00/1.00 [00:00<00:00, 2.95B/s]\n"
          ]
        },
        {
          "output_type": "stream",
          "name": "stdout",
          "text": [
            "\n",
            "Recording 24 Analysis:\n",
            "  Shape: (129, 18300)\n",
            "  Sampling rate: 100.0 Hz\n",
            "  Data range: -0.282 to 0.297\n",
            "  Overall std: 0.004\n",
            "  Quality: NaN=0, Inf=0\n"
          ]
        },
        {
          "output_type": "stream",
          "name": "stderr",
          "text": [
            "Downloading sub-NDARBJ674TVU_task-RestingState_events.tsv: 100%|██████████| 1.00/1.00 [00:00<00:00, 4.20B/s]\n",
            "Downloading sub-NDARBJ674TVU_task-symbolSearch_events.tsv: 100%|██████████| 1.00/1.00 [00:00<00:00, 4.17B/s]\n",
            "Downloading sub-NDARBJ674TVU_task-contrastChangeDetection_run-2_events.tsv: 100%|██████████| 1.00/1.00 [00:00<00:00, 3.97B/s]\n",
            "Downloading sub-NDARBJ674TVU_task-seqLearning6target_events.tsv: 100%|██████████| 1.00/1.00 [00:00<00:00, 4.14B/s]\n",
            "Downloading sub-NDARBJ674TVU_task-contrastChangeDetection_run-1_events.tsv: 100%|██████████| 1.00/1.00 [00:00<00:00, 4.16B/s]\n",
            "Downloading sub-NDARBJ674TVU_task-DiaryOfAWimpyKid_events.tsv: 100%|██████████| 1.00/1.00 [00:00<00:00, 2.13B/s]\n",
            "Downloading sub-NDARBJ674TVU_task-surroundSupp_run-2_events.tsv: 100%|██████████| 1.00/1.00 [00:00<00:00, 4.11B/s]\n",
            "Downloading sub-NDARBJ674TVU_task-contrastChangeDetection_run-3_events.tsv: 100%|██████████| 1.00/1.00 [00:00<00:00, 4.19B/s]\n",
            "Downloading sub-NDARBJ674TVU_task-surroundSupp_run-1_events.tsv: 100%|██████████| 1.00/1.00 [00:00<00:00, 4.17B/s]\n",
            "Downloading sub-NDARBJ674TVU_task-DespicableMe_events.tsv: 100%|██████████| 1.00/1.00 [00:00<00:00, 4.25B/s]\n",
            "Downloading sub-NDARBJ674TVU_task-ThePresent_events.tsv: 100%|██████████| 1.00/1.00 [00:00<00:00, 4.36B/s]\n",
            "Downloading sub-NDARBJ674TVU_task-FunwithFractals_events.tsv: 100%|██████████| 1.00/1.00 [00:00<00:00, 4.16B/s]\n",
            "Downloading sub-NDARBJ674TVU_task-FunwithFractals_eeg.json: 100%|██████████| 1.00/1.00 [00:00<00:00, 4.16B/s]\n",
            "Downloading sub-NDARBJ674TVU_task-symbolSearch_eeg.json: 100%|██████████| 1.00/1.00 [00:00<00:00, 4.18B/s]\n",
            "Downloading sub-NDARBJ674TVU_task-seqLearning6target_eeg.json: 100%|██████████| 1.00/1.00 [00:00<00:00, 4.08B/s]\n",
            "Downloading sub-NDARBJ674TVU_task-RestingState_eeg.json: 100%|██████████| 1.00/1.00 [00:00<00:00, 4.26B/s]\n",
            "Downloading sub-NDARBJ674TVU_task-contrastChangeDetection_run-3_eeg.json: 100%|██████████| 1.00/1.00 [00:00<00:00, 4.18B/s]\n",
            "Downloading sub-NDARBJ674TVU_task-ThePresent_eeg.json: 100%|██████████| 1.00/1.00 [00:00<00:00, 4.18B/s]\n",
            "Downloading sub-NDARBJ674TVU_task-surroundSupp_run-2_eeg.json: 100%|██████████| 1.00/1.00 [00:00<00:00, 4.31B/s]\n",
            "Downloading sub-NDARBJ674TVU_task-contrastChangeDetection_run-2_eeg.json: 100%|██████████| 1.00/1.00 [00:00<00:00, 4.17B/s]\n",
            "Downloading sub-NDARBJ674TVU_task-surroundSupp_run-1_eeg.json: 100%|██████████| 1.00/1.00 [00:00<00:00, 4.20B/s]\n",
            "Downloading sub-NDARBJ674TVU_task-DespicableMe_eeg.json: 100%|██████████| 1.00/1.00 [00:00<00:00, 4.25B/s]\n",
            "Downloading sub-NDARBJ674TVU_task-DiaryOfAWimpyKid_eeg.json: 100%|██████████| 1.00/1.00 [00:00<00:00, 3.62B/s]\n",
            "Downloading sub-NDARBJ674TVU_task-contrastChangeDetection_run-1_eeg.json: 100%|██████████| 1.00/1.00 [00:00<00:00, 4.13B/s]\n",
            "Downloading sub-NDARBJ674TVU_task-surroundSupp_run-2_channels.tsv: 100%|██████████| 1.00/1.00 [00:00<00:00, 4.15B/s]\n",
            "Downloading sub-NDARBJ674TVU_task-surroundSupp_run-1_channels.tsv: 100%|██████████| 1.00/1.00 [00:00<00:00, 4.19B/s]\n",
            "Downloading sub-NDARBJ674TVU_task-RestingState_channels.tsv: 100%|██████████| 1.00/1.00 [00:00<00:00, 4.20B/s]\n",
            "Downloading sub-NDARBJ674TVU_task-contrastChangeDetection_run-2_channels.tsv: 100%|██████████| 1.00/1.00 [00:00<00:00, 4.26B/s]\n",
            "Downloading sub-NDARBJ674TVU_task-DiaryOfAWimpyKid_channels.tsv: 100%|██████████| 1.00/1.00 [00:00<00:00, 4.23B/s]\n",
            "Downloading sub-NDARBJ674TVU_task-symbolSearch_channels.tsv: 100%|██████████| 1.00/1.00 [00:00<00:00, 4.23B/s]\n",
            "Downloading sub-NDARBJ674TVU_task-ThePresent_channels.tsv: 100%|██████████| 1.00/1.00 [00:00<00:00, 4.21B/s]\n",
            "Downloading sub-NDARBJ674TVU_task-seqLearning6target_channels.tsv: 100%|██████████| 1.00/1.00 [00:00<00:00, 4.15B/s]\n",
            "Downloading sub-NDARBJ674TVU_task-FunwithFractals_channels.tsv: 100%|██████████| 1.00/1.00 [00:00<00:00, 4.00B/s]\n",
            "Downloading sub-NDARBJ674TVU_task-contrastChangeDetection_run-3_channels.tsv: 100%|██████████| 1.00/1.00 [00:00<00:00, 4.27B/s]\n",
            "Downloading sub-NDARBJ674TVU_task-contrastChangeDetection_run-1_channels.tsv: 100%|██████████| 1.00/1.00 [00:00<00:00, 4.18B/s]\n",
            "Downloading sub-NDARBJ674TVU_task-DespicableMe_channels.tsv: 100%|██████████| 1.00/1.00 [00:00<00:00, 4.16B/s]\n",
            "Downloading sub-NDARBJ674TVU_task-contrastChangeDetection_run-1_eeg.bdf: 100%|██████████| 1.00/1.00 [00:01<00:00, 1.44s/B]\n",
            "Downloading sub-NDARBJ674TVU_task-contrastChangeDetection_run-1_eeg.bdf: 100%|██████████| 1.00/1.00 [00:00<00:00, 1.49B/s]\n"
          ]
        },
        {
          "output_type": "stream",
          "name": "stdout",
          "text": [
            "\n",
            "Recording 25 Analysis:\n",
            "  Shape: (129, 28600)\n",
            "  Sampling rate: 100.0 Hz\n",
            "  Data range: -0.316 to 0.325\n",
            "  Overall std: 0.003\n",
            "  Quality: NaN=0, Inf=0\n"
          ]
        },
        {
          "output_type": "stream",
          "name": "stderr",
          "text": [
            "Downloading sub-NDARBJ674TVU_task-contrastChangeDetection_run-2_eeg.bdf: 100%|██████████| 1.00/1.00 [00:00<00:00, 1.42B/s]\n",
            "Downloading sub-NDARBJ674TVU_task-contrastChangeDetection_run-2_eeg.bdf: 100%|██████████| 1.00/1.00 [00:01<00:00, 1.06s/B]\n"
          ]
        },
        {
          "output_type": "stream",
          "name": "stdout",
          "text": [
            "\n",
            "Recording 26 Analysis:\n",
            "  Shape: (129, 23900)\n",
            "  Sampling rate: 100.0 Hz\n",
            "  Data range: -0.392 to 0.329\n",
            "  Overall std: 0.006\n",
            "  Quality: NaN=0, Inf=0\n"
          ]
        },
        {
          "output_type": "stream",
          "name": "stderr",
          "text": [
            "Downloading sub-NDARBJ674TVU_task-contrastChangeDetection_run-3_eeg.bdf: 100%|██████████| 1.00/1.00 [00:00<00:00, 2.52B/s]\n",
            "Downloading sub-NDARBJ674TVU_task-contrastChangeDetection_run-3_eeg.bdf: 100%|██████████| 1.00/1.00 [00:00<00:00, 2.87B/s]\n"
          ]
        },
        {
          "output_type": "stream",
          "name": "stdout",
          "text": [
            "\n",
            "Recording 27 Analysis:\n",
            "  Shape: (129, 23500)\n",
            "  Sampling rate: 100.0 Hz\n",
            "  Data range: -0.332 to 0.330\n",
            "  Overall std: 0.006\n",
            "  Quality: NaN=0, Inf=0\n"
          ]
        },
        {
          "output_type": "stream",
          "name": "stderr",
          "text": [
            "Downloading sub-NDARBM433VER_task-contrastChangeDetection_run-1_events.tsv: 100%|██████████| 1.00/1.00 [00:00<00:00, 4.14B/s]\n",
            "Downloading sub-NDARBM433VER_task-seqLearning8target_events.tsv: 100%|██████████| 1.00/1.00 [00:00<00:00, 4.06B/s]\n",
            "Downloading sub-NDARBM433VER_task-DiaryOfAWimpyKid_events.tsv: 100%|██████████| 1.00/1.00 [00:00<00:00, 4.27B/s]\n",
            "Downloading sub-NDARBM433VER_task-symbolSearch_events.tsv: 100%|██████████| 1.00/1.00 [00:00<00:00, 4.11B/s]\n",
            "Downloading sub-NDARBM433VER_task-FunwithFractals_events.tsv: 100%|██████████| 1.00/1.00 [00:00<00:00, 4.23B/s]\n",
            "Downloading sub-NDARBM433VER_task-contrastChangeDetection_run-2_events.tsv: 100%|██████████| 1.00/1.00 [00:00<00:00, 4.31B/s]\n",
            "Downloading sub-NDARBM433VER_task-surroundSupp_run-2_events.tsv: 100%|██████████| 1.00/1.00 [00:00<00:00, 4.20B/s]\n",
            "Downloading sub-NDARBM433VER_task-RestingState_events.tsv: 100%|██████████| 1.00/1.00 [00:00<00:00, 4.26B/s]\n",
            "Downloading sub-NDARBM433VER_task-DespicableMe_events.tsv: 100%|██████████| 1.00/1.00 [00:00<00:00, 4.25B/s]\n",
            "Downloading sub-NDARBM433VER_task-contrastChangeDetection_run-3_events.tsv: 100%|██████████| 1.00/1.00 [00:00<00:00, 4.21B/s]\n",
            "Downloading sub-NDARBM433VER_task-surroundSupp_run-1_events.tsv: 100%|██████████| 1.00/1.00 [00:00<00:00, 4.18B/s]\n",
            "Downloading sub-NDARBM433VER_task-ThePresent_events.tsv: 100%|██████████| 1.00/1.00 [00:00<00:00, 4.39B/s]\n",
            "Downloading sub-NDARBM433VER_task-surroundSupp_run-1_eeg.json: 100%|██████████| 1.00/1.00 [00:00<00:00, 4.29B/s]\n",
            "Downloading sub-NDARBM433VER_task-symbolSearch_eeg.json: 100%|██████████| 1.00/1.00 [00:00<00:00, 4.25B/s]\n",
            "Downloading sub-NDARBM433VER_task-FunwithFractals_eeg.json: 100%|██████████| 1.00/1.00 [00:00<00:00, 4.16B/s]\n",
            "Downloading sub-NDARBM433VER_task-DiaryOfAWimpyKid_eeg.json: 100%|██████████| 1.00/1.00 [00:00<00:00, 4.22B/s]\n",
            "Downloading sub-NDARBM433VER_task-ThePresent_eeg.json: 100%|██████████| 1.00/1.00 [00:00<00:00, 4.24B/s]\n",
            "Downloading sub-NDARBM433VER_task-contrastChangeDetection_run-3_eeg.json: 100%|██████████| 1.00/1.00 [00:00<00:00, 4.18B/s]\n",
            "Downloading sub-NDARBM433VER_task-DespicableMe_eeg.json: 100%|██████████| 1.00/1.00 [00:00<00:00, 4.27B/s]\n",
            "Downloading sub-NDARBM433VER_task-RestingState_eeg.json: 100%|██████████| 1.00/1.00 [00:00<00:00, 4.21B/s]\n",
            "Downloading sub-NDARBM433VER_task-seqLearning8target_eeg.json: 100%|██████████| 1.00/1.00 [00:00<00:00, 4.25B/s]\n",
            "Downloading sub-NDARBM433VER_task-contrastChangeDetection_run-2_eeg.json: 100%|██████████| 1.00/1.00 [00:00<00:00, 3.94B/s]\n",
            "Downloading sub-NDARBM433VER_task-contrastChangeDetection_run-1_eeg.json: 100%|██████████| 1.00/1.00 [00:00<00:00, 4.27B/s]\n",
            "Downloading sub-NDARBM433VER_task-surroundSupp_run-2_eeg.json: 100%|██████████| 1.00/1.00 [00:00<00:00, 4.26B/s]\n",
            "Downloading sub-NDARBM433VER_task-RestingState_channels.tsv: 100%|██████████| 1.00/1.00 [00:00<00:00, 4.00B/s]\n",
            "Downloading sub-NDARBM433VER_task-contrastChangeDetection_run-3_channels.tsv: 100%|██████████| 1.00/1.00 [00:00<00:00, 4.22B/s]\n",
            "Downloading sub-NDARBM433VER_task-surroundSupp_run-1_channels.tsv: 100%|██████████| 1.00/1.00 [00:00<00:00, 4.26B/s]\n",
            "Downloading sub-NDARBM433VER_task-contrastChangeDetection_run-2_channels.tsv: 100%|██████████| 1.00/1.00 [00:00<00:00, 4.20B/s]\n",
            "Downloading sub-NDARBM433VER_task-DespicableMe_channels.tsv: 100%|██████████| 1.00/1.00 [00:00<00:00, 4.23B/s]\n",
            "Downloading sub-NDARBM433VER_task-DiaryOfAWimpyKid_channels.tsv: 100%|██████████| 1.00/1.00 [00:00<00:00, 4.21B/s]\n",
            "Downloading sub-NDARBM433VER_task-FunwithFractals_channels.tsv: 100%|██████████| 1.00/1.00 [00:00<00:00, 2.13B/s]\n",
            "Downloading sub-NDARBM433VER_task-ThePresent_channels.tsv: 100%|██████████| 1.00/1.00 [00:00<00:00, 3.94B/s]\n",
            "Downloading sub-NDARBM433VER_task-symbolSearch_channels.tsv: 100%|██████████| 1.00/1.00 [00:00<00:00, 4.28B/s]\n",
            "Downloading sub-NDARBM433VER_task-contrastChangeDetection_run-1_channels.tsv: 100%|██████████| 1.00/1.00 [00:00<00:00, 4.25B/s]\n",
            "Downloading sub-NDARBM433VER_task-seqLearning8target_channels.tsv: 100%|██████████| 1.00/1.00 [00:00<00:00, 4.21B/s]\n",
            "Downloading sub-NDARBM433VER_task-surroundSupp_run-2_channels.tsv: 100%|██████████| 1.00/1.00 [00:00<00:00, 4.19B/s]\n",
            "Downloading sub-NDARBM433VER_task-contrastChangeDetection_run-2_eeg.bdf: 100%|██████████| 1.00/1.00 [00:01<00:00, 1.13s/B]\n",
            "Downloading sub-NDARBM433VER_task-contrastChangeDetection_run-2_eeg.bdf: 100%|██████████| 1.00/1.00 [00:00<00:00, 2.84B/s]\n"
          ]
        },
        {
          "output_type": "stream",
          "name": "stdout",
          "text": [
            "\n",
            "Recording 28 Analysis:\n",
            "  Shape: (129, 24900)\n",
            "  Sampling rate: 100.0 Hz\n",
            "  Data range: -0.352 to 0.205\n",
            "  Overall std: 0.002\n",
            "  Quality: NaN=0, Inf=0\n"
          ]
        },
        {
          "output_type": "stream",
          "name": "stderr",
          "text": [
            "Downloading sub-NDARBM433VER_task-contrastChangeDetection_run-1_eeg.bdf: 100%|██████████| 1.00/1.00 [00:00<00:00, 1.38B/s]\n",
            "Downloading sub-NDARBM433VER_task-contrastChangeDetection_run-1_eeg.bdf: 100%|██████████| 1.00/1.00 [00:00<00:00, 1.53B/s]\n"
          ]
        },
        {
          "output_type": "stream",
          "name": "stdout",
          "text": [
            "\n",
            "Recording 29 Analysis:\n",
            "  Shape: (129, 48500)\n",
            "  Sampling rate: 100.0 Hz\n",
            "  Data range: -0.410 to 0.243\n",
            "  Overall std: 0.002\n",
            "  Quality: NaN=0, Inf=0\n"
          ]
        },
        {
          "output_type": "stream",
          "name": "stderr",
          "text": [
            "Downloading sub-NDARBM433VER_task-contrastChangeDetection_run-3_eeg.bdf: 100%|██████████| 1.00/1.00 [00:00<00:00, 1.85B/s]\n",
            "Downloading sub-NDARBM433VER_task-contrastChangeDetection_run-3_eeg.bdf: 100%|██████████| 1.00/1.00 [00:00<00:00, 2.23B/s]\n"
          ]
        },
        {
          "output_type": "stream",
          "name": "stdout",
          "text": [
            "\n",
            "Recording 30 Analysis:\n",
            "  Shape: (129, 32200)\n",
            "  Sampling rate: 100.0 Hz\n",
            "  Data range: -0.059 to 0.008\n",
            "  Overall std: 0.000\n",
            "  Quality: NaN=0, Inf=0\n"
          ]
        },
        {
          "output_type": "stream",
          "name": "stderr",
          "text": [
            "Downloading sub-NDARCA740UC8_task-RestingState_events.tsv: 100%|██████████| 1.00/1.00 [00:00<00:00, 4.21B/s]\n",
            "Downloading sub-NDARCA740UC8_task-FunwithFractals_events.tsv: 100%|██████████| 1.00/1.00 [00:00<00:00, 4.20B/s]\n",
            "Downloading sub-NDARCA740UC8_task-ThePresent_events.tsv: 100%|██████████| 1.00/1.00 [00:00<00:00, 4.40B/s]\n",
            "Downloading sub-NDARCA740UC8_task-symbolSearch_events.tsv: 100%|██████████| 1.00/1.00 [00:00<00:00, 4.20B/s]\n",
            "Downloading sub-NDARCA740UC8_task-contrastChangeDetection_run-2_events.tsv: 100%|██████████| 1.00/1.00 [00:00<00:00, 4.23B/s]\n",
            "Downloading sub-NDARCA740UC8_task-surroundSupp_run-1_events.tsv: 100%|██████████| 1.00/1.00 [00:00<00:00, 4.24B/s]\n",
            "Downloading sub-NDARCA740UC8_task-seqLearning8target_events.tsv: 100%|██████████| 1.00/1.00 [00:00<00:00, 4.21B/s]\n",
            "Downloading sub-NDARCA740UC8_task-contrastChangeDetection_run-1_events.tsv: 100%|██████████| 1.00/1.00 [00:00<00:00, 4.23B/s]\n",
            "Downloading sub-NDARCA740UC8_task-surroundSupp_run-2_events.tsv: 100%|██████████| 1.00/1.00 [00:00<00:00, 4.19B/s]\n",
            "Downloading sub-NDARCA740UC8_task-DespicableMe_events.tsv: 100%|██████████| 1.00/1.00 [00:00<00:00, 4.19B/s]\n",
            "Downloading sub-NDARCA740UC8_task-contrastChangeDetection_run-3_events.tsv: 100%|██████████| 1.00/1.00 [00:00<00:00, 4.19B/s]\n",
            "Downloading sub-NDARCA740UC8_task-DiaryOfAWimpyKid_events.tsv: 100%|██████████| 1.00/1.00 [00:00<00:00, 4.19B/s]\n",
            "Downloading sub-NDARCA740UC8_task-surroundSupp_run-2_eeg.json: 100%|██████████| 1.00/1.00 [00:00<00:00, 4.23B/s]\n",
            "Downloading sub-NDARCA740UC8_task-symbolSearch_eeg.json: 100%|██████████| 1.00/1.00 [00:00<00:00, 4.23B/s]\n",
            "Downloading sub-NDARCA740UC8_task-surroundSupp_run-1_eeg.json: 100%|██████████| 1.00/1.00 [00:00<00:00, 4.25B/s]\n",
            "Downloading sub-NDARCA740UC8_task-seqLearning8target_eeg.json: 100%|██████████| 1.00/1.00 [00:00<00:00, 4.23B/s]\n",
            "Downloading sub-NDARCA740UC8_task-FunwithFractals_eeg.json: 100%|██████████| 1.00/1.00 [00:00<00:00, 4.23B/s]\n",
            "Downloading sub-NDARCA740UC8_task-contrastChangeDetection_run-2_eeg.json: 100%|██████████| 1.00/1.00 [00:00<00:00, 4.24B/s]\n",
            "Downloading sub-NDARCA740UC8_task-contrastChangeDetection_run-3_eeg.json: 100%|██████████| 1.00/1.00 [00:00<00:00, 4.19B/s]\n",
            "Downloading sub-NDARCA740UC8_task-RestingState_eeg.json: 100%|██████████| 1.00/1.00 [00:00<00:00, 4.16B/s]\n",
            "Downloading sub-NDARCA740UC8_task-contrastChangeDetection_run-1_eeg.json: 100%|██████████| 1.00/1.00 [00:00<00:00, 4.17B/s]\n",
            "Downloading sub-NDARCA740UC8_task-ThePresent_eeg.json: 100%|██████████| 1.00/1.00 [00:00<00:00, 2.15B/s]\n",
            "Downloading sub-NDARCA740UC8_task-DiaryOfAWimpyKid_eeg.json: 100%|██████████| 1.00/1.00 [00:00<00:00, 4.23B/s]\n",
            "Downloading sub-NDARCA740UC8_task-DespicableMe_eeg.json: 100%|██████████| 1.00/1.00 [00:00<00:00, 4.29B/s]\n",
            "Downloading sub-NDARCA740UC8_task-surroundSupp_run-2_channels.tsv: 100%|██████████| 1.00/1.00 [00:00<00:00, 4.31B/s]\n",
            "Downloading sub-NDARCA740UC8_task-seqLearning8target_channels.tsv: 100%|██████████| 1.00/1.00 [00:00<00:00, 4.23B/s]\n",
            "Downloading sub-NDARCA740UC8_task-surroundSupp_run-1_channels.tsv: 100%|██████████| 1.00/1.00 [00:00<00:00, 4.32B/s]\n",
            "Downloading sub-NDARCA740UC8_task-DespicableMe_channels.tsv: 100%|██████████| 1.00/1.00 [00:00<00:00, 4.16B/s]\n",
            "Downloading sub-NDARCA740UC8_task-symbolSearch_channels.tsv: 100%|██████████| 1.00/1.00 [00:00<00:00, 4.16B/s]\n",
            "Downloading sub-NDARCA740UC8_task-contrastChangeDetection_run-2_channels.tsv: 100%|██████████| 1.00/1.00 [00:00<00:00, 4.13B/s]\n",
            "Downloading sub-NDARCA740UC8_task-DiaryOfAWimpyKid_channels.tsv: 100%|██████████| 1.00/1.00 [00:00<00:00, 3.67B/s]\n",
            "Downloading sub-NDARCA740UC8_task-contrastChangeDetection_run-1_channels.tsv: 100%|██████████| 1.00/1.00 [00:00<00:00, 4.30B/s]\n",
            "Downloading sub-NDARCA740UC8_task-contrastChangeDetection_run-3_channels.tsv: 100%|██████████| 1.00/1.00 [00:00<00:00, 3.83B/s]\n",
            "Downloading sub-NDARCA740UC8_task-FunwithFractals_channels.tsv: 100%|██████████| 1.00/1.00 [00:00<00:00, 3.43B/s]\n",
            "Downloading sub-NDARCA740UC8_task-ThePresent_channels.tsv: 100%|██████████| 1.00/1.00 [00:00<00:00, 3.75B/s]\n",
            "Downloading sub-NDARCA740UC8_task-RestingState_channels.tsv: 100%|██████████| 1.00/1.00 [00:00<00:00, 4.28B/s]\n",
            "Downloading sub-NDARCA740UC8_task-contrastChangeDetection_run-2_eeg.bdf: 100%|██████████| 1.00/1.00 [00:01<00:00, 1.04s/B]\n",
            "Downloading sub-NDARCA740UC8_task-contrastChangeDetection_run-2_eeg.bdf: 100%|██████████| 1.00/1.00 [00:00<00:00, 2.28B/s]\n"
          ]
        },
        {
          "output_type": "stream",
          "name": "stdout",
          "text": [
            "\n",
            "Recording 31 Analysis:\n",
            "  Shape: (129, 29000)\n",
            "  Sampling rate: 100.0 Hz\n",
            "  Data range: 0.000 to 0.000\n",
            "  Overall std: 0.000\n",
            "  Quality: NaN=0, Inf=0\n"
          ]
        },
        {
          "output_type": "stream",
          "name": "stderr",
          "text": [
            "Downloading sub-NDARCA740UC8_task-contrastChangeDetection_run-3_eeg.bdf: 100%|██████████| 1.00/1.00 [00:00<00:00, 2.25B/s]\n",
            "Downloading sub-NDARCA740UC8_task-contrastChangeDetection_run-3_eeg.bdf: 100%|██████████| 1.00/1.00 [00:00<00:00, 2.27B/s]\n"
          ]
        },
        {
          "output_type": "stream",
          "name": "stdout",
          "text": [
            "\n",
            "Recording 32 Analysis:\n",
            "  Shape: (129, 32800)\n",
            "  Sampling rate: 100.0 Hz\n",
            "  Data range: 0.000 to 0.000\n",
            "  Overall std: 0.000\n",
            "  Quality: NaN=0, Inf=0\n"
          ]
        },
        {
          "output_type": "stream",
          "name": "stderr",
          "text": [
            "Downloading sub-NDARCA740UC8_task-contrastChangeDetection_run-1_eeg.bdf: 100%|██████████| 1.00/1.00 [00:00<00:00, 1.84B/s]\n",
            "Downloading sub-NDARCA740UC8_task-contrastChangeDetection_run-1_eeg.bdf: 100%|██████████| 1.00/1.00 [00:00<00:00, 1.87B/s]\n"
          ]
        },
        {
          "output_type": "stream",
          "name": "stdout",
          "text": [
            "\n",
            "Recording 33 Analysis:\n",
            "  Shape: (129, 37900)\n",
            "  Sampling rate: 100.0 Hz\n",
            "  Data range: 0.000 to 0.000\n",
            "  Overall std: 0.000\n",
            "  Quality: NaN=0, Inf=0\n"
          ]
        },
        {
          "output_type": "stream",
          "name": "stderr",
          "text": [
            "Downloading sub-NDARCU633GCZ_task-contrastChangeDetection_run-2_events.tsv: 100%|██████████| 1.00/1.00 [00:00<00:00, 4.26B/s]\n",
            "Downloading sub-NDARCU633GCZ_task-DiaryOfAWimpyKid_events.tsv: 100%|██████████| 1.00/1.00 [00:00<00:00, 4.25B/s]\n",
            "Downloading sub-NDARCU633GCZ_task-seqLearning8target_events.tsv: 100%|██████████| 1.00/1.00 [00:00<00:00, 4.17B/s]\n",
            "Downloading sub-NDARCU633GCZ_task-DespicableMe_events.tsv: 100%|██████████| 1.00/1.00 [00:00<00:00, 4.28B/s]\n",
            "Downloading sub-NDARCU633GCZ_task-FunwithFractals_events.tsv: 100%|██████████| 1.00/1.00 [00:00<00:00, 4.34B/s]\n",
            "Downloading sub-NDARCU633GCZ_task-contrastChangeDetection_run-3_events.tsv: 100%|██████████| 1.00/1.00 [00:00<00:00, 4.34B/s]\n",
            "Downloading sub-NDARCU633GCZ_task-surroundSupp_run-1_events.tsv: 100%|██████████| 1.00/1.00 [00:00<00:00, 4.15B/s]\n",
            "Downloading sub-NDARCU633GCZ_task-ThePresent_events.tsv: 100%|██████████| 1.00/1.00 [00:00<00:00, 4.35B/s]\n",
            "Downloading sub-NDARCU633GCZ_task-symbolSearch_events.tsv: 100%|██████████| 1.00/1.00 [00:00<00:00, 4.33B/s]\n",
            "Downloading sub-NDARCU633GCZ_task-surroundSupp_run-2_events.tsv: 100%|██████████| 1.00/1.00 [00:00<00:00, 3.96B/s]\n",
            "Downloading sub-NDARCU633GCZ_task-contrastChangeDetection_run-1_events.tsv: 100%|██████████| 1.00/1.00 [00:00<00:00, 4.28B/s]\n",
            "Downloading sub-NDARCU633GCZ_task-RestingState_events.tsv: 100%|██████████| 1.00/1.00 [00:00<00:00, 3.92B/s]\n",
            "Downloading sub-NDARCU633GCZ_task-contrastChangeDetection_run-3_eeg.json: 100%|██████████| 1.00/1.00 [00:00<00:00, 4.31B/s]\n",
            "Downloading sub-NDARCU633GCZ_task-ThePresent_eeg.json: 100%|██████████| 1.00/1.00 [00:00<00:00, 4.23B/s]\n",
            "Downloading sub-NDARCU633GCZ_task-contrastChangeDetection_run-1_eeg.json: 100%|██████████| 1.00/1.00 [00:00<00:00, 4.21B/s]\n",
            "Downloading sub-NDARCU633GCZ_task-seqLearning8target_eeg.json: 100%|██████████| 1.00/1.00 [00:00<00:00, 4.26B/s]\n",
            "Downloading sub-NDARCU633GCZ_task-surroundSupp_run-2_eeg.json: 100%|██████████| 1.00/1.00 [00:00<00:00, 4.16B/s]\n",
            "Downloading sub-NDARCU633GCZ_task-FunwithFractals_eeg.json: 100%|██████████| 1.00/1.00 [00:00<00:00, 4.26B/s]\n",
            "Downloading sub-NDARCU633GCZ_task-RestingState_eeg.json: 100%|██████████| 1.00/1.00 [00:00<00:00, 4.21B/s]\n",
            "Downloading sub-NDARCU633GCZ_task-symbolSearch_eeg.json: 100%|██████████| 1.00/1.00 [00:00<00:00, 4.21B/s]\n",
            "Downloading sub-NDARCU633GCZ_task-DiaryOfAWimpyKid_eeg.json: 100%|██████████| 1.00/1.00 [00:00<00:00, 4.21B/s]\n",
            "Downloading sub-NDARCU633GCZ_task-DespicableMe_eeg.json: 100%|██████████| 1.00/1.00 [00:00<00:00, 4.19B/s]\n",
            "Downloading sub-NDARCU633GCZ_task-surroundSupp_run-1_eeg.json: 100%|██████████| 1.00/1.00 [00:00<00:00, 4.21B/s]\n",
            "Downloading sub-NDARCU633GCZ_task-contrastChangeDetection_run-2_eeg.json: 100%|██████████| 1.00/1.00 [00:00<00:00, 4.15B/s]\n",
            "Downloading sub-NDARCU633GCZ_task-RestingState_channels.tsv: 100%|██████████| 1.00/1.00 [00:00<00:00, 4.15B/s]\n",
            "Downloading sub-NDARCU633GCZ_task-ThePresent_channels.tsv: 100%|██████████| 1.00/1.00 [00:00<00:00, 3.87B/s]\n",
            "Downloading sub-NDARCU633GCZ_task-symbolSearch_channels.tsv: 100%|██████████| 1.00/1.00 [00:00<00:00, 4.25B/s]\n",
            "Downloading sub-NDARCU633GCZ_task-FunwithFractals_channels.tsv: 100%|██████████| 1.00/1.00 [00:00<00:00, 4.18B/s]\n",
            "Downloading sub-NDARCU633GCZ_task-contrastChangeDetection_run-2_channels.tsv: 100%|██████████| 1.00/1.00 [00:00<00:00, 4.06B/s]\n",
            "Downloading sub-NDARCU633GCZ_task-contrastChangeDetection_run-1_channels.tsv: 100%|██████████| 1.00/1.00 [00:00<00:00, 4.13B/s]\n",
            "Downloading sub-NDARCU633GCZ_task-surroundSupp_run-2_channels.tsv: 100%|██████████| 1.00/1.00 [00:00<00:00, 4.32B/s]\n",
            "Downloading sub-NDARCU633GCZ_task-seqLearning8target_channels.tsv: 100%|██████████| 1.00/1.00 [00:00<00:00, 4.30B/s]\n",
            "Downloading sub-NDARCU633GCZ_task-DespicableMe_channels.tsv: 100%|██████████| 1.00/1.00 [00:00<00:00, 4.22B/s]\n",
            "Downloading sub-NDARCU633GCZ_task-DiaryOfAWimpyKid_channels.tsv: 100%|██████████| 1.00/1.00 [00:00<00:00, 4.22B/s]\n",
            "Downloading sub-NDARCU633GCZ_task-contrastChangeDetection_run-3_channels.tsv: 100%|██████████| 1.00/1.00 [00:00<00:00, 4.19B/s]\n",
            "Downloading sub-NDARCU633GCZ_task-surroundSupp_run-1_channels.tsv: 100%|██████████| 1.00/1.00 [00:00<00:00, 4.26B/s]\n",
            "Downloading sub-NDARCU633GCZ_task-contrastChangeDetection_run-2_eeg.bdf: 100%|██████████| 1.00/1.00 [00:01<00:00, 1.12s/B]\n",
            "Downloading sub-NDARCU633GCZ_task-contrastChangeDetection_run-2_eeg.bdf: 100%|██████████| 1.00/1.00 [00:00<00:00, 2.89B/s]\n"
          ]
        },
        {
          "output_type": "stream",
          "name": "stdout",
          "text": [
            "\n",
            "Recording 34 Analysis:\n",
            "  Shape: (129, 19700)\n",
            "  Sampling rate: 100.0 Hz\n",
            "  Data range: -0.033 to 0.025\n",
            "  Overall std: 0.000\n",
            "  Quality: NaN=0, Inf=0\n"
          ]
        },
        {
          "output_type": "stream",
          "name": "stderr",
          "text": [
            "Downloading sub-NDARCU633GCZ_task-contrastChangeDetection_run-3_eeg.bdf: 100%|██████████| 1.00/1.00 [00:00<00:00, 3.12B/s]\n",
            "Downloading sub-NDARCU633GCZ_task-contrastChangeDetection_run-3_eeg.bdf: 100%|██████████| 1.00/1.00 [00:00<00:00, 3.97B/s]\n"
          ]
        },
        {
          "output_type": "stream",
          "name": "stdout",
          "text": [
            "\n",
            "Recording 35 Analysis:\n",
            "  Shape: (129, 15400)\n",
            "  Sampling rate: 100.0 Hz\n",
            "  Data range: -0.195 to 0.022\n",
            "  Overall std: 0.001\n",
            "  Quality: NaN=0, Inf=0\n"
          ]
        },
        {
          "output_type": "stream",
          "name": "stderr",
          "text": [
            "Downloading sub-NDARCU633GCZ_task-contrastChangeDetection_run-1_eeg.bdf: 100%|██████████| 1.00/1.00 [00:00<00:00, 1.95B/s]\n",
            "Downloading sub-NDARCU633GCZ_task-contrastChangeDetection_run-1_eeg.bdf: 100%|██████████| 1.00/1.00 [00:00<00:00, 2.21B/s]\n"
          ]
        },
        {
          "output_type": "stream",
          "name": "stdout",
          "text": [
            "\n",
            "Recording 36 Analysis:\n",
            "  Shape: (129, 27300)\n",
            "  Sampling rate: 100.0 Hz\n",
            "  Data range: -0.006 to 0.003\n",
            "  Overall std: 0.000\n",
            "  Quality: NaN=0, Inf=0\n"
          ]
        },
        {
          "output_type": "stream",
          "name": "stderr",
          "text": [
            "Downloading sub-NDARCU736GZ1_task-symbolSearch_events.tsv: 100%|██████████| 1.00/1.00 [00:00<00:00, 4.08B/s]\n",
            "Downloading sub-NDARCU736GZ1_task-RestingState_events.tsv: 100%|██████████| 1.00/1.00 [00:00<00:00, 3.91B/s]\n",
            "Downloading sub-NDARCU736GZ1_task-surroundSupp_run-1_events.tsv: 100%|██████████| 1.00/1.00 [00:00<00:00, 4.00B/s]\n",
            "Downloading sub-NDARCU736GZ1_task-DiaryOfAWimpyKid_events.tsv: 100%|██████████| 1.00/1.00 [00:00<00:00, 4.17B/s]\n",
            "Downloading sub-NDARCU736GZ1_task-ThePresent_events.tsv: 100%|██████████| 1.00/1.00 [00:00<00:00, 2.12B/s]\n",
            "Downloading sub-NDARCU736GZ1_task-contrastChangeDetection_run-2_events.tsv: 100%|██████████| 1.00/1.00 [00:00<00:00, 4.17B/s]\n",
            "Downloading sub-NDARCU736GZ1_task-seqLearning6target_events.tsv: 100%|██████████| 1.00/1.00 [00:00<00:00, 4.25B/s]\n",
            "Downloading sub-NDARCU736GZ1_task-contrastChangeDetection_run-1_events.tsv: 100%|██████████| 1.00/1.00 [00:00<00:00, 4.13B/s]\n",
            "Downloading sub-NDARCU736GZ1_task-FunwithFractals_events.tsv: 100%|██████████| 1.00/1.00 [00:00<00:00, 4.22B/s]\n",
            "Downloading sub-NDARCU736GZ1_task-DespicableMe_events.tsv: 100%|██████████| 1.00/1.00 [00:00<00:00, 4.17B/s]\n",
            "Downloading sub-NDARCU736GZ1_task-contrastChangeDetection_run-3_events.tsv: 100%|██████████| 1.00/1.00 [00:00<00:00, 4.18B/s]\n",
            "Downloading sub-NDARCU736GZ1_task-surroundSupp_run-2_events.tsv: 100%|██████████| 1.00/1.00 [00:00<00:00, 4.19B/s]\n",
            "Downloading sub-NDARCU736GZ1_task-ThePresent_eeg.json: 100%|██████████| 1.00/1.00 [00:00<00:00, 4.18B/s]\n",
            "Downloading sub-NDARCU736GZ1_task-symbolSearch_eeg.json: 100%|██████████| 1.00/1.00 [00:00<00:00, 3.37B/s]\n",
            "Downloading sub-NDARCU736GZ1_task-FunwithFractals_eeg.json: 100%|██████████| 1.00/1.00 [00:00<00:00, 4.14B/s]\n",
            "Downloading sub-NDARCU736GZ1_task-DespicableMe_eeg.json: 100%|██████████| 1.00/1.00 [00:00<00:00, 4.05B/s]\n",
            "Downloading sub-NDARCU736GZ1_task-contrastChangeDetection_run-1_eeg.json: 100%|██████████| 1.00/1.00 [00:00<00:00, 4.19B/s]\n",
            "Downloading sub-NDARCU736GZ1_task-DiaryOfAWimpyKid_eeg.json: 100%|██████████| 1.00/1.00 [00:00<00:00, 4.18B/s]\n",
            "Downloading sub-NDARCU736GZ1_task-contrastChangeDetection_run-2_eeg.json: 100%|██████████| 1.00/1.00 [00:00<00:00, 4.08B/s]\n",
            "Downloading sub-NDARCU736GZ1_task-surroundSupp_run-2_eeg.json: 100%|██████████| 1.00/1.00 [00:00<00:00, 4.12B/s]\n",
            "Downloading sub-NDARCU736GZ1_task-RestingState_eeg.json: 100%|██████████| 1.00/1.00 [00:00<00:00, 4.19B/s]\n",
            "Downloading sub-NDARCU736GZ1_task-surroundSupp_run-1_eeg.json: 100%|██████████| 1.00/1.00 [00:00<00:00, 4.12B/s]\n",
            "Downloading sub-NDARCU736GZ1_task-seqLearning6target_eeg.json: 100%|██████████| 1.00/1.00 [00:00<00:00, 4.18B/s]\n",
            "Downloading sub-NDARCU736GZ1_task-contrastChangeDetection_run-3_eeg.json: 100%|██████████| 1.00/1.00 [00:00<00:00, 4.15B/s]\n",
            "Downloading sub-NDARCU736GZ1_task-surroundSupp_run-2_channels.tsv: 100%|██████████| 1.00/1.00 [00:00<00:00, 3.92B/s]\n",
            "Downloading sub-NDARCU736GZ1_task-ThePresent_channels.tsv: 100%|██████████| 1.00/1.00 [00:00<00:00, 4.20B/s]\n",
            "Downloading sub-NDARCU736GZ1_task-contrastChangeDetection_run-3_channels.tsv: 100%|██████████| 1.00/1.00 [00:00<00:00, 4.20B/s]\n",
            "Downloading sub-NDARCU736GZ1_task-contrastChangeDetection_run-2_channels.tsv: 100%|██████████| 1.00/1.00 [00:00<00:00, 4.19B/s]\n",
            "Downloading sub-NDARCU736GZ1_task-surroundSupp_run-1_channels.tsv: 100%|██████████| 1.00/1.00 [00:00<00:00, 4.19B/s]\n",
            "Downloading sub-NDARCU736GZ1_task-seqLearning6target_channels.tsv: 100%|██████████| 1.00/1.00 [00:00<00:00, 4.12B/s]\n",
            "Downloading sub-NDARCU736GZ1_task-contrastChangeDetection_run-1_channels.tsv: 100%|██████████| 1.00/1.00 [00:00<00:00, 4.21B/s]\n",
            "Downloading sub-NDARCU736GZ1_task-RestingState_channels.tsv: 100%|██████████| 1.00/1.00 [00:00<00:00, 4.16B/s]\n",
            "Downloading sub-NDARCU736GZ1_task-DespicableMe_channels.tsv: 100%|██████████| 1.00/1.00 [00:00<00:00, 4.11B/s]\n",
            "Downloading sub-NDARCU736GZ1_task-symbolSearch_channels.tsv: 100%|██████████| 1.00/1.00 [00:00<00:00, 3.95B/s]\n",
            "Downloading sub-NDARCU736GZ1_task-DiaryOfAWimpyKid_channels.tsv: 100%|██████████| 1.00/1.00 [00:00<00:00, 4.18B/s]\n",
            "Downloading sub-NDARCU736GZ1_task-FunwithFractals_channels.tsv: 100%|██████████| 1.00/1.00 [00:00<00:00, 4.14B/s]\n",
            "Downloading sub-NDARCU736GZ1_task-contrastChangeDetection_run-2_eeg.bdf: 100%|██████████| 1.00/1.00 [00:01<00:00, 1.03s/B]\n",
            "Downloading sub-NDARCU736GZ1_task-contrastChangeDetection_run-2_eeg.bdf: 100%|██████████| 1.00/1.00 [00:00<00:00, 2.21B/s]\n"
          ]
        },
        {
          "output_type": "stream",
          "name": "stdout",
          "text": [
            "\n",
            "Recording 37 Analysis:\n",
            "  Shape: (129, 23800)\n",
            "  Sampling rate: 100.0 Hz\n",
            "  Data range: -0.008 to 0.007\n",
            "  Overall std: 0.000\n",
            "  Quality: NaN=0, Inf=0\n"
          ]
        },
        {
          "output_type": "stream",
          "name": "stderr",
          "text": [
            "Downloading sub-NDARCU736GZ1_task-contrastChangeDetection_run-3_eeg.bdf: 100%|██████████| 1.00/1.00 [00:01<00:00, 1.19s/B]\n",
            "Downloading sub-NDARCU736GZ1_task-contrastChangeDetection_run-3_eeg.bdf: 100%|██████████| 1.00/1.00 [00:00<00:00, 2.24B/s]\n"
          ]
        },
        {
          "output_type": "stream",
          "name": "stdout",
          "text": [
            "\n",
            "Recording 38 Analysis:\n",
            "  Shape: (129, 27200)\n",
            "  Sampling rate: 100.0 Hz\n",
            "  Data range: -0.001 to 0.004\n",
            "  Overall std: 0.000\n",
            "  Quality: NaN=0, Inf=0\n"
          ]
        },
        {
          "output_type": "stream",
          "name": "stderr",
          "text": [
            "Downloading sub-NDARCU736GZ1_task-contrastChangeDetection_run-1_eeg.bdf: 100%|██████████| 1.00/1.00 [00:00<00:00, 1.96B/s]\n",
            "Downloading sub-NDARCU736GZ1_task-contrastChangeDetection_run-1_eeg.bdf: 100%|██████████| 1.00/1.00 [00:00<00:00, 2.16B/s]\n"
          ]
        },
        {
          "output_type": "stream",
          "name": "stdout",
          "text": [
            "\n",
            "Recording 39 Analysis:\n",
            "  Shape: (129, 24000)\n",
            "  Sampling rate: 100.0 Hz\n",
            "  Data range: -0.006 to 0.017\n",
            "  Overall std: 0.000\n",
            "  Quality: NaN=0, Inf=0\n"
          ]
        },
        {
          "output_type": "stream",
          "name": "stderr",
          "text": [
            "Downloading sub-NDARCU744XWL_task-symbolSearch_events.tsv: 100%|██████████| 1.00/1.00 [00:00<00:00, 4.27B/s]\n",
            "Downloading sub-NDARCU744XWL_task-contrastChangeDetection_run-3_events.tsv: 100%|██████████| 1.00/1.00 [00:00<00:00, 4.00B/s]\n",
            "Downloading sub-NDARCU744XWL_task-RestingState_events.tsv: 100%|██████████| 1.00/1.00 [00:00<00:00, 4.30B/s]\n",
            "Downloading sub-NDARCU744XWL_task-DiaryOfAWimpyKid_events.tsv: 100%|██████████| 1.00/1.00 [00:00<00:00, 3.91B/s]\n",
            "Downloading sub-NDARCU744XWL_task-surroundSupp_run-2_events.tsv: 100%|██████████| 1.00/1.00 [00:00<00:00, 4.22B/s]\n",
            "Downloading sub-NDARCU744XWL_task-contrastChangeDetection_run-1_events.tsv: 100%|██████████| 1.00/1.00 [00:00<00:00, 4.21B/s]\n",
            "Downloading sub-NDARCU744XWL_task-DespicableMe_events.tsv: 100%|██████████| 1.00/1.00 [00:00<00:00, 4.25B/s]\n",
            "Downloading sub-NDARCU744XWL_task-ThePresent_events.tsv: 100%|██████████| 1.00/1.00 [00:00<00:00, 4.34B/s]\n",
            "Downloading sub-NDARCU744XWL_task-seqLearning8target_events.tsv: 100%|██████████| 1.00/1.00 [00:00<00:00, 4.02B/s]\n",
            "Downloading sub-NDARCU744XWL_task-contrastChangeDetection_run-2_events.tsv: 100%|██████████| 1.00/1.00 [00:00<00:00, 4.19B/s]\n",
            "Downloading sub-NDARCU744XWL_task-FunwithFractals_events.tsv: 100%|██████████| 1.00/1.00 [00:00<00:00, 4.24B/s]\n",
            "Downloading sub-NDARCU744XWL_task-surroundSupp_run-1_events.tsv: 100%|██████████| 1.00/1.00 [00:00<00:00, 3.96B/s]\n",
            "Downloading sub-NDARCU744XWL_task-FunwithFractals_eeg.json: 100%|██████████| 1.00/1.00 [00:00<00:00, 4.04B/s]\n",
            "Downloading sub-NDARCU744XWL_task-surroundSupp_run-1_eeg.json: 100%|██████████| 1.00/1.00 [00:00<00:00, 4.19B/s]\n",
            "Downloading sub-NDARCU744XWL_task-contrastChangeDetection_run-3_eeg.json: 100%|██████████| 1.00/1.00 [00:00<00:00, 4.26B/s]\n",
            "Downloading sub-NDARCU744XWL_task-surroundSupp_run-2_eeg.json: 100%|██████████| 1.00/1.00 [00:00<00:00, 4.25B/s]\n",
            "Downloading sub-NDARCU744XWL_task-DespicableMe_eeg.json: 100%|██████████| 1.00/1.00 [00:00<00:00, 4.24B/s]\n",
            "Downloading sub-NDARCU744XWL_task-seqLearning8target_eeg.json: 100%|██████████| 1.00/1.00 [00:00<00:00, 4.27B/s]\n",
            "Downloading sub-NDARCU744XWL_task-RestingState_eeg.json: 100%|██████████| 1.00/1.00 [00:00<00:00, 4.27B/s]\n",
            "Downloading sub-NDARCU744XWL_task-symbolSearch_eeg.json: 100%|██████████| 1.00/1.00 [00:00<00:00, 4.22B/s]\n",
            "Downloading sub-NDARCU744XWL_task-contrastChangeDetection_run-1_eeg.json: 100%|██████████| 1.00/1.00 [00:00<00:00, 4.27B/s]\n",
            "Downloading sub-NDARCU744XWL_task-DiaryOfAWimpyKid_eeg.json: 100%|██████████| 1.00/1.00 [00:00<00:00, 4.28B/s]\n",
            "Downloading sub-NDARCU744XWL_task-ThePresent_eeg.json: 100%|██████████| 1.00/1.00 [00:00<00:00, 4.06B/s]\n",
            "Downloading sub-NDARCU744XWL_task-contrastChangeDetection_run-2_eeg.json: 100%|██████████| 1.00/1.00 [00:00<00:00, 4.24B/s]\n",
            "Downloading sub-NDARCU744XWL_task-contrastChangeDetection_run-3_channels.tsv: 100%|██████████| 1.00/1.00 [00:00<00:00, 4.26B/s]\n",
            "Downloading sub-NDARCU744XWL_task-FunwithFractals_channels.tsv: 100%|██████████| 1.00/1.00 [00:00<00:00, 4.33B/s]\n",
            "Downloading sub-NDARCU744XWL_task-contrastChangeDetection_run-1_channels.tsv: 100%|██████████| 1.00/1.00 [00:00<00:00, 4.28B/s]\n",
            "Downloading sub-NDARCU744XWL_task-seqLearning8target_channels.tsv: 100%|██████████| 1.00/1.00 [00:00<00:00, 4.24B/s]\n",
            "Downloading sub-NDARCU744XWL_task-RestingState_channels.tsv: 100%|██████████| 1.00/1.00 [00:00<00:00, 4.24B/s]\n",
            "Downloading sub-NDARCU744XWL_task-surroundSupp_run-2_channels.tsv: 100%|██████████| 1.00/1.00 [00:00<00:00, 4.25B/s]\n",
            "Downloading sub-NDARCU744XWL_task-surroundSupp_run-1_channels.tsv: 100%|██████████| 1.00/1.00 [00:00<00:00, 4.16B/s]\n",
            "Downloading sub-NDARCU744XWL_task-symbolSearch_channels.tsv: 100%|██████████| 1.00/1.00 [00:00<00:00, 4.18B/s]\n",
            "Downloading sub-NDARCU744XWL_task-DiaryOfAWimpyKid_channels.tsv: 100%|██████████| 1.00/1.00 [00:00<00:00, 4.21B/s]\n",
            "Downloading sub-NDARCU744XWL_task-contrastChangeDetection_run-2_channels.tsv: 100%|██████████| 1.00/1.00 [00:00<00:00, 4.21B/s]\n",
            "Downloading sub-NDARCU744XWL_task-DespicableMe_channels.tsv: 100%|██████████| 1.00/1.00 [00:00<00:00, 4.26B/s]\n",
            "Downloading sub-NDARCU744XWL_task-ThePresent_channels.tsv: 100%|██████████| 1.00/1.00 [00:00<00:00, 3.85B/s]\n",
            "Downloading sub-NDARCU744XWL_task-contrastChangeDetection_run-1_eeg.bdf: 100%|██████████| 1.00/1.00 [00:01<00:00, 1.51s/B]\n",
            "Downloading sub-NDARCU744XWL_task-contrastChangeDetection_run-1_eeg.bdf: 100%|██████████| 1.00/1.00 [00:00<00:00, 1.18B/s]\n"
          ]
        },
        {
          "output_type": "stream",
          "name": "stdout",
          "text": [
            "\n",
            "Recording 40 Analysis:\n",
            "  Shape: (129, 61000)\n",
            "  Sampling rate: 100.0 Hz\n",
            "  Data range: -0.091 to 0.084\n",
            "  Overall std: 0.001\n",
            "  Quality: NaN=0, Inf=0\n"
          ]
        },
        {
          "output_type": "stream",
          "name": "stderr",
          "text": [
            "Downloading sub-NDARCU744XWL_task-contrastChangeDetection_run-2_eeg.bdf: 100%|██████████| 1.00/1.00 [00:00<00:00, 2.43B/s]\n",
            "Downloading sub-NDARCU744XWL_task-contrastChangeDetection_run-2_eeg.bdf: 100%|██████████| 1.00/1.00 [00:00<00:00, 2.80B/s]\n"
          ]
        },
        {
          "output_type": "stream",
          "name": "stdout",
          "text": [
            "\n",
            "Recording 41 Analysis:\n",
            "  Shape: (129, 23500)\n",
            "  Sampling rate: 100.0 Hz\n",
            "  Data range: -0.002 to 0.005\n",
            "  Overall std: 0.000\n",
            "  Quality: NaN=0, Inf=0\n"
          ]
        },
        {
          "output_type": "stream",
          "name": "stderr",
          "text": [
            "Downloading sub-NDARCU744XWL_task-contrastChangeDetection_run-3_eeg.bdf: 100%|██████████| 1.00/1.00 [00:00<00:00, 2.34B/s]\n",
            "Downloading sub-NDARCU744XWL_task-contrastChangeDetection_run-3_eeg.bdf: 100%|██████████| 1.00/1.00 [00:00<00:00, 2.93B/s]\n"
          ]
        },
        {
          "output_type": "stream",
          "name": "stdout",
          "text": [
            "\n",
            "Recording 42 Analysis:\n",
            "  Shape: (129, 22600)\n",
            "  Sampling rate: 100.0 Hz\n",
            "  Data range: -0.002 to 0.002\n",
            "  Overall std: 0.000\n",
            "  Quality: NaN=0, Inf=0\n"
          ]
        },
        {
          "output_type": "stream",
          "name": "stderr",
          "text": [
            "Downloading sub-NDARDC843HHM_task-seqLearning8target_events.tsv: 100%|██████████| 1.00/1.00 [00:00<00:00, 4.13B/s]\n",
            "Downloading sub-NDARDC843HHM_task-ThePresent_events.tsv: 100%|██████████| 1.00/1.00 [00:00<00:00, 4.34B/s]\n",
            "Downloading sub-NDARDC843HHM_task-contrastChangeDetection_run-1_events.tsv: 100%|██████████| 1.00/1.00 [00:00<00:00, 4.28B/s]\n",
            "Downloading sub-NDARDC843HHM_task-RestingState_events.tsv: 100%|██████████| 1.00/1.00 [00:00<00:00, 4.25B/s]\n",
            "Downloading sub-NDARDC843HHM_task-FunwithFractals_events.tsv: 100%|██████████| 1.00/1.00 [00:00<00:00, 4.22B/s]\n",
            "Downloading sub-NDARDC843HHM_task-DespicableMe_events.tsv: 100%|██████████| 1.00/1.00 [00:00<00:00, 4.20B/s]\n",
            "Downloading sub-NDARDC843HHM_task-surroundSupp_run-1_events.tsv: 100%|██████████| 1.00/1.00 [00:00<00:00, 4.18B/s]\n",
            "Downloading sub-NDARDC843HHM_task-symbolSearch_events.tsv: 100%|██████████| 1.00/1.00 [00:00<00:00, 4.19B/s]\n",
            "Downloading sub-NDARDC843HHM_task-contrastChangeDetection_run-2_events.tsv: 100%|██████████| 1.00/1.00 [00:00<00:00, 4.25B/s]\n",
            "Downloading sub-NDARDC843HHM_task-contrastChangeDetection_run-3_events.tsv: 100%|██████████| 1.00/1.00 [00:00<00:00, 4.31B/s]\n",
            "Downloading sub-NDARDC843HHM_task-surroundSupp_run-2_events.tsv: 100%|██████████| 1.00/1.00 [00:00<00:00, 3.89B/s]\n",
            "Downloading sub-NDARDC843HHM_task-DiaryOfAWimpyKid_events.tsv: 100%|██████████| 1.00/1.00 [00:00<00:00, 4.14B/s]\n",
            "Downloading sub-NDARDC843HHM_task-contrastChangeDetection_run-2_eeg.json: 100%|██████████| 1.00/1.00 [00:00<00:00, 4.19B/s]\n",
            "Downloading sub-NDARDC843HHM_task-ThePresent_eeg.json: 100%|██████████| 1.00/1.00 [00:00<00:00, 4.21B/s]\n",
            "Downloading sub-NDARDC843HHM_task-surroundSupp_run-1_eeg.json: 100%|██████████| 1.00/1.00 [00:00<00:00, 4.21B/s]\n",
            "Downloading sub-NDARDC843HHM_task-DiaryOfAWimpyKid_eeg.json: 100%|██████████| 1.00/1.00 [00:00<00:00, 4.18B/s]\n",
            "Downloading sub-NDARDC843HHM_task-RestingState_eeg.json: 100%|██████████| 1.00/1.00 [00:00<00:00, 4.20B/s]\n",
            "Downloading sub-NDARDC843HHM_task-DespicableMe_eeg.json: 100%|██████████| 1.00/1.00 [00:00<00:00, 4.19B/s]\n",
            "Downloading sub-NDARDC843HHM_task-surroundSupp_run-2_eeg.json: 100%|██████████| 1.00/1.00 [00:00<00:00, 4.19B/s]\n",
            "Downloading sub-NDARDC843HHM_task-contrastChangeDetection_run-3_eeg.json: 100%|██████████| 1.00/1.00 [00:00<00:00, 4.21B/s]\n",
            "Downloading sub-NDARDC843HHM_task-contrastChangeDetection_run-1_eeg.json: 100%|██████████| 1.00/1.00 [00:00<00:00, 2.15B/s]\n",
            "Downloading sub-NDARDC843HHM_task-seqLearning8target_eeg.json: 100%|██████████| 1.00/1.00 [00:00<00:00, 3.99B/s]\n",
            "Downloading sub-NDARDC843HHM_task-FunwithFractals_eeg.json: 100%|██████████| 1.00/1.00 [00:00<00:00, 4.27B/s]\n",
            "Downloading sub-NDARDC843HHM_task-symbolSearch_eeg.json: 100%|██████████| 1.00/1.00 [00:00<00:00, 4.32B/s]\n",
            "Downloading sub-NDARDC843HHM_task-surroundSupp_run-1_channels.tsv: 100%|██████████| 1.00/1.00 [00:00<00:00, 4.07B/s]\n",
            "Downloading sub-NDARDC843HHM_task-contrastChangeDetection_run-1_channels.tsv: 100%|██████████| 1.00/1.00 [00:00<00:00, 4.15B/s]\n",
            "Downloading sub-NDARDC843HHM_task-surroundSupp_run-2_channels.tsv: 100%|██████████| 1.00/1.00 [00:00<00:00, 4.13B/s]\n",
            "Downloading sub-NDARDC843HHM_task-FunwithFractals_channels.tsv: 100%|██████████| 1.00/1.00 [00:00<00:00, 4.25B/s]\n",
            "Downloading sub-NDARDC843HHM_task-contrastChangeDetection_run-3_channels.tsv: 100%|██████████| 1.00/1.00 [00:00<00:00, 3.99B/s]\n",
            "Downloading sub-NDARDC843HHM_task-seqLearning8target_channels.tsv: 100%|██████████| 1.00/1.00 [00:00<00:00, 4.27B/s]\n",
            "Downloading sub-NDARDC843HHM_task-DiaryOfAWimpyKid_channels.tsv: 100%|██████████| 1.00/1.00 [00:00<00:00, 4.18B/s]\n",
            "Downloading sub-NDARDC843HHM_task-symbolSearch_channels.tsv: 100%|██████████| 1.00/1.00 [00:00<00:00, 4.29B/s]\n",
            "Downloading sub-NDARDC843HHM_task-contrastChangeDetection_run-2_channels.tsv: 100%|██████████| 1.00/1.00 [00:00<00:00, 4.14B/s]\n",
            "Downloading sub-NDARDC843HHM_task-DespicableMe_channels.tsv: 100%|██████████| 1.00/1.00 [00:00<00:00, 4.21B/s]\n",
            "Downloading sub-NDARDC843HHM_task-ThePresent_channels.tsv: 100%|██████████| 1.00/1.00 [00:00<00:00, 4.29B/s]\n",
            "Downloading sub-NDARDC843HHM_task-RestingState_channels.tsv: 100%|██████████| 1.00/1.00 [00:00<00:00, 4.23B/s]\n",
            "Downloading sub-NDARDC843HHM_task-contrastChangeDetection_run-2_eeg.bdf: 100%|██████████| 1.00/1.00 [00:01<00:00, 1.21s/B]\n",
            "Downloading sub-NDARDC843HHM_task-contrastChangeDetection_run-2_eeg.bdf: 100%|██████████| 1.00/1.00 [00:00<00:00, 2.31B/s]\n"
          ]
        },
        {
          "output_type": "stream",
          "name": "stdout",
          "text": [
            "\n",
            "Recording 43 Analysis:\n",
            "  Shape: (129, 27500)\n",
            "  Sampling rate: 100.0 Hz\n",
            "  Data range: -0.012 to 0.016\n",
            "  Overall std: 0.000\n",
            "  Quality: NaN=0, Inf=0\n"
          ]
        },
        {
          "output_type": "stream",
          "name": "stderr",
          "text": [
            "Downloading sub-NDARDC843HHM_task-contrastChangeDetection_run-1_eeg.bdf: 100%|██████████| 1.00/1.00 [00:00<00:00, 2.36B/s]\n",
            "Downloading sub-NDARDC843HHM_task-contrastChangeDetection_run-1_eeg.bdf: 100%|██████████| 1.00/1.00 [00:00<00:00, 2.85B/s]\n"
          ]
        },
        {
          "output_type": "stream",
          "name": "stdout",
          "text": [
            "\n",
            "Recording 44 Analysis:\n",
            "  Shape: (129, 25000)\n",
            "  Sampling rate: 100.0 Hz\n",
            "  Data range: -0.009 to 0.008\n",
            "  Overall std: 0.000\n",
            "  Quality: NaN=0, Inf=0\n"
          ]
        },
        {
          "output_type": "stream",
          "name": "stderr",
          "text": [
            "Downloading sub-NDARDC843HHM_task-contrastChangeDetection_run-3_eeg.bdf: 100%|██████████| 1.00/1.00 [00:00<00:00, 2.54B/s]\n",
            "Downloading sub-NDARDC843HHM_task-contrastChangeDetection_run-3_eeg.bdf: 100%|██████████| 1.00/1.00 [00:00<00:00, 2.88B/s]\n"
          ]
        },
        {
          "output_type": "stream",
          "name": "stdout",
          "text": [
            "\n",
            "Recording 45 Analysis:\n",
            "  Shape: (129, 24200)\n",
            "  Sampling rate: 100.0 Hz\n",
            "  Data range: -0.007 to 0.010\n",
            "  Overall std: 0.000\n",
            "  Quality: NaN=0, Inf=0\n"
          ]
        },
        {
          "output_type": "stream",
          "name": "stderr",
          "text": [
            "Downloading sub-NDARDH086ZKK_task-RestingState_events.tsv: 100%|██████████| 1.00/1.00 [00:00<00:00, 4.26B/s]\n",
            "Downloading sub-NDARDH086ZKK_task-seqLearning8target_events.tsv: 100%|██████████| 1.00/1.00 [00:00<00:00, 3.92B/s]\n",
            "Downloading sub-NDARDH086ZKK_task-FunwithFractals_events.tsv: 100%|██████████| 1.00/1.00 [00:00<00:00, 4.27B/s]\n",
            "Downloading sub-NDARDH086ZKK_task-symbolSearch_events.tsv: 100%|██████████| 1.00/1.00 [00:00<00:00, 3.92B/s]\n",
            "Downloading sub-NDARDH086ZKK_task-surroundSupp_run-1_events.tsv: 100%|██████████| 1.00/1.00 [00:00<00:00, 4.13B/s]\n",
            "Downloading sub-NDARDH086ZKK_task-contrastChangeDetection_run-3_events.tsv: 100%|██████████| 1.00/1.00 [00:00<00:00, 4.30B/s]\n",
            "Downloading sub-NDARDH086ZKK_task-contrastChangeDetection_run-1_events.tsv: 100%|██████████| 1.00/1.00 [00:00<00:00, 4.24B/s]\n",
            "Downloading sub-NDARDH086ZKK_task-DespicableMe_events.tsv: 100%|██████████| 1.00/1.00 [00:00<00:00, 4.26B/s]\n",
            "Downloading sub-NDARDH086ZKK_task-DiaryOfAWimpyKid_events.tsv: 100%|██████████| 1.00/1.00 [00:00<00:00, 4.25B/s]\n",
            "Downloading sub-NDARDH086ZKK_task-surroundSupp_run-2_events.tsv: 100%|██████████| 1.00/1.00 [00:00<00:00, 4.18B/s]\n",
            "Downloading sub-NDARDH086ZKK_task-contrastChangeDetection_run-2_events.tsv: 100%|██████████| 1.00/1.00 [00:00<00:00, 3.50B/s]\n",
            "Downloading sub-NDARDH086ZKK_task-ThePresent_events.tsv: 100%|██████████| 1.00/1.00 [00:00<00:00, 2.15B/s]\n",
            "Downloading sub-NDARDH086ZKK_task-surroundSupp_run-2_eeg.json: 100%|██████████| 1.00/1.00 [00:00<00:00, 4.18B/s]\n",
            "Downloading sub-NDARDH086ZKK_task-symbolSearch_eeg.json: 100%|██████████| 1.00/1.00 [00:00<00:00, 4.18B/s]\n",
            "Downloading sub-NDARDH086ZKK_task-FunwithFractals_eeg.json: 100%|██████████| 1.00/1.00 [00:00<00:00, 4.20B/s]\n",
            "Downloading sub-NDARDH086ZKK_task-surroundSupp_run-1_eeg.json: 100%|██████████| 1.00/1.00 [00:00<00:00, 4.16B/s]\n",
            "Downloading sub-NDARDH086ZKK_task-DespicableMe_eeg.json: 100%|██████████| 1.00/1.00 [00:00<00:00, 4.16B/s]\n",
            "Downloading sub-NDARDH086ZKK_task-seqLearning8target_eeg.json: 100%|██████████| 1.00/1.00 [00:00<00:00, 4.20B/s]\n",
            "Downloading sub-NDARDH086ZKK_task-contrastChangeDetection_run-2_eeg.json: 100%|██████████| 1.00/1.00 [00:00<00:00, 4.16B/s]\n",
            "Downloading sub-NDARDH086ZKK_task-contrastChangeDetection_run-3_eeg.json: 100%|██████████| 1.00/1.00 [00:00<00:00, 4.14B/s]\n",
            "Downloading sub-NDARDH086ZKK_task-ThePresent_eeg.json: 100%|██████████| 1.00/1.00 [00:00<00:00, 4.24B/s]\n",
            "Downloading sub-NDARDH086ZKK_task-contrastChangeDetection_run-1_eeg.json: 100%|██████████| 1.00/1.00 [00:00<00:00, 4.15B/s]\n",
            "Downloading sub-NDARDH086ZKK_task-RestingState_eeg.json: 100%|██████████| 1.00/1.00 [00:00<00:00, 4.22B/s]\n",
            "Downloading sub-NDARDH086ZKK_task-DiaryOfAWimpyKid_eeg.json: 100%|██████████| 1.00/1.00 [00:00<00:00, 4.24B/s]\n",
            "Downloading sub-NDARDH086ZKK_task-DiaryOfAWimpyKid_channels.tsv: 100%|██████████| 1.00/1.00 [00:00<00:00, 4.16B/s]\n",
            "Downloading sub-NDARDH086ZKK_task-FunwithFractals_channels.tsv: 100%|██████████| 1.00/1.00 [00:00<00:00, 4.18B/s]\n",
            "Downloading sub-NDARDH086ZKK_task-surroundSupp_run-2_channels.tsv: 100%|██████████| 1.00/1.00 [00:00<00:00, 3.54B/s]\n",
            "Downloading sub-NDARDH086ZKK_task-symbolSearch_channels.tsv: 100%|██████████| 1.00/1.00 [00:00<00:00, 4.00B/s]\n",
            "Downloading sub-NDARDH086ZKK_task-DespicableMe_channels.tsv: 100%|██████████| 1.00/1.00 [00:00<00:00, 3.90B/s]\n",
            "Downloading sub-NDARDH086ZKK_task-ThePresent_channels.tsv: 100%|██████████| 1.00/1.00 [00:00<00:00, 4.24B/s]\n",
            "Downloading sub-NDARDH086ZKK_task-surroundSupp_run-1_channels.tsv: 100%|██████████| 1.00/1.00 [00:00<00:00, 4.23B/s]\n",
            "Downloading sub-NDARDH086ZKK_task-RestingState_channels.tsv: 100%|██████████| 1.00/1.00 [00:00<00:00, 4.19B/s]\n",
            "Downloading sub-NDARDH086ZKK_task-contrastChangeDetection_run-1_channels.tsv: 100%|██████████| 1.00/1.00 [00:00<00:00, 4.18B/s]\n",
            "Downloading sub-NDARDH086ZKK_task-contrastChangeDetection_run-3_channels.tsv: 100%|██████████| 1.00/1.00 [00:00<00:00, 4.19B/s]\n",
            "Downloading sub-NDARDH086ZKK_task-contrastChangeDetection_run-2_channels.tsv: 100%|██████████| 1.00/1.00 [00:00<00:00, 4.16B/s]\n",
            "Downloading sub-NDARDH086ZKK_task-seqLearning8target_channels.tsv: 100%|██████████| 1.00/1.00 [00:00<00:00, 4.18B/s]\n",
            "Downloading sub-NDARDH086ZKK_task-contrastChangeDetection_run-3_eeg.bdf: 100%|██████████| 1.00/1.00 [00:01<00:00, 1.01s/B]\n",
            "Downloading sub-NDARDH086ZKK_task-contrastChangeDetection_run-3_eeg.bdf: 100%|██████████| 1.00/1.00 [00:00<00:00, 2.89B/s]\n"
          ]
        },
        {
          "output_type": "stream",
          "name": "stdout",
          "text": [
            "\n",
            "Recording 46 Analysis:\n",
            "  Shape: (129, 20100)\n",
            "  Sampling rate: 100.0 Hz\n",
            "  Data range: -0.084 to 0.017\n",
            "  Overall std: 0.000\n",
            "  Quality: NaN=0, Inf=0\n"
          ]
        },
        {
          "output_type": "stream",
          "name": "stderr",
          "text": [
            "Downloading sub-NDARDH086ZKK_task-contrastChangeDetection_run-2_eeg.bdf: 100%|██████████| 1.00/1.00 [00:00<00:00, 1.22B/s]\n",
            "Downloading sub-NDARDH086ZKK_task-contrastChangeDetection_run-2_eeg.bdf: 100%|██████████| 1.00/1.00 [00:00<00:00, 1.68B/s]\n"
          ]
        },
        {
          "output_type": "stream",
          "name": "stdout",
          "text": [
            "\n",
            "Recording 47 Analysis:\n",
            "  Shape: (129, 35300)\n",
            "  Sampling rate: 100.0 Hz\n",
            "  Data range: -0.016 to 0.006\n",
            "  Overall std: 0.000\n",
            "  Quality: NaN=0, Inf=0\n"
          ]
        },
        {
          "output_type": "stream",
          "name": "stderr",
          "text": [
            "Downloading sub-NDARDH086ZKK_task-contrastChangeDetection_run-1_eeg.bdf: 100%|██████████| 1.00/1.00 [00:00<00:00, 1.71B/s]\n",
            "Downloading sub-NDARDH086ZKK_task-contrastChangeDetection_run-1_eeg.bdf: 100%|██████████| 1.00/1.00 [00:00<00:00, 1.83B/s]\n"
          ]
        },
        {
          "output_type": "stream",
          "name": "stdout",
          "text": [
            "\n",
            "Recording 48 Analysis:\n",
            "  Shape: (129, 29800)\n",
            "  Sampling rate: 100.0 Hz\n",
            "  Data range: -0.033 to 0.020\n",
            "  Overall std: 0.000\n",
            "  Quality: NaN=0, Inf=0\n"
          ]
        },
        {
          "output_type": "stream",
          "name": "stderr",
          "text": [
            "Downloading sub-NDARDL305BT8_task-contrastChangeDetection_run-2_events.tsv: 100%|██████████| 1.00/1.00 [00:00<00:00, 4.12B/s]\n",
            "Downloading sub-NDARDL305BT8_task-ThePresent_events.tsv: 100%|██████████| 1.00/1.00 [00:00<00:00, 4.30B/s]\n",
            "Downloading sub-NDARDL305BT8_task-contrastChangeDetection_run-3_events.tsv: 100%|██████████| 1.00/1.00 [00:00<00:00, 4.22B/s]\n",
            "Downloading sub-NDARDL305BT8_task-DespicableMe_events.tsv: 100%|██████████| 1.00/1.00 [00:00<00:00, 4.19B/s]\n",
            "Downloading sub-NDARDL305BT8_task-RestingState_events.tsv: 100%|██████████| 1.00/1.00 [00:00<00:00, 3.88B/s]\n",
            "Downloading sub-NDARDL305BT8_task-surroundSupp_run-2_events.tsv: 100%|██████████| 1.00/1.00 [00:00<00:00, 4.16B/s]\n",
            "Downloading sub-NDARDL305BT8_task-contrastChangeDetection_run-1_events.tsv: 100%|██████████| 1.00/1.00 [00:00<00:00, 4.20B/s]\n",
            "Downloading sub-NDARDL305BT8_task-surroundSupp_run-1_events.tsv: 100%|██████████| 1.00/1.00 [00:00<00:00, 4.22B/s]\n",
            "Downloading sub-NDARDL305BT8_task-DiaryOfAWimpyKid_events.tsv: 100%|██████████| 1.00/1.00 [00:00<00:00, 3.87B/s]\n",
            "Downloading sub-NDARDL305BT8_task-symbolSearch_events.tsv: 100%|██████████| 1.00/1.00 [00:00<00:00, 4.20B/s]\n",
            "Downloading sub-NDARDL305BT8_task-seqLearning8target_events.tsv: 100%|██████████| 1.00/1.00 [00:00<00:00, 4.25B/s]\n",
            "Downloading sub-NDARDL305BT8_task-FunwithFractals_events.tsv: 100%|██████████| 1.00/1.00 [00:00<00:00, 4.23B/s]\n",
            "Downloading sub-NDARDL305BT8_task-RestingState_eeg.json: 100%|██████████| 1.00/1.00 [00:00<00:00, 4.20B/s]\n",
            "Downloading sub-NDARDL305BT8_task-contrastChangeDetection_run-2_eeg.json: 100%|██████████| 1.00/1.00 [00:00<00:00, 4.15B/s]\n",
            "Downloading sub-NDARDL305BT8_task-seqLearning8target_eeg.json: 100%|██████████| 1.00/1.00 [00:00<00:00, 4.24B/s]\n",
            "Downloading sub-NDARDL305BT8_task-surroundSupp_run-1_eeg.json: 100%|██████████| 1.00/1.00 [00:00<00:00, 4.25B/s]\n",
            "Downloading sub-NDARDL305BT8_task-DiaryOfAWimpyKid_eeg.json: 100%|██████████| 1.00/1.00 [00:00<00:00, 4.22B/s]\n",
            "Downloading sub-NDARDL305BT8_task-ThePresent_eeg.json: 100%|██████████| 1.00/1.00 [00:00<00:00, 4.22B/s]\n",
            "Downloading sub-NDARDL305BT8_task-FunwithFractals_eeg.json: 100%|██████████| 1.00/1.00 [00:00<00:00, 4.26B/s]\n",
            "Downloading sub-NDARDL305BT8_task-contrastChangeDetection_run-3_eeg.json: 100%|██████████| 1.00/1.00 [00:00<00:00, 4.14B/s]\n",
            "Downloading sub-NDARDL305BT8_task-contrastChangeDetection_run-1_eeg.json: 100%|██████████| 1.00/1.00 [00:00<00:00, 4.15B/s]\n",
            "Downloading sub-NDARDL305BT8_task-symbolSearch_eeg.json: 100%|██████████| 1.00/1.00 [00:00<00:00, 4.23B/s]\n",
            "Downloading sub-NDARDL305BT8_task-DespicableMe_eeg.json: 100%|██████████| 1.00/1.00 [00:00<00:00, 4.30B/s]\n",
            "Downloading sub-NDARDL305BT8_task-surroundSupp_run-2_eeg.json: 100%|██████████| 1.00/1.00 [00:00<00:00, 4.20B/s]\n",
            "Downloading sub-NDARDL305BT8_task-ThePresent_channels.tsv: 100%|██████████| 1.00/1.00 [00:00<00:00, 4.19B/s]\n",
            "Downloading sub-NDARDL305BT8_task-FunwithFractals_channels.tsv: 100%|██████████| 1.00/1.00 [00:00<00:00, 4.17B/s]\n",
            "Downloading sub-NDARDL305BT8_task-surroundSupp_run-2_channels.tsv: 100%|██████████| 1.00/1.00 [00:00<00:00, 4.24B/s]\n",
            "Downloading sub-NDARDL305BT8_task-contrastChangeDetection_run-3_channels.tsv: 100%|██████████| 1.00/1.00 [00:00<00:00, 4.21B/s]\n",
            "Downloading sub-NDARDL305BT8_task-DiaryOfAWimpyKid_channels.tsv: 100%|██████████| 1.00/1.00 [00:00<00:00, 4.17B/s]\n",
            "Downloading sub-NDARDL305BT8_task-symbolSearch_channels.tsv: 100%|██████████| 1.00/1.00 [00:00<00:00, 4.22B/s]\n",
            "Downloading sub-NDARDL305BT8_task-seqLearning8target_channels.tsv: 100%|██████████| 1.00/1.00 [00:00<00:00, 4.08B/s]\n",
            "Downloading sub-NDARDL305BT8_task-surroundSupp_run-1_channels.tsv: 100%|██████████| 1.00/1.00 [00:00<00:00, 4.14B/s]\n",
            "Downloading sub-NDARDL305BT8_task-contrastChangeDetection_run-1_channels.tsv: 100%|██████████| 1.00/1.00 [00:00<00:00, 4.16B/s]\n",
            "Downloading sub-NDARDL305BT8_task-contrastChangeDetection_run-2_channels.tsv: 100%|██████████| 1.00/1.00 [00:00<00:00, 4.18B/s]\n",
            "Downloading sub-NDARDL305BT8_task-DespicableMe_channels.tsv: 100%|██████████| 1.00/1.00 [00:00<00:00, 4.14B/s]\n",
            "Downloading sub-NDARDL305BT8_task-RestingState_channels.tsv: 100%|██████████| 1.00/1.00 [00:00<00:00, 4.17B/s]\n",
            "Downloading sub-NDARDL305BT8_task-contrastChangeDetection_run-3_eeg.bdf: 100%|██████████| 1.00/1.00 [00:01<00:00, 1.99s/B]\n",
            "Downloading sub-NDARDL305BT8_task-contrastChangeDetection_run-3_eeg.bdf: 100%|██████████| 1.00/1.00 [00:00<00:00, 1.16B/s]\n"
          ]
        },
        {
          "output_type": "stream",
          "name": "stdout",
          "text": [
            "\n",
            "Recording 49 Analysis:\n",
            "  Shape: (129, 49400)\n",
            "  Sampling rate: 100.0 Hz\n",
            "  Data range: -0.002 to 0.003\n",
            "  Overall std: 0.000\n",
            "  Quality: NaN=0, Inf=0\n"
          ]
        },
        {
          "output_type": "stream",
          "name": "stderr",
          "text": [
            "Downloading sub-NDARDL305BT8_task-contrastChangeDetection_run-1_eeg.bdf: 100%|██████████| 1.00/1.00 [00:00<00:00, 1.31B/s]\n",
            "Downloading sub-NDARDL305BT8_task-contrastChangeDetection_run-1_eeg.bdf: 100%|██████████| 1.00/1.00 [00:00<00:00, 1.53B/s]\n"
          ]
        },
        {
          "output_type": "stream",
          "name": "stdout",
          "text": [
            "\n",
            "Recording 50 Analysis:\n",
            "  Shape: (129, 39600)\n",
            "  Sampling rate: 100.0 Hz\n",
            "  Data range: -0.009 to 0.004\n",
            "  Overall std: 0.000\n",
            "  Quality: NaN=0, Inf=0\n"
          ]
        },
        {
          "output_type": "stream",
          "name": "stderr",
          "text": [
            "Downloading sub-NDARDL305BT8_task-contrastChangeDetection_run-2_eeg.bdf: 100%|██████████| 1.00/1.00 [00:00<00:00, 1.22B/s]\n",
            "Downloading sub-NDARDL305BT8_task-contrastChangeDetection_run-2_eeg.bdf: 100%|██████████| 1.00/1.00 [00:00<00:00, 1.04B/s]\n"
          ]
        },
        {
          "output_type": "stream",
          "name": "stdout",
          "text": [
            "\n",
            "Recording 51 Analysis:\n",
            "  Shape: (129, 32900)\n",
            "  Sampling rate: 100.0 Hz\n",
            "  Data range: -0.007 to 0.003\n",
            "  Overall std: 0.000\n",
            "  Quality: NaN=0, Inf=0\n"
          ]
        },
        {
          "output_type": "stream",
          "name": "stderr",
          "text": [
            "Downloading sub-NDARDU853XZ6_task-seqLearning6target_events.tsv: 100%|██████████| 1.00/1.00 [00:00<00:00, 4.14B/s]\n",
            "Downloading sub-NDARDU853XZ6_task-DespicableMe_events.tsv: 100%|██████████| 1.00/1.00 [00:00<00:00, 4.19B/s]\n",
            "Downloading sub-NDARDU853XZ6_task-contrastChangeDetection_run-3_events.tsv: 100%|██████████| 1.00/1.00 [00:00<00:00, 4.14B/s]\n",
            "Downloading sub-NDARDU853XZ6_task-FunwithFractals_events.tsv: 100%|██████████| 1.00/1.00 [00:00<00:00, 4.17B/s]\n",
            "Downloading sub-NDARDU853XZ6_task-RestingState_events.tsv: 100%|██████████| 1.00/1.00 [00:00<00:00, 4.15B/s]\n",
            "Downloading sub-NDARDU853XZ6_task-surroundSupp_run-2_events.tsv: 100%|██████████| 1.00/1.00 [00:00<00:00, 4.10B/s]\n",
            "Downloading sub-NDARDU853XZ6_task-surroundSupp_run-1_events.tsv: 100%|██████████| 1.00/1.00 [00:00<00:00, 4.09B/s]\n",
            "Downloading sub-NDARDU853XZ6_task-ThePresent_events.tsv: 100%|██████████| 1.00/1.00 [00:00<00:00, 4.32B/s]\n",
            "Downloading sub-NDARDU853XZ6_task-DiaryOfAWimpyKid_events.tsv: 100%|██████████| 1.00/1.00 [00:00<00:00, 4.19B/s]\n",
            "Downloading sub-NDARDU853XZ6_task-contrastChangeDetection_run-2_events.tsv: 100%|██████████| 1.00/1.00 [00:00<00:00, 4.14B/s]\n",
            "Downloading sub-NDARDU853XZ6_task-contrastChangeDetection_run-1_events.tsv: 100%|██████████| 1.00/1.00 [00:00<00:00, 4.08B/s]\n",
            "Downloading sub-NDARDU853XZ6_task-symbolSearch_events.tsv: 100%|██████████| 1.00/1.00 [00:00<00:00, 4.22B/s]\n",
            "Downloading sub-NDARDU853XZ6_task-contrastChangeDetection_run-2_eeg.json: 100%|██████████| 1.00/1.00 [00:00<00:00, 4.14B/s]\n",
            "Downloading sub-NDARDU853XZ6_task-RestingState_eeg.json: 100%|██████████| 1.00/1.00 [00:00<00:00, 4.18B/s]\n",
            "Downloading sub-NDARDU853XZ6_task-symbolSearch_eeg.json: 100%|██████████| 1.00/1.00 [00:00<00:00, 4.08B/s]\n",
            "Downloading sub-NDARDU853XZ6_task-contrastChangeDetection_run-1_eeg.json: 100%|██████████| 1.00/1.00 [00:00<00:00, 4.15B/s]\n",
            "Downloading sub-NDARDU853XZ6_task-ThePresent_eeg.json: 100%|██████████| 1.00/1.00 [00:00<00:00, 4.19B/s]\n",
            "Downloading sub-NDARDU853XZ6_task-seqLearning6target_eeg.json: 100%|██████████| 1.00/1.00 [00:00<00:00, 4.12B/s]\n",
            "Downloading sub-NDARDU853XZ6_task-FunwithFractals_eeg.json: 100%|██████████| 1.00/1.00 [00:00<00:00, 4.18B/s]\n",
            "Downloading sub-NDARDU853XZ6_task-contrastChangeDetection_run-3_eeg.json: 100%|██████████| 1.00/1.00 [00:00<00:00, 4.05B/s]\n",
            "Downloading sub-NDARDU853XZ6_task-surroundSupp_run-1_eeg.json: 100%|██████████| 1.00/1.00 [00:00<00:00, 4.12B/s]\n",
            "Downloading sub-NDARDU853XZ6_task-DiaryOfAWimpyKid_eeg.json: 100%|██████████| 1.00/1.00 [00:00<00:00, 4.09B/s]\n",
            "Downloading sub-NDARDU853XZ6_task-surroundSupp_run-2_eeg.json: 100%|██████████| 1.00/1.00 [00:00<00:00, 4.09B/s]\n",
            "Downloading sub-NDARDU853XZ6_task-DespicableMe_eeg.json: 100%|██████████| 1.00/1.00 [00:00<00:00, 4.05B/s]\n",
            "Downloading sub-NDARDU853XZ6_task-symbolSearch_channels.tsv: 100%|██████████| 1.00/1.00 [00:00<00:00, 4.10B/s]\n",
            "Downloading sub-NDARDU853XZ6_task-contrastChangeDetection_run-2_channels.tsv: 100%|██████████| 1.00/1.00 [00:00<00:00, 4.13B/s]\n",
            "Downloading sub-NDARDU853XZ6_task-surroundSupp_run-1_channels.tsv: 100%|██████████| 1.00/1.00 [00:00<00:00, 4.20B/s]\n",
            "Downloading sub-NDARDU853XZ6_task-DiaryOfAWimpyKid_channels.tsv: 100%|██████████| 1.00/1.00 [00:00<00:00, 2.14B/s]\n",
            "Downloading sub-NDARDU853XZ6_task-RestingState_channels.tsv: 100%|██████████| 1.00/1.00 [00:00<00:00, 4.17B/s]\n",
            "Downloading sub-NDARDU853XZ6_task-seqLearning6target_channels.tsv: 100%|██████████| 1.00/1.00 [00:00<00:00, 3.29B/s]\n",
            "Downloading sub-NDARDU853XZ6_task-contrastChangeDetection_run-3_channels.tsv: 100%|██████████| 1.00/1.00 [00:00<00:00, 4.20B/s]\n",
            "Downloading sub-NDARDU853XZ6_task-ThePresent_channels.tsv: 100%|██████████| 1.00/1.00 [00:00<00:00, 4.17B/s]\n",
            "Downloading sub-NDARDU853XZ6_task-DespicableMe_channels.tsv: 100%|██████████| 1.00/1.00 [00:00<00:00, 4.16B/s]\n",
            "Downloading sub-NDARDU853XZ6_task-surroundSupp_run-2_channels.tsv: 100%|██████████| 1.00/1.00 [00:00<00:00, 4.17B/s]\n",
            "Downloading sub-NDARDU853XZ6_task-FunwithFractals_channels.tsv: 100%|██████████| 1.00/1.00 [00:00<00:00, 3.97B/s]\n",
            "Downloading sub-NDARDU853XZ6_task-contrastChangeDetection_run-1_channels.tsv: 100%|██████████| 1.00/1.00 [00:00<00:00, 4.04B/s]\n",
            "Downloading sub-NDARDU853XZ6_task-contrastChangeDetection_run-1_eeg.bdf: 100%|██████████| 1.00/1.00 [00:01<00:00, 1.24s/B]\n",
            "Downloading sub-NDARDU853XZ6_task-contrastChangeDetection_run-1_eeg.bdf: 100%|██████████| 1.00/1.00 [00:00<00:00, 1.84B/s]\n"
          ]
        },
        {
          "output_type": "stream",
          "name": "stdout",
          "text": [
            "\n",
            "Recording 52 Analysis:\n",
            "  Shape: (129, 25600)\n",
            "  Sampling rate: 100.0 Hz\n",
            "  Data range: -0.003 to 0.003\n",
            "  Overall std: 0.000\n",
            "  Quality: NaN=0, Inf=0\n"
          ]
        },
        {
          "output_type": "stream",
          "name": "stderr",
          "text": [
            "Downloading sub-NDARDU853XZ6_task-contrastChangeDetection_run-3_eeg.bdf: 100%|██████████| 1.00/1.00 [00:00<00:00, 1.69B/s]\n",
            "Downloading sub-NDARDU853XZ6_task-contrastChangeDetection_run-3_eeg.bdf: 100%|██████████| 1.00/1.00 [00:00<00:00, 1.85B/s]\n"
          ]
        },
        {
          "output_type": "stream",
          "name": "stdout",
          "text": [
            "\n",
            "Recording 53 Analysis:\n",
            "  Shape: (129, 26600)\n",
            "  Sampling rate: 100.0 Hz\n",
            "  Data range: -0.336 to 0.275\n",
            "  Overall std: 0.005\n",
            "  Quality: NaN=0, Inf=0\n"
          ]
        },
        {
          "output_type": "stream",
          "name": "stderr",
          "text": [
            "Downloading sub-NDARDU853XZ6_task-contrastChangeDetection_run-2_eeg.bdf: 100%|██████████| 1.00/1.00 [00:00<00:00, 1.39B/s]\n",
            "Downloading sub-NDARDU853XZ6_task-contrastChangeDetection_run-2_eeg.bdf: 100%|██████████| 1.00/1.00 [00:00<00:00, 1.56B/s]\n"
          ]
        },
        {
          "output_type": "stream",
          "name": "stdout",
          "text": [
            "\n",
            "Recording 54 Analysis:\n",
            "  Shape: (129, 23800)\n",
            "  Sampling rate: 100.0 Hz\n",
            "  Data range: -0.233 to 0.255\n",
            "  Overall std: 0.001\n",
            "  Quality: NaN=0, Inf=0\n"
          ]
        },
        {
          "output_type": "stream",
          "name": "stderr",
          "text": [
            "Downloading sub-NDARDV245WJG_task-surroundSupp_run-2_events.tsv: 100%|██████████| 1.00/1.00 [00:00<00:00, 3.99B/s]\n",
            "Downloading sub-NDARDV245WJG_task-contrastChangeDetection_run-1_events.tsv: 100%|██████████| 1.00/1.00 [00:00<00:00, 4.20B/s]\n",
            "Downloading sub-NDARDV245WJG_task-DespicableMe_events.tsv: 100%|██████████| 1.00/1.00 [00:00<00:00, 4.25B/s]\n",
            "Downloading sub-NDARDV245WJG_task-contrastChangeDetection_run-2_events.tsv: 100%|██████████| 1.00/1.00 [00:00<00:00, 4.02B/s]\n",
            "Downloading sub-NDARDV245WJG_task-surroundSupp_run-1_events.tsv: 100%|██████████| 1.00/1.00 [00:00<00:00, 4.22B/s]\n",
            "Downloading sub-NDARDV245WJG_task-ThePresent_events.tsv: 100%|██████████| 1.00/1.00 [00:00<00:00, 4.36B/s]\n",
            "Downloading sub-NDARDV245WJG_task-DiaryOfAWimpyKid_events.tsv: 100%|██████████| 1.00/1.00 [00:00<00:00, 4.20B/s]\n",
            "Downloading sub-NDARDV245WJG_task-seqLearning6target_events.tsv: 100%|██████████| 1.00/1.00 [00:00<00:00, 4.04B/s]\n",
            "Downloading sub-NDARDV245WJG_task-contrastChangeDetection_run-3_events.tsv: 100%|██████████| 1.00/1.00 [00:00<00:00, 3.90B/s]\n",
            "Downloading sub-NDARDV245WJG_task-FunwithFractals_events.tsv: 100%|██████████| 1.00/1.00 [00:00<00:00, 4.24B/s]\n",
            "Downloading sub-NDARDV245WJG_task-symbolSearch_events.tsv: 100%|██████████| 1.00/1.00 [00:00<00:00, 4.28B/s]\n",
            "Downloading sub-NDARDV245WJG_task-RestingState_events.tsv: 100%|██████████| 1.00/1.00 [00:00<00:00, 4.22B/s]\n",
            "Downloading sub-NDARDV245WJG_task-DespicableMe_eeg.json: 100%|██████████| 1.00/1.00 [00:00<00:00, 4.19B/s]\n",
            "Downloading sub-NDARDV245WJG_task-contrastChangeDetection_run-3_eeg.json: 100%|██████████| 1.00/1.00 [00:00<00:00, 4.18B/s]\n",
            "Downloading sub-NDARDV245WJG_task-RestingState_eeg.json: 100%|██████████| 1.00/1.00 [00:00<00:00, 4.24B/s]\n",
            "Downloading sub-NDARDV245WJG_task-contrastChangeDetection_run-2_eeg.json: 100%|██████████| 1.00/1.00 [00:00<00:00, 4.25B/s]\n",
            "Downloading sub-NDARDV245WJG_task-DiaryOfAWimpyKid_eeg.json: 100%|██████████| 1.00/1.00 [00:00<00:00, 4.22B/s]\n",
            "Downloading sub-NDARDV245WJG_task-contrastChangeDetection_run-1_eeg.json: 100%|██████████| 1.00/1.00 [00:00<00:00, 4.15B/s]\n",
            "Downloading sub-NDARDV245WJG_task-symbolSearch_eeg.json: 100%|██████████| 1.00/1.00 [00:00<00:00, 4.17B/s]\n",
            "Downloading sub-NDARDV245WJG_task-ThePresent_eeg.json: 100%|██████████| 1.00/1.00 [00:00<00:00, 4.13B/s]\n",
            "Downloading sub-NDARDV245WJG_task-surroundSupp_run-1_eeg.json: 100%|██████████| 1.00/1.00 [00:00<00:00, 4.24B/s]\n",
            "Downloading sub-NDARDV245WJG_task-seqLearning6target_eeg.json: 100%|██████████| 1.00/1.00 [00:00<00:00, 4.20B/s]\n",
            "Downloading sub-NDARDV245WJG_task-surroundSupp_run-2_eeg.json: 100%|██████████| 1.00/1.00 [00:00<00:00, 3.99B/s]\n",
            "Downloading sub-NDARDV245WJG_task-FunwithFractals_eeg.json: 100%|██████████| 1.00/1.00 [00:00<00:00, 4.13B/s]\n",
            "Downloading sub-NDARDV245WJG_task-contrastChangeDetection_run-3_channels.tsv: 100%|██████████| 1.00/1.00 [00:00<00:00, 4.22B/s]\n",
            "Downloading sub-NDARDV245WJG_task-seqLearning6target_channels.tsv: 100%|██████████| 1.00/1.00 [00:00<00:00, 4.12B/s]\n",
            "Downloading sub-NDARDV245WJG_task-DiaryOfAWimpyKid_channels.tsv: 100%|██████████| 1.00/1.00 [00:00<00:00, 4.24B/s]\n",
            "Downloading sub-NDARDV245WJG_task-FunwithFractals_channels.tsv: 100%|██████████| 1.00/1.00 [00:00<00:00, 4.17B/s]\n",
            "Downloading sub-NDARDV245WJG_task-contrastChangeDetection_run-1_channels.tsv: 100%|██████████| 1.00/1.00 [00:00<00:00, 4.18B/s]\n",
            "Downloading sub-NDARDV245WJG_task-symbolSearch_channels.tsv: 100%|██████████| 1.00/1.00 [00:00<00:00, 4.20B/s]\n",
            "Downloading sub-NDARDV245WJG_task-DespicableMe_channels.tsv: 100%|██████████| 1.00/1.00 [00:00<00:00, 4.19B/s]\n",
            "Downloading sub-NDARDV245WJG_task-contrastChangeDetection_run-2_channels.tsv: 100%|██████████| 1.00/1.00 [00:00<00:00, 4.14B/s]\n",
            "Downloading sub-NDARDV245WJG_task-ThePresent_channels.tsv: 100%|██████████| 1.00/1.00 [00:00<00:00, 4.13B/s]\n",
            "Downloading sub-NDARDV245WJG_task-RestingState_channels.tsv: 100%|██████████| 1.00/1.00 [00:00<00:00, 4.21B/s]\n",
            "Downloading sub-NDARDV245WJG_task-surroundSupp_run-2_channels.tsv: 100%|██████████| 1.00/1.00 [00:00<00:00, 4.11B/s]\n",
            "Downloading sub-NDARDV245WJG_task-surroundSupp_run-1_channels.tsv: 100%|██████████| 1.00/1.00 [00:00<00:00, 4.13B/s]\n",
            "Downloading sub-NDARDV245WJG_task-contrastChangeDetection_run-2_eeg.bdf: 100%|██████████| 1.00/1.00 [00:01<00:00, 1.13s/B]\n",
            "Downloading sub-NDARDV245WJG_task-contrastChangeDetection_run-2_eeg.bdf: 100%|██████████| 1.00/1.00 [00:00<00:00, 2.88B/s]\n"
          ]
        },
        {
          "output_type": "stream",
          "name": "stdout",
          "text": [
            "\n",
            "Recording 55 Analysis:\n",
            "  Shape: (129, 23700)\n",
            "  Sampling rate: 100.0 Hz\n",
            "  Data range: -0.001 to 0.001\n",
            "  Overall std: 0.000\n",
            "  Quality: NaN=0, Inf=0\n"
          ]
        },
        {
          "output_type": "stream",
          "name": "stderr",
          "text": [
            "Downloading sub-NDARDV245WJG_task-contrastChangeDetection_run-3_eeg.bdf: 100%|██████████| 1.00/1.00 [00:00<00:00, 1.93B/s]\n",
            "Downloading sub-NDARDV245WJG_task-contrastChangeDetection_run-3_eeg.bdf: 100%|██████████| 1.00/1.00 [00:00<00:00, 2.20B/s]\n"
          ]
        },
        {
          "output_type": "stream",
          "name": "stdout",
          "text": [
            "\n",
            "Recording 56 Analysis:\n",
            "  Shape: (129, 32100)\n",
            "  Sampling rate: 100.0 Hz\n",
            "  Data range: -0.046 to 0.083\n",
            "  Overall std: 0.001\n",
            "  Quality: NaN=0, Inf=0\n"
          ]
        },
        {
          "output_type": "stream",
          "name": "stderr",
          "text": [
            "Downloading sub-NDARDV245WJG_task-contrastChangeDetection_run-1_eeg.bdf: 100%|██████████| 1.00/1.00 [00:00<00:00, 1.97B/s]\n",
            "Downloading sub-NDARDV245WJG_task-contrastChangeDetection_run-1_eeg.bdf: 100%|██████████| 1.00/1.00 [00:00<00:00, 2.03B/s]\n"
          ]
        },
        {
          "output_type": "stream",
          "name": "stdout",
          "text": [
            "\n",
            "Recording 57 Analysis:\n",
            "  Shape: (129, 27300)\n",
            "  Sampling rate: 100.0 Hz\n",
            "  Data range: -0.139 to 0.133\n",
            "  Overall std: 0.001\n",
            "  Quality: NaN=0, Inf=0\n"
          ]
        },
        {
          "output_type": "stream",
          "name": "stderr",
          "text": [
            "Downloading sub-NDAREC480KFA_task-symbolSearch_events.tsv: 100%|██████████| 1.00/1.00 [00:00<00:00, 4.21B/s]\n",
            "Downloading sub-NDAREC480KFA_task-ThePresent_events.tsv: 100%|██████████| 1.00/1.00 [00:00<00:00, 4.12B/s]\n",
            "Downloading sub-NDAREC480KFA_task-contrastChangeDetection_run-3_events.tsv: 100%|██████████| 1.00/1.00 [00:00<00:00, 4.20B/s]\n",
            "Downloading sub-NDAREC480KFA_task-DiaryOfAWimpyKid_events.tsv: 100%|██████████| 1.00/1.00 [00:00<00:00, 4.13B/s]\n",
            "Downloading sub-NDAREC480KFA_task-contrastChangeDetection_run-1_events.tsv: 100%|██████████| 1.00/1.00 [00:00<00:00, 4.20B/s]\n",
            "Downloading sub-NDAREC480KFA_task-FunwithFractals_events.tsv: 100%|██████████| 1.00/1.00 [00:00<00:00, 4.25B/s]\n",
            "Downloading sub-NDAREC480KFA_task-contrastChangeDetection_run-2_events.tsv: 100%|██████████| 1.00/1.00 [00:00<00:00, 4.19B/s]\n",
            "Downloading sub-NDAREC480KFA_task-seqLearning8target_events.tsv: 100%|██████████| 1.00/1.00 [00:00<00:00, 4.15B/s]\n",
            "Downloading sub-NDAREC480KFA_task-surroundSupp_run-1_events.tsv: 100%|██████████| 1.00/1.00 [00:00<00:00, 4.23B/s]\n",
            "Downloading sub-NDAREC480KFA_task-surroundSupp_run-2_events.tsv: 100%|██████████| 1.00/1.00 [00:00<00:00, 4.17B/s]\n",
            "Downloading sub-NDAREC480KFA_task-DespicableMe_events.tsv: 100%|██████████| 1.00/1.00 [00:00<00:00, 2.11B/s]\n",
            "Downloading sub-NDAREC480KFA_task-RestingState_events.tsv: 100%|██████████| 1.00/1.00 [00:00<00:00, 4.22B/s]\n",
            "Downloading sub-NDAREC480KFA_task-FunwithFractals_eeg.json: 100%|██████████| 1.00/1.00 [00:00<00:00, 4.26B/s]\n",
            "Downloading sub-NDAREC480KFA_task-seqLearning8target_eeg.json: 100%|██████████| 1.00/1.00 [00:00<00:00, 4.21B/s]\n",
            "Downloading sub-NDAREC480KFA_task-contrastChangeDetection_run-3_eeg.json: 100%|██████████| 1.00/1.00 [00:00<00:00, 4.24B/s]\n",
            "Downloading sub-NDAREC480KFA_task-contrastChangeDetection_run-1_eeg.json: 100%|██████████| 1.00/1.00 [00:00<00:00, 4.29B/s]\n",
            "Downloading sub-NDAREC480KFA_task-surroundSupp_run-1_eeg.json: 100%|██████████| 1.00/1.00 [00:00<00:00, 4.24B/s]\n",
            "Downloading sub-NDAREC480KFA_task-surroundSupp_run-2_eeg.json: 100%|██████████| 1.00/1.00 [00:00<00:00, 4.25B/s]\n",
            "Downloading sub-NDAREC480KFA_task-DespicableMe_eeg.json: 100%|██████████| 1.00/1.00 [00:00<00:00, 4.23B/s]\n",
            "Downloading sub-NDAREC480KFA_task-DiaryOfAWimpyKid_eeg.json: 100%|██████████| 1.00/1.00 [00:00<00:00, 4.23B/s]\n",
            "Downloading sub-NDAREC480KFA_task-ThePresent_eeg.json: 100%|██████████| 1.00/1.00 [00:00<00:00, 4.28B/s]\n",
            "Downloading sub-NDAREC480KFA_task-symbolSearch_eeg.json: 100%|██████████| 1.00/1.00 [00:00<00:00, 4.28B/s]\n",
            "Downloading sub-NDAREC480KFA_task-contrastChangeDetection_run-2_eeg.json: 100%|██████████| 1.00/1.00 [00:00<00:00, 4.21B/s]\n",
            "Downloading sub-NDAREC480KFA_task-RestingState_eeg.json: 100%|██████████| 1.00/1.00 [00:00<00:00, 4.32B/s]\n",
            "Downloading sub-NDAREC480KFA_task-contrastChangeDetection_run-1_channels.tsv: 100%|██████████| 1.00/1.00 [00:00<00:00, 4.19B/s]\n",
            "Downloading sub-NDAREC480KFA_task-contrastChangeDetection_run-2_channels.tsv: 100%|██████████| 1.00/1.00 [00:00<00:00, 4.22B/s]\n",
            "Downloading sub-NDAREC480KFA_task-surroundSupp_run-1_channels.tsv: 100%|██████████| 1.00/1.00 [00:00<00:00, 4.09B/s]\n",
            "Downloading sub-NDAREC480KFA_task-FunwithFractals_channels.tsv: 100%|██████████| 1.00/1.00 [00:00<00:00, 4.08B/s]\n",
            "Downloading sub-NDAREC480KFA_task-symbolSearch_channels.tsv: 100%|██████████| 1.00/1.00 [00:00<00:00, 4.31B/s]\n",
            "Downloading sub-NDAREC480KFA_task-surroundSupp_run-2_channels.tsv: 100%|██████████| 1.00/1.00 [00:00<00:00, 4.24B/s]\n",
            "Downloading sub-NDAREC480KFA_task-RestingState_channels.tsv: 100%|██████████| 1.00/1.00 [00:00<00:00, 4.24B/s]\n",
            "Downloading sub-NDAREC480KFA_task-seqLearning8target_channels.tsv: 100%|██████████| 1.00/1.00 [00:00<00:00, 4.21B/s]\n",
            "Downloading sub-NDAREC480KFA_task-DespicableMe_channels.tsv: 100%|██████████| 1.00/1.00 [00:00<00:00, 4.24B/s]\n",
            "Downloading sub-NDAREC480KFA_task-ThePresent_channels.tsv: 100%|██████████| 1.00/1.00 [00:00<00:00, 4.14B/s]\n",
            "Downloading sub-NDAREC480KFA_task-contrastChangeDetection_run-3_channels.tsv: 100%|██████████| 1.00/1.00 [00:00<00:00, 3.86B/s]\n",
            "Downloading sub-NDAREC480KFA_task-DiaryOfAWimpyKid_channels.tsv: 100%|██████████| 1.00/1.00 [00:00<00:00, 4.21B/s]\n",
            "Downloading sub-NDAREC480KFA_task-contrastChangeDetection_run-1_eeg.bdf: 100%|██████████| 1.00/1.00 [00:01<00:00, 1.77s/B]\n",
            "Downloading sub-NDAREC480KFA_task-contrastChangeDetection_run-1_eeg.bdf: 100%|██████████| 1.00/1.00 [00:01<00:00, 1.26s/B]\n"
          ]
        },
        {
          "output_type": "stream",
          "name": "stdout",
          "text": [
            "\n",
            "Recording 58 Analysis:\n",
            "  Shape: (129, 44500)\n",
            "  Sampling rate: 100.0 Hz\n",
            "  Data range: -0.095 to 0.320\n",
            "  Overall std: 0.001\n",
            "  Quality: NaN=0, Inf=0\n"
          ]
        },
        {
          "output_type": "stream",
          "name": "stderr",
          "text": [
            "Downloading sub-NDAREC480KFA_task-contrastChangeDetection_run-3_eeg.bdf: 100%|██████████| 1.00/1.00 [00:00<00:00, 1.14B/s]\n",
            "Downloading sub-NDAREC480KFA_task-contrastChangeDetection_run-3_eeg.bdf: 100%|██████████| 1.00/1.00 [00:00<00:00, 1.18B/s]\n"
          ]
        },
        {
          "output_type": "stream",
          "name": "stdout",
          "text": [
            "\n",
            "Recording 59 Analysis:\n",
            "  Shape: (129, 23900)\n",
            "  Sampling rate: 100.0 Hz\n",
            "  Data range: -0.013 to 0.018\n",
            "  Overall std: 0.000\n",
            "  Quality: NaN=0, Inf=0\n"
          ]
        },
        {
          "output_type": "stream",
          "name": "stderr",
          "text": [
            "Downloading sub-NDAREC480KFA_task-contrastChangeDetection_run-2_eeg.bdf: 100%|██████████| 1.00/1.00 [00:00<00:00, 1.05B/s]\n",
            "Downloading sub-NDAREC480KFA_task-contrastChangeDetection_run-2_eeg.bdf: 100%|██████████| 1.00/1.00 [00:00<00:00, 1.20B/s]\n"
          ]
        },
        {
          "output_type": "stream",
          "name": "stdout",
          "text": [
            "\n",
            "Recording 60 Analysis:\n",
            "  Shape: (129, 25000)\n",
            "  Sampling rate: 100.0 Hz\n",
            "  Data range: -0.027 to 0.011\n",
            "  Overall std: 0.000\n",
            "  Quality: NaN=0, Inf=0\n",
            "\n",
            "======================================================================\n",
            "STEP 4: FREQUENCY DOMAIN ANALYSIS\n",
            "\n",
            "HYBRID FREQUENCY DOMAIN ANALYSIS\n",
            "==================================================\n",
            "\n",
            "Recording 1 Frequency Analysis:\n",
            "  Delta (0.5-4 Hz): mean=7.14e-08, std=7.53e-07\n",
            "  Theta (4-8 Hz): mean=8.22e-09, std=8.97e-08\n",
            "  Alpha (8-13 Hz): mean=1.42e-09, std=1.50e-08\n",
            "  Beta (13-30 Hz): mean=3.16e-10, std=3.31e-09\n",
            "  Gamma (30-50 Hz): mean=6.46e-11, std=6.91e-10\n",
            "\n",
            "Recording 2 Frequency Analysis:\n",
            "  Delta (0.5-4 Hz): mean=5.76e-09, std=4.35e-08\n",
            "  Theta (4-8 Hz): mean=2.96e-10, std=2.31e-09\n",
            "  Alpha (8-13 Hz): mean=9.15e-11, std=7.44e-10\n",
            "  Beta (13-30 Hz): mean=2.11e-11, std=1.72e-10\n",
            "  Gamma (30-50 Hz): mean=4.09e-12, std=2.76e-11\n",
            "\n",
            "======================================================================\n",
            "STEP 5: WINDOWING FOR DEEP LEARNING\n",
            "\n",
            "CREATING COMPETITION-STYLE WINDOWS\n",
            "=============================================\n",
            "  Recording 1: 174 windows of shape (129, 200)\n",
            "  Recording 2: 200 windows of shape (129, 200)\n",
            "  Recording 3: 191 windows of shape (129, 200)\n",
            "  Recording 4: 132 windows of shape (129, 200)\n",
            "  Recording 5: 119 windows of shape (129, 200)\n",
            "  Recording 6: 126 windows of shape (129, 200)\n",
            "  Recording 7: 162 windows of shape (129, 200)\n",
            "  Recording 8: 152 windows of shape (129, 200)\n",
            "  Recording 9: 143 windows of shape (129, 200)\n",
            "  Recording 10: 120 windows of shape (129, 200)\n",
            "  Recording 11: 118 windows of shape (129, 200)\n",
            "  Recording 12: 117 windows of shape (129, 200)\n",
            "  Recording 13: 159 windows of shape (129, 200)\n",
            "  Recording 14: 127 windows of shape (129, 200)\n",
            "  Recording 15: 130 windows of shape (129, 200)\n",
            "  Recording 16: 115 windows of shape (129, 200)\n",
            "  Recording 17: 118 windows of shape (129, 200)\n",
            "  Recording 18: 118 windows of shape (129, 200)\n",
            "  Recording 19: 162 windows of shape (129, 200)\n",
            "  Recording 20: 110 windows of shape (129, 200)\n",
            "  Recording 21: 167 windows of shape (129, 200)\n",
            "  Recording 22: 261 windows of shape (129, 200)\n",
            "  Recording 23: 91 windows of shape (129, 200)\n",
            "  Recording 24: 91 windows of shape (129, 200)\n",
            "  Recording 25: 143 windows of shape (129, 200)\n",
            "  Recording 26: 119 windows of shape (129, 200)\n",
            "  Recording 27: 117 windows of shape (129, 200)\n",
            "  Recording 28: 124 windows of shape (129, 200)\n",
            "  Recording 29: 242 windows of shape (129, 200)\n",
            "  Recording 30: 161 windows of shape (129, 200)\n",
            "  Recording 31: 145 windows of shape (129, 200)\n",
            "  Recording 32: 164 windows of shape (129, 200)\n",
            "  Recording 33: 189 windows of shape (129, 200)\n",
            "  Recording 34: 98 windows of shape (129, 200)\n",
            "  Recording 35: 77 windows of shape (129, 200)\n",
            "  Recording 36: 136 windows of shape (129, 200)\n",
            "  Recording 37: 119 windows of shape (129, 200)\n",
            "  Recording 38: 136 windows of shape (129, 200)\n",
            "  Recording 39: 120 windows of shape (129, 200)\n",
            "  Recording 40: 305 windows of shape (129, 200)\n",
            "  Recording 41: 117 windows of shape (129, 200)\n",
            "  Recording 42: 113 windows of shape (129, 200)\n",
            "  Recording 43: 137 windows of shape (129, 200)\n",
            "  Recording 44: 125 windows of shape (129, 200)\n",
            "  Recording 45: 121 windows of shape (129, 200)\n",
            "  Recording 46: 100 windows of shape (129, 200)\n",
            "  Recording 47: 176 windows of shape (129, 200)\n",
            "  Recording 48: 149 windows of shape (129, 200)\n",
            "  Recording 49: 247 windows of shape (129, 200)\n",
            "  Recording 50: 198 windows of shape (129, 200)\n",
            "  Recording 51: 164 windows of shape (129, 200)\n",
            "  Recording 52: 128 windows of shape (129, 200)\n",
            "  Recording 53: 133 windows of shape (129, 200)\n",
            "  Recording 54: 119 windows of shape (129, 200)\n",
            "  Recording 55: 118 windows of shape (129, 200)\n",
            "  Recording 56: 160 windows of shape (129, 200)\n",
            "  Recording 57: 136 windows of shape (129, 200)\n",
            "  Recording 58: 222 windows of shape (129, 200)\n",
            "  Recording 59: 119 windows of shape (129, 200)\n",
            "  Recording 60: 125 windows of shape (129, 200)\n",
            "\n",
            "Total windows created: 8705\n",
            "Window shape: (n_channels=129, n_times=200)\n",
            "\n",
            "Creating PyTorch DataLoader (batch_size=32)\n",
            "DataLoader created:\n",
            "  Total samples: 8705\n",
            "  Batch size: 32\n",
            "  Input shape: torch.Size([8705, 129, 200])\n",
            "  Label shape: torch.Size([8705, 1])\n",
            "\n",
            "======================================================================\n",
            "STEP 6: BASELINE MODEL CREATION\n",
            "\n",
            "CREATING EEGNEX BASELINE MODEL\n",
            "========================================\n",
            "EEGNeX Model Created:\n",
            "  Input shape: (batch, 129, 200)\n",
            "  Output: 1 (regression)\n",
            "  Total parameters: 62,353\n",
            "  Trainable parameters: 62,353\n",
            "  Forward pass test: torch.Size([1, 129, 200]) → torch.Size([1, 1])\n",
            "\n",
            "Testing Model with Data (device=cpu)\n",
            "  Batch input shape: torch.Size([32, 129, 200])\n",
            "  Batch target shape: torch.Size([32, 1])\n",
            "  Predictions shape: torch.Size([32, 1])\n",
            "  Sample predictions: [-0.14311463 -0.14311583 -0.14311448]\n",
            "  Sample targets: [0.06302314 0.14141235 1.1762681 ]\n",
            "  MSE Loss: 0.6990\n",
            "Model test successful!\n",
            "\n",
            "======================================================================\n",
            "STEP 7: COMPREHENSIVE VISUALIZATIONS\n",
            "\n",
            "CREATING COMPREHENSIVE VISUALIZATIONS\n",
            "==================================================\n"
          ]
        },
        {
          "output_type": "display_data",
          "data": {
            "text/plain": [
              "<Figure size 1500x1000 with 4 Axes>"
            ],
            "image/png": "[encoded data removed]"
          },
          "metadata": {}
        },
        {
          "output_type": "display_data",
          "data": {
            "text/plain": [
              "<Figure size 1500x1000 with 4 Axes>"
            ],
            "image/png": "[encoded data removed]"
          },
          "metadata": {}
        },
        {
          "output_type": "display_data",
          "data": {
            "text/html": [
              "<html>\n",
              "<head><meta charset=\"utf-8\" /></head>\n",
              "<body>\n",
              "    <div>            <script src=\"https://cdnjs.cloudflare.com/ajax/libs/mathjax/2.7.5/MathJax.js?config=TeX-AMS-MML_SVG\"></script><script type=\"text/javascript\">if (window.MathJax && window.MathJax.Hub && window.MathJax.Hub.Config) {window.MathJax.Hub.Config({SVG: {font: \"STIX-Web\"}});}</script>                <script type=\"text/javascript\">window.PlotlyConfig = {MathJaxConfig: 'local'};</script>\n",
              "        <script charset=\"utf-8\" src=\"https://cdn.plot.ly/plotly-2.35.2.min.js\"></script>                <div id=\"b0696e56-ced1-41e5-9180-2e7c23f7a0db\" class=\"plotly-graph-div\" style=\"height:500px; width:100%;\"></div>            <script type=\"text/javascript\">                                    window.PLOTLYENV=window.PLOTLYENV || {};                                    if (document.getElementById(\"b0696e56-ced1-41e5-9180-2e7c23f7a0db\")) {                    Plotly.newPlot(                        \"b0696e56-ced1-41e5-9180-2e7c23f7a0db\",                        [{\"line\":{\"color\":\"blue\"},\"mode\":\"lines\",\"name\":\"Recording 1\",\"x\":[0.0,0.5,1.0,1.5,2.0,2.5,3.0,3.5,4.0,4.5,5.0,5.5,6.0,6.5,7.0,7.5,8.0,8.5,9.0,9.5,10.0,10.5,11.0,11.5,12.0,12.5,13.0,13.5,14.0,14.5,15.0,15.5,16.0,16.5,17.0,17.5,18.0,18.5,19.0,19.5,20.0,20.5,21.0,21.5,22.0,22.5,23.0,23.5,24.0,24.5,25.0,25.5,26.0,26.5,27.0,27.5,28.0,28.5,29.0,29.5,30.0,30.5,31.0,31.5,32.0,32.5,33.0,33.5,34.0,34.5,35.0,35.5,36.0,36.5,37.0,37.5,38.0,38.5,39.0,39.5,40.0,40.5,41.0,41.5,42.0,42.5,43.0,43.5,44.0,44.5,45.0,45.5,46.0,46.5,47.0,47.5,48.0,48.5,49.0,49.5,50.0],\"y\":[4.497602732898512e-8,1.909266604529845e-7,1.8184358843830626e-7,7.976906823899575e-8,2.1856861386383668e-8,1.2732900907281142e-8,2.4820007826689484e-8,3.231438718001809e-8,2.7184750918535622e-8,1.6416443314164816e-8,8.11432839331229e-9,4.312811081375778e-9,3.1186167022516153e-9,3.1948470698939153e-9,3.804165332450483e-9,4.186260854508141e-9,3.6463841843280095e-9,2.3231860808174356e-9,1.0908148119996487e-9,5.906197063943422e-10,8.126442208974149e-10,1.322839425755465e-9,1.6978182052022312e-9,1.7156192300236861e-9,1.327023059410537e-9,7.381468850731212e-10,3.476139046279789e-10,3.3436448470997015e-10,5.636019390489505e-10,7.868881165610739e-10,8.557137278808161e-10,7.238283972396558e-10,5.092368403369686e-10,2.916517487908798e-10,1.9306584109643443e-10,2.93202520356087e-10,5.084595218734993e-10,6.42496535470592e-10,5.905605003165041e-10,4.1211571943802216e-10,2.334002612561318e-10,1.4125954252157038e-10,1.364732583795062e-10,2.1371077589358025e-10,3.230792788622296e-10,3.849957526660882e-10,3.426143453472538e-10,2.2478151674773032e-10,1.1675438409085763e-10,8.68161573785903e-11,1.37759668959039e-10,2.1759343853209887e-10,2.6477022318251206e-10,2.524856791339024e-10,1.8573423107632484e-10,1.0458390991869846e-10,5.650931970831872e-11,6.608234319574412e-11,1.236616710582952e-10,1.842983964167732e-10,2.0941798336550114e-10,1.8557938571971067e-10,1.265982961191521e-10,6.47988111176e-11,4.7222407217872936e-11,8.23672641782114e-11,1.3746085410352077e-10,1.6934548397546434e-10,1.6109955582997043e-10,1.2112179080508086e-10,7.393882497912245e-11,4.1336012765506234e-11,4.0658461874206614e-11,7.401925005626972e-11,1.2046657810384097e-10,1.4631473349496675e-10,1.2878035191260296e-10,8.371304239424415e-11,4.435386851146538e-11,3.350938502502935e-11,4.869155945178317e-11,7.675660993817992e-11,9.5769586791699e-11,9.427501166878031e-11,7.043923038582625e-11,3.844399897865863e-11,1.7280568290681564e-11,1.4938535061623763e-11,2.2981312538117787e-11,2.7639944759298938e-11,2.4010091039541696e-11,1.5226107769022817e-11,6.992125912445242e-12,2.311640853652844e-12,7.26265939595837e-13,4.699529983689059e-13,3.734964030073198e-13,2.0519081012244025e-13,7.144767113884882e-14,1.519992552652502e-14,1.6215354547348167e-15],\"type\":\"scatter\",\"xaxis\":\"x\",\"yaxis\":\"y\"},{\"marker\":{\"color\":\"blue\"},\"name\":\"Recording 1\",\"opacity\":0.7,\"x\":[\"delta\",\"theta\",\"alpha\",\"beta\",\"gamma\"],\"y\":[7.143102816864931e-8,8.219845316757854e-9,1.4193372467754427e-9,3.1598805529823375e-10,6.462736195785038e-11],\"type\":\"bar\",\"xaxis\":\"x2\",\"yaxis\":\"y2\"},{\"line\":{\"color\":\"red\"},\"mode\":\"lines\",\"name\":\"Recording 2\",\"x\":[0.0,0.5,1.0,1.5,2.0,2.5,3.0,3.5,4.0,4.5,5.0,5.5,6.0,6.5,7.0,7.5,8.0,8.5,9.0,9.5,10.0,10.5,11.0,11.5,12.0,12.5,13.0,13.5,14.0,14.5,15.0,15.5,16.0,16.5,17.0,17.5,18.0,18.5,19.0,19.5,20.0,20.5,21.0,21.5,22.0,22.5,23.0,23.5,24.0,24.5,25.0,25.5,26.0,26.5,27.0,27.5,28.0,28.5,29.0,29.5,30.0,30.5,31.0,31.5,32.0,32.5,33.0,33.5,34.0,34.5,35.0,35.5,36.0,36.5,37.0,37.5,38.0,38.5,39.0,39.5,40.0,40.5,41.0,41.5,42.0,42.5,43.0,43.5,44.0,44.5,45.0,45.5,46.0,46.5,47.0,47.5,48.0,48.5,49.0,49.5,50.0],\"y\":[6.6166350893577806e-9,2.4288202076680067e-8,1.1419066307361043e-8,4.327225476690349e-9,2.1798117354880003e-9,1.4404415211059357e-9,1.0085608278656205e-9,7.843213356245606e-10,6.308711709205956e-10,5.178352452238216e-10,3.5886212096257015e-10,2.674671445193356e-10,2.3212589001812014e-10,1.9916242243092556e-10,1.7460189095970618e-10,1.3702901084648897e-10,1.4304023726325817e-10,1.3855340674954792e-10,1.3416495823410769e-10,1.0710874930701347e-10,1.0183040078104627e-10,8.891206872464216e-11,8.085252973987984e-11,6.134302137781134e-11,5.0976916694848554e-11,4.596928667616977e-11,5.419316188819959e-11,5.12528756247749e-11,4.649820535797768e-11,3.99727692701848e-11,4.197452616786067e-11,4.083612388227828e-11,3.791422863183539e-11,3.019807146164506e-11,2.6203408439400287e-11,2.5042889401922234e-11,2.509929547068162e-11,2.4200037502396132e-11,2.216456672561171e-11,2.304279474474984e-11,2.2201059850612076e-11,2.2564001625510587e-11,1.8434727598335567e-11,1.5780249425551294e-11,1.3491396249333404e-11,1.3885972270870148e-11,1.2138813703638758e-11,1.1411454366325668e-11,1.0831897643080813e-11,1.189959817613655e-11,1.1857906744624614e-11,1.1529697905785354e-11,1.0386003552178428e-11,9.927139813329872e-12,8.231114186802917e-12,7.120978316368135e-12,7.07819680833688e-12,7.394247689423363e-12,7.647845039594783e-12,8.024868754049205e-12,8.505354492445846e-12,8.696955427174991e-12,8.23233781362708e-12,7.445134014392839e-12,7.202561180213306e-12,6.762146634633317e-12,6.821144426916082e-12,6.48191182474179e-12,6.093513491331941e-12,5.980524934353369e-12,6.522364024653067e-12,6.7874683299493574e-12,6.338319220523626e-12,6.284023607756957e-12,6.172280532915536e-12,5.946584449429458e-12,5.442750660553571e-12,4.741350774778892e-12,4.800554345555001e-12,4.94460629975669e-12,5.378915902711547e-12,5.207993614504637e-12,4.438563694142428e-12,4.089712008385067e-12,3.944865799613441e-12,3.69911615030019e-12,2.9515099537073352e-12,2.1326491803000662e-12,1.6167674029364996e-12,1.3591029857410358e-12,9.854864892226693e-13,6.323769165879005e-13,3.985039791098481e-13,2.4595222548296155e-13,1.3660047662993513e-13,5.6813889145782246e-14,2.411176104826748e-14,8.679182289685702e-15,2.6479994575833275e-15,5.274881025263726e-16,6.286594560169693e-17],\"type\":\"scatter\",\"xaxis\":\"x\",\"yaxis\":\"y\"},{\"marker\":{\"color\":\"red\"},\"name\":\"Recording 2\",\"opacity\":0.7,\"x\":[\"delta\",\"theta\",\"alpha\",\"beta\",\"gamma\"],\"y\":[5.759812556467022e-9,2.9566612590498024e-10,9.154043067604767e-11,2.1112442250910068e-11,4.085679181733359e-12],\"type\":\"bar\",\"xaxis\":\"x2\",\"yaxis\":\"y2\"}],                        {\"template\":{\"data\":{\"histogram2dcontour\":[{\"type\":\"histogram2dcontour\",\"colorbar\":{\"outlinewidth\":0,\"ticks\":\"\"},\"colorscale\":[[0.0,\"#0d0887\"],[0.1111111111111111,\"#46039f\"],[0.2222222222222222,\"#7201a8\"],[0.3333333333333333,\"#9c179e\"],[0.4444444444444444,\"#bd3786\"],[0.5555555555555556,\"#d8576b\"],[0.6666666666666666,\"#ed7953\"],[0.7777777777777778,\"#fb9f3a\"],[0.8888888888888888,\"#fdca26\"],[1.0,\"#f0f921\"]]}],\"choropleth\":[{\"type\":\"choropleth\",\"colorbar\":{\"outlinewidth\":0,\"ticks\":\"\"}}],\"histogram2d\":[{\"type\":\"histogram2d\",\"colorbar\":{\"outlinewidth\":0,\"ticks\":\"\"},\"colorscale\":[[0.0,\"#0d0887\"],[0.1111111111111111,\"#46039f\"],[0.2222222222222222,\"#7201a8\"],[0.3333333333333333,\"#9c179e\"],[0.4444444444444444,\"#bd3786\"],[0.5555555555555556,\"#d8576b\"],[0.6666666666666666,\"#ed7953\"],[0.7777777777777778,\"#fb9f3a\"],[0.8888888888888888,\"#fdca26\"],[1.0,\"#f0f921\"]]}],\"heatmap\":[{\"type\":\"heatmap\",\"colorbar\":{\"outlinewidth\":0,\"ticks\":\"\"},\"colorscale\":[[0.0,\"#0d0887\"],[0.1111111111111111,\"#46039f\"],[0.2222222222222222,\"#7201a8\"],[0.3333333333333333,\"#9c179e\"],[0.4444444444444444,\"#bd3786\"],[0.5555555555555556,\"#d8576b\"],[0.6666666666666666,\"#ed7953\"],[0.7777777777777778,\"#fb9f3a\"],[0.8888888888888888,\"#fdca26\"],[1.0,\"#f0f921\"]]}],\"heatmapgl\":[{\"type\":\"heatmapgl\",\"colorbar\":{\"outlinewidth\":0,\"ticks\":\"\"},\"colorscale\":[[0.0,\"#0d0887\"],[0.1111111111111111,\"#46039f\"],[0.2222222222222222,\"#7201a8\"],[0.3333333333333333,\"#9c179e\"],[0.4444444444444444,\"#bd3786\"],[0.5555555555555556,\"#d8576b\"],[0.6666666666666666,\"#ed7953\"],[0.7777777777777778,\"#fb9f3a\"],[0.8888888888888888,\"#fdca26\"],[1.0,\"#f0f921\"]]}],\"contourcarpet\":[{\"type\":\"contourcarpet\",\"colorbar\":{\"outlinewidth\":0,\"ticks\":\"\"}}],\"contour\":[{\"type\":\"contour\",\"colorbar\":{\"outlinewidth\":0,\"ticks\":\"\"},\"colorscale\":[[0.0,\"#0d0887\"],[0.1111111111111111,\"#46039f\"],[0.2222222222222222,\"#7201a8\"],[0.3333333333333333,\"#9c179e\"],[0.4444444444444444,\"#bd3786\"],[0.5555555555555556,\"#d8576b\"],[0.6666666666666666,\"#ed7953\"],[0.7777777777777778,\"#fb9f3a\"],[0.8888888888888888,\"#fdca26\"],[1.0,\"#f0f921\"]]}],\"surface\":[{\"type\":\"surface\",\"colorbar\":{\"outlinewidth\":0,\"ticks\":\"\"},\"colorscale\":[[0.0,\"#0d0887\"],[0.1111111111111111,\"#46039f\"],[0.2222222222222222,\"#7201a8\"],[0.3333333333333333,\"#9c179e\"],[0.4444444444444444,\"#bd3786\"],[0.5555555555555556,\"#d8576b\"],[0.6666666666666666,\"#ed7953\"],[0.7777777777777778,\"#fb9f3a\"],[0.8888888888888888,\"#fdca26\"],[1.0,\"#f0f921\"]]}],\"mesh3d\":[{\"type\":\"mesh3d\",\"colorbar\":{\"outlinewidth\":0,\"ticks\":\"\"}}],\"scatter\":[{\"fillpattern\":{\"fillmode\":\"overlay\",\"size\":10,\"solidity\":0.2},\"type\":\"scatter\"}],\"parcoords\":[{\"type\":\"parcoords\",\"line\":{\"colorbar\":{\"outlinewidth\":0,\"ticks\":\"\"}}}],\"scatterpolargl\":[{\"type\":\"scatterpolargl\",\"marker\":{\"colorbar\":{\"outlinewidth\":0,\"ticks\":\"\"}}}],\"bar\":[{\"error_x\":{\"color\":\"#2a3f5f\"},\"error_y\":{\"color\":\"#2a3f5f\"},\"marker\":{\"line\":{\"color\":\"#E5ECF6\",\"width\":0.5},\"pattern\":{\"fillmode\":\"overlay\",\"size\":10,\"solidity\":0.2}},\"type\":\"bar\"}],\"scattergeo\":[{\"type\":\"scattergeo\",\"marker\":{\"colorbar\":{\"outlinewidth\":0,\"ticks\":\"\"}}}],\"scatterpolar\":[{\"type\":\"scatterpolar\",\"marker\":{\"colorbar\":{\"outlinewidth\":0,\"ticks\":\"\"}}}],\"histogram\":[{\"marker\":{\"pattern\":{\"fillmode\":\"overlay\",\"size\":10,\"solidity\":0.2}},\"type\":\"histogram\"}],\"scattergl\":[{\"type\":\"scattergl\",\"marker\":{\"colorbar\":{\"outlinewidth\":0,\"ticks\":\"\"}}}],\"scatter3d\":[{\"type\":\"scatter3d\",\"line\":{\"colorbar\":{\"outlinewidth\":0,\"ticks\":\"\"}},\"marker\":{\"colorbar\":{\"outlinewidth\":0,\"ticks\":\"\"}}}],\"scattermapbox\":[{\"type\":\"scattermapbox\",\"marker\":{\"colorbar\":{\"outlinewidth\":0,\"ticks\":\"\"}}}],\"scatterternary\":[{\"type\":\"scatterternary\",\"marker\":{\"colorbar\":{\"outlinewidth\":0,\"ticks\":\"\"}}}],\"scattercarpet\":[{\"type\":\"scattercarpet\",\"marker\":{\"colorbar\":{\"outlinewidth\":0,\"ticks\":\"\"}}}],\"carpet\":[{\"aaxis\":{\"endlinecolor\":\"#2a3f5f\",\"gridcolor\":\"white\",\"linecolor\":\"white\",\"minorgridcolor\":\"white\",\"startlinecolor\":\"#2a3f5f\"},\"baxis\":{\"endlinecolor\":\"#2a3f5f\",\"gridcolor\":\"white\",\"linecolor\":\"white\",\"minorgridcolor\":\"white\",\"startlinecolor\":\"#2a3f5f\"},\"type\":\"carpet\"}],\"table\":[{\"cells\":{\"fill\":{\"color\":\"#EBF0F8\"},\"line\":{\"color\":\"white\"}},\"header\":{\"fill\":{\"color\":\"#C8D4E3\"},\"line\":{\"color\":\"white\"}},\"type\":\"table\"}],\"barpolar\":[{\"marker\":{\"line\":{\"color\":\"#E5ECF6\",\"width\":0.5},\"pattern\":{\"fillmode\":\"overlay\",\"size\":10,\"solidity\":0.2}},\"type\":\"barpolar\"}],\"pie\":[{\"automargin\":true,\"type\":\"pie\"}]},\"layout\":{\"autotypenumbers\":\"strict\",\"colorway\":[\"#636efa\",\"#EF553B\",\"#00cc96\",\"#ab63fa\",\"#FFA15A\",\"#19d3f3\",\"#FF6692\",\"#B6E880\",\"#FF97FF\",\"#FECB52\"],\"font\":{\"color\":\"#2a3f5f\"},\"hovermode\":\"closest\",\"hoverlabel\":{\"align\":\"left\"},\"paper_bgcolor\":\"white\",\"plot_bgcolor\":\"#E5ECF6\",\"polar\":{\"bgcolor\":\"#E5ECF6\",\"angularaxis\":{\"gridcolor\":\"white\",\"linecolor\":\"white\",\"ticks\":\"\"},\"radialaxis\":{\"gridcolor\":\"white\",\"linecolor\":\"white\",\"ticks\":\"\"}},\"ternary\":{\"bgcolor\":\"#E5ECF6\",\"aaxis\":{\"gridcolor\":\"white\",\"linecolor\":\"white\",\"ticks\":\"\"},\"baxis\":{\"gridcolor\":\"white\",\"linecolor\":\"white\",\"ticks\":\"\"},\"caxis\":{\"gridcolor\":\"white\",\"linecolor\":\"white\",\"ticks\":\"\"}},\"coloraxis\":{\"colorbar\":{\"outlinewidth\":0,\"ticks\":\"\"}},\"colorscale\":{\"sequential\":[[0.0,\"#0d0887\"],[0.1111111111111111,\"#46039f\"],[0.2222222222222222,\"#7201a8\"],[0.3333333333333333,\"#9c179e\"],[0.4444444444444444,\"#bd3786\"],[0.5555555555555556,\"#d8576b\"],[0.6666666666666666,\"#ed7953\"],[0.7777777777777778,\"#fb9f3a\"],[0.8888888888888888,\"#fdca26\"],[1.0,\"#f0f921\"]],\"sequentialminus\":[[0.0,\"#0d0887\"],[0.1111111111111111,\"#46039f\"],[0.2222222222222222,\"#7201a8\"],[0.3333333333333333,\"#9c179e\"],[0.4444444444444444,\"#bd3786\"],[0.5555555555555556,\"#d8576b\"],[0.6666666666666666,\"#ed7953\"],[0.7777777777777778,\"#fb9f3a\"],[0.8888888888888888,\"#fdca26\"],[1.0,\"#f0f921\"]],\"diverging\":[[0,\"#8e0152\"],[0.1,\"#c51b7d\"],[0.2,\"#de77ae\"],[0.3,\"#f1b6da\"],[0.4,\"#fde0ef\"],[0.5,\"#f7f7f7\"],[0.6,\"#e6f5d0\"],[0.7,\"#b8e186\"],[0.8,\"#7fbc41\"],[0.9,\"#4d9221\"],[1,\"#276419\"]]},\"xaxis\":{\"gridcolor\":\"white\",\"linecolor\":\"white\",\"ticks\":\"\",\"title\":{\"standoff\":15},\"zerolinecolor\":\"white\",\"automargin\":true,\"zerolinewidth\":2},\"yaxis\":{\"gridcolor\":\"white\",\"linecolor\":\"white\",\"ticks\":\"\",\"title\":{\"standoff\":15},\"zerolinecolor\":\"white\",\"automargin\":true,\"zerolinewidth\":2},\"scene\":{\"xaxis\":{\"backgroundcolor\":\"#E5ECF6\",\"gridcolor\":\"white\",\"linecolor\":\"white\",\"showbackground\":true,\"ticks\":\"\",\"zerolinecolor\":\"white\",\"gridwidth\":2},\"yaxis\":{\"backgroundcolor\":\"#E5ECF6\",\"gridcolor\":\"white\",\"linecolor\":\"white\",\"showbackground\":true,\"ticks\":\"\",\"zerolinecolor\":\"white\",\"gridwidth\":2},\"zaxis\":{\"backgroundcolor\":\"#E5ECF6\",\"gridcolor\":\"white\",\"linecolor\":\"white\",\"showbackground\":true,\"ticks\":\"\",\"zerolinecolor\":\"white\",\"gridwidth\":2}},\"shapedefaults\":{\"line\":{\"color\":\"#2a3f5f\"}},\"annotationdefaults\":{\"arrowcolor\":\"#2a3f5f\",\"arrowhead\":0,\"arrowwidth\":1},\"geo\":{\"bgcolor\":\"white\",\"landcolor\":\"#E5ECF6\",\"subunitcolor\":\"white\",\"showland\":true,\"showlakes\":true,\"lakecolor\":\"white\"},\"title\":{\"x\":0.05},\"mapbox\":{\"style\":\"light\"}}},\"xaxis\":{\"anchor\":\"y\",\"domain\":[0.0,0.45],\"title\":{\"text\":\"Frequency (Hz)\"}},\"yaxis\":{\"anchor\":\"x\",\"domain\":[0.0,1.0],\"title\":{\"text\":\"Power (µV²\\u002fHz)\"},\"type\":\"log\"},\"xaxis2\":{\"anchor\":\"y2\",\"domain\":[0.55,1.0],\"title\":{\"text\":\"Frequency Band\"}},\"yaxis2\":{\"anchor\":\"x2\",\"domain\":[0.0,1.0],\"title\":{\"text\":\"Mean Power\"}},\"annotations\":[{\"font\":{\"size\":16},\"showarrow\":false,\"text\":\"Power Spectral Density\",\"x\":0.225,\"xanchor\":\"center\",\"xref\":\"paper\",\"y\":1.0,\"yanchor\":\"bottom\",\"yref\":\"paper\"},{\"font\":{\"size\":16},\"showarrow\":false,\"text\":\"Band Power Comparison\",\"x\":0.775,\"xanchor\":\"center\",\"xref\":\"paper\",\"y\":1.0,\"yanchor\":\"bottom\",\"yref\":\"paper\"}],\"title\":{\"text\":\"Interactive Frequency Analysis\"},\"height\":500},                        {\"responsive\": true}                    ).then(function(){\n",
              "                            \n",
              "var gd = document.getElementById('b0696e56-ced1-41e5-9180-2e7c23f7a0db');\n",
              "var x = new MutationObserver(function (mutations, observer) {{\n",
              "        var display = window.getComputedStyle(gd).display;\n",
              "        if (!display || display === 'none') {{\n",
              "            console.log([gd, 'removed!']);\n",
              "            Plotly.purge(gd);\n",
              "            observer.disconnect();\n",
              "        }}\n",
              "}});\n",
              "\n",
              "// Listen for the removal of the full notebook cells\n",
              "var notebookContainer = gd.closest('#notebook-container');\n",
              "if (notebookContainer) {{\n",
              "    x.observe(notebookContainer, {childList: true});\n",
              "}}\n",
              "\n",
              "// Listen for the clearing of the current output cell\n",
              "var outputEl = gd.closest('.output');\n",
              "if (outputEl) {{\n",
              "    x.observe(outputEl, {childList: true});\n",
              "}}\n",
              "\n",
              "                        })                };                            </script>        </div>\n",
              "</body>\n",
              "</html>"
            ]
          },
          "metadata": {}
        },
        {
          "output_type": "stream",
          "name": "stdout",
          "text": [
            "\n",
            "======================================================================\n",
            "HYBRID EDA COMPLETE!\n",
            "======================================================================\n",
            "\n",
            "SUMMARY:\n",
            "  Recordings analyzed: 60\n",
            "  Preprocessing: Partial\n",
            "  Signal quality: 60 recordings\n",
            "  Frequency analysis: 2 recordings\n",
            "  Windows created: 8705\n",
            "  Baseline model: EEGNeX ready\n",
            "\n",
            "NEXT STEPS:\n",
            "  1. Experiment with different preprocessing parameters\n",
            "  2. Implement custom EEG-GPT architecture\n",
            "  3. Compare performance against EEGNeX baseline\n",
            "  4. Scale to full dataset (mini=False)\n",
            "\n",
            "Analysis complete! Results stored in 'results' dictionary.\n",
            "Available keys: ['dataset', 'first_raw', 'preprocessors', 'preprocessing_success', 'signal_stats', 'frequency_results', 'windowed_data', 'dataloader', 'baseline_model', 'model_test_success']\n",
            "\n",
            "USAGE EXAMPLES:\n",
            "# Access loaded dataset\n",
            "dataset = results['dataset']\n",
            "\n",
            "# Access PyTorch dataloader\n",
            "dataloader = results['dataloader']\n",
            "\n",
            "# Access baseline model\n",
            "model = results['baseline_model']\n",
            "\n",
            "# Start training loop\n",
            "for batch_X, batch_y in dataloader:\n",
            "    predictions = model(batch_X)\n",
            "    # ... training code ...\n"
          ]
        }
      ]
    },
    {
      "cell_type": "code",
      "source": [],
      "metadata": {
        "id": "AxEze1VYVRS8"
      },
      "execution_count": null,
      "outputs": []
    }
  ]
}